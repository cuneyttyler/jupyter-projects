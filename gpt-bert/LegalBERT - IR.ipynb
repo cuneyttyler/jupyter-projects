{
 "cells": [
  {
   "cell_type": "code",
   "execution_count": 1,
   "id": "e519c62d",
   "metadata": {},
   "outputs": [],
   "source": [
    "import os, re\n",
    "import xml.etree.ElementTree as ET\n",
    "from sentence_transformers import SentenceTransformer\n",
    "import matplotlib.pyplot as plt"
   ]
  },
  {
   "cell_type": "markdown",
   "id": "3a099b19",
   "metadata": {},
   "source": [
    "# Preprocessing"
   ]
  },
  {
   "cell_type": "code",
   "execution_count": 2,
   "id": "8a4b0b0f",
   "metadata": {
    "scrolled": true
   },
   "outputs": [
    {
     "name": "stdout",
     "output_type": "stream",
     "text": [
      "0%\n",
      "2%\n",
      "5%\n",
      "7%\n",
      "10%\n",
      "12%\n",
      "15%\n",
      "18%\n",
      "20%\n",
      "23%\n",
      "25%\n",
      "28%\n",
      "30%\n",
      "33%\n",
      "36%\n",
      "38%\n",
      "41%\n",
      "43%\n",
      "46%\n",
      "48%\n",
      "51%\n",
      "54%\n",
      "56%\n",
      "59%\n",
      "61%\n",
      "64%\n",
      "66%\n",
      "69%\n",
      "72%\n",
      "74%\n",
      "77%\n",
      "79%\n",
      "82%\n",
      "84%\n",
      "87%\n",
      "90%\n",
      "92%\n",
      "95%\n",
      "97%\n"
     ]
    }
   ],
   "source": [
    "dataset_path = 'data/legal_dataset/corpus/fulltext/'\n",
    "raw_files = os.listdir(dataset_path)\n",
    "preprocessed_files_path = dataset_path + 'preprocessed/'\n",
    "preprocessed_files = os.listdir(preprocessed_files_path)\n",
    "\n",
    "def preprocess(files):\n",
    "    for i, file in enumerate(files):\n",
    "        try:\n",
    "            print('%d%%' % ((i/len(files) * 100))) if i % 100 == 0 else None\n",
    "\n",
    "            # open file with r+b (allow read and binary mode)\n",
    "            with open(dataset_path + file, 'r+b') as f:\n",
    "                # read entire content of file into memory\n",
    "                f_content = f.read()\n",
    "                # replace the desired part of the content using re.sub\n",
    "                f_content = re.sub(r'<catchphrases>(\\n.*)*</catchphrases>', '', f_content.decode())\n",
    "                f_content = re.sub('&eacute;','',f_content)\n",
    "                # return pointer to top of file so we can re-write the content with replaced string\n",
    "\n",
    "                # re-write the content with the updated content\n",
    "\n",
    "#             print('writing')\n",
    "            with open(preprocessed_files_path + file, 'wb') as f2:\n",
    "                f2.write(f_content.encode())\n",
    "        except Exception as e:\n",
    "            print(e)\n",
    "            print('%d, %s' % (i, file))\n",
    "    \n",
    "        \n",
    "def parse(files):\n",
    "    texts = ['judgment of Federal Magistrate Barnes dismissal application for judicial review of Refugee Review Tribunal decision',\n",
    "        'This is an example sentence', 'This is another example sentence', '''\n",
    "    Fenerbahçe Spor Kulübü (Turkish: [feˈnæɾbahtʃe], Fenerbahçe Sports Club) is a Turkish professional football club based in Istanbul, Turkey. They are the men's football department of Fenerbahçe SK, a major professional multi-sport club. Fenerbahçe, known informally as Fener, are one of the most successful and best supported football teams in Turkey, having never been relegated, and currently compete in the Turkish Super League, the Turkish Cup and UEFA Europa League.\n",
    "\n",
    "They are nicknamed Sarı Kanaryalar (Turkish for \"Yellow Canaries\") and play their home games at Şükrü Saracoğlu Stadium, their own traditional home ground in Kadıköy, Istanbul. The club's name translates as \"Lighthouse in the Garden\" and comes from the Fenerbahçe neighbourhood of the Kadıköy district in Istanbul.\n",
    "\n",
    "Fenerbahçe have won 19 Turkish Super League titles, 6 Turkish Cups and 9 Turkish Super Cups, among others.[4]\n",
    "\n",
    "In international club football, Fenerbahçe have won the Balkans Cup in 1968, which is marked as the first ever non-domestic trophy won by a Turkish football club. In UEFA competitions, Fenerbahçe have reached the quarter-finals in the 1963–64 UEFA Cup Winners' Cup and in the 2007–08 UEFA Champions League. The club's semi-final performance in the 2012–13 UEFA Europa League is marked as one of its greatest achievements in European competitions. Fenerbahçe are a member of the European Club Association.\n",
    "\n",
    "They are one of the most popular clubs in Turkey, and the most popular in Istanbul and Ankara.[5] Fenerbahçe have a large fanbase throughout the country, in Northern Cyprus,[6][7] Azerbaijan,[8] South Korea[9][10] and in the Turkish diaspora.[11][12] In their home at the Şükrü Saracoğlu Stadium, Fenerbahçe's average attendances have been among the highest in Turkey.[13][14] Fenerbahçe's longest-running and deepest rivalry is with their nearest major neighbours, Galatasaray, with matches between the two being referred to as Intercontinental derby, being considered to be one of the fiercest and most intense derbies in the world.[15][16] Matches against Beşiktaş are also derbys, but the rivalry is not as intense and fierce.\n",
    "\n",
    "    ''', '''\n",
    "    Galatasaray Spor Kulübü (Turkish pronunciation: [ɡaɫatasaˈɾaj ˈspoɾ kulyˈby], Galatasaray Sports Club) is a Turkish sports club based on the European side of the city of Istanbul in Turkey. Most notable for its association football department, the club also consists of various other departments including basketball, wheelchair basketball, volleyball, water polo, handball, athletics, swimming, rowing, sailing, judo, bridge, motorsport, equestrian,[1][2] esports, and chess.[3][4] Galatasaray S.K. is among the key members of the Galatasaray Community Cooperation Committee together with Galatasaray University and the prestigious Galatasaray High School.\n",
    "\n",
    "The football branch of Galatasaray has accumulated the most Süper Lig (22), Turkish Cup (18) and Turkish Super Cup (16) titles in Turkey,[5][6][7] thus making them the most decorated football club in Turkey, as those competitions are the top nationwide professional leagues and cups within the Turkish football system that is recognized and accounted for in accordance to the regulations set by the Turkish Football Federation[8] and UEFA.[9][10][11][12]\n",
    "\n",
    "In the year 2000 Galatasaray also took claim of the UEFA Cup title by defeating Arsenal F.C.[13][14] and the UEFA Super Cup, by defeating Real Madrid C.F.[15] These accomplishments makes Galatasaray the only Turkish football club to have reached that level of European success in the history of Turkish Football.\n",
    "\n",
    "The club's wheelchair basketball team won the Champions Cup in 2008, 2009, 2011, 2013 and 2014. They also won the Kitakyushu Champions Cup and became world champions in 2008, 2009, 2011, and 2012.[16][17] Galatasaray women's basketball team won the 2013–14 EuroLeague Women and FIBA Eurocup in 2009 and 2018.[18] Galatasaray men's basketball team claimed their first EuroCup championship after defeating Strasbourg in 2016.[19]\n",
    "\n",
    "\n",
    "    ''']\n",
    "    \n",
    "    for i,xmlfile in enumerate(files):\n",
    "        try:\n",
    "            print('%d%%' % ((i/len(files) * 100))) if i % 100 == 0 else None\n",
    "\n",
    "            tree = ET.parse(preprocessed_files_path + xmlfile)\n",
    "            root = tree.getroot()\n",
    "            text = ''\n",
    "            \n",
    "            for sentence in root.findall('sentences')[0].findall('sentence'):\n",
    "                text += sentence.text\n",
    "\n",
    "            texts.append(text)\n",
    "        except Exception as e:\n",
    "#             print(e)\n",
    "            pass\n",
    "\n",
    "    return texts\n",
    "\n",
    "# preprocess(raw_files)\n",
    "texts = parse(preprocessed_files)\n",
    "# texts[0]"
   ]
  },
  {
   "cell_type": "markdown",
   "id": "231aebf2",
   "metadata": {},
   "source": [
    "# SBERT Method 1"
   ]
  },
  {
   "cell_type": "code",
   "execution_count": 4,
   "id": "4b98a9be",
   "metadata": {},
   "outputs": [],
   "source": [
    "from sklearn.metrics.pairwise import cosine_similarity\n",
    "\n",
    "model = SentenceTransformer('bert-base-nli-mean-tokens') #'bert-base-nli-mean-tokens' 'nlpaueb/legal-bert-base-uncased' 'bert-base-uncased'\n",
    "\n",
    "document_embeddings = model.encode(texts[:1000])"
   ]
  },
  {
   "cell_type": "code",
   "execution_count": null,
   "id": "fbde7a06",
   "metadata": {},
   "outputs": [],
   "source": [
    "# scores = cosine_similarity(document_embeddings)\n",
    "# scores = scores[0]"
   ]
  },
  {
   "cell_type": "code",
   "execution_count": 6,
   "id": "7c2d18ff",
   "metadata": {},
   "outputs": [],
   "source": [
    "query = \"judgment of Federal Magistrate Barnes dismissal application for judicial review of Refugee Review Tribunal decision\"\n",
    "query_embedding = model.encode(query)\n",
    "query_embedding = query_embedding.reshape(1,-1)"
   ]
  },
  {
   "cell_type": "code",
   "execution_count": 7,
   "id": "c3429ace",
   "metadata": {},
   "outputs": [],
   "source": [
    "scores = cosine_similarity(query_embedding, document_embeddings)\n",
    "scores = scores.reshape(-1)\n",
    "# scores = scores[1:]"
   ]
  },
  {
   "cell_type": "code",
   "execution_count": 40,
   "id": "07965eba",
   "metadata": {},
   "outputs": [
    {
     "name": "stdout",
     "output_type": "stream",
     "text": [
      "0\n"
     ]
    }
   ],
   "source": [
    "print(scores.argmax())\n",
    "plt.plot(scores)\n",
    "plt.show()"
   ]
  },
  {
   "cell_type": "code",
   "execution_count": 8,
   "id": "da952cfc",
   "metadata": {},
   "outputs": [
    {
     "data": {
      "text/plain": [
       "(array([902,   3, 905,   4, 731,   1, 864,   2, 669, 737]), array([0.14845721, 0.1821603 , 0.27451792, 0.30216554, 0.30486718,\n",
       "       0.30494103, 0.30557644, 0.3224008 , 0.32298714, 0.32717836],\n",
       "      dtype=float32), '\\n INTRODUCTION \\n \\n1 The applicant (\"OMI\") holds Australian Patent No 775427 entitled \"A Single Use Syringe\" (the \"OMI patent\").The respondent (\"RTI\") is entitled to exploit the invention which is the subject of Australian Patent No 701878, entitled \"Tamperproof Retractable Syringe\" (the \"RTI patent\").2 In letters dated 5 October 2004 and 24 March 2006, RTI\\'s legal advisers asserted or implied that OMI was infringing, or proposing to infringe, RTI\\'s intellectual property and other rights including, in particular, those held in connection with the RTI patent.These allegations apparently arose out of the proposed exploitation by OMI of the OMI patent.OMI commenced proceedings for a declaration that RTI had made unjustifiable threats and for interlocutory and permanent injunctive relief.I found that the letter of 5 October 2004 contained unjustifiable threats and declared accordingly.I found that the letter of 24 March 2006 did not contain unjustifiable threats.In the course of these proceedings OMI indicated that it proposed to seek a declaration of non-infringement pursuant to s 125 of the Patents Act 1990 (Cth) (the \"Act\").A prayer for such relief appears in OMI\\'s second further amended statement of claim.However the application seems not to have been amended.OMI should seek leave to amend the application to add such a prayer.THE ACT \\n \\n3 In Part 2 of Chapter 11 of the Act, ss 124 to 127 provide as follows:\\n 124 Interpretation \\n \\n In this Part: \\n patentee includes an exclusive licensee.\\n \\n 125 Application for non-infringement declaration \\n \\n \\n (1) A person who wishes to exploit an invention may apply to a prescribed court for a declaration that the exploitation of the invention would not infringe a claim of a particular complete specification.\\n \\n (2) An Application may be made: \\n \\n \\n(a) at any time after the complete specification has become open to public inspection; and (b) whether or not the nominated person or patentee has made any assertion to the effect that the exploitation of the invention would infringe the claim.\\n \\n \\n \\n (3) The nominated person or patentee must be joined as a respondent in the proceedings.\\n \\n \\n \\n126 Proceedings for non-infringement declarations \\n \\n \\n (1) A prescribed court must not make a non-infringement declaration unless a patent has been granted in respect of the relevant invention and; \\n \\n \\n(a) the applicant for the declaration: (i) has asked the nominated person or patentee in writing for a written admission that the proposed exploitation would not infringe a claim of the complete specification; and (ii) has given the nominated person or patentee full written particulars of the proposed exploitation; and (iii) has undertaken to pay a reasonable sum for the nominated person\\'s or patentee\\'s expenses in obtaining advice about whether the proposed exploitation would infringe the claim; and (b) the nominated person or patentee has refused or failed to make the admission; and (c) if the patent is an innovation patent --- the patent has been certified.\\n \\n \\n (2) The validity of a claim cannot be questioned in proceedings for a non-infringement declaration.\\n \\n (3) The costs of all parties in proceedings for a non-infringement declaration must be paid by the applicant for the declaration unless the court otherwise orders.\\n \\n \\n \\n127 Effect of non-infringement declarations \\n \\n \\n If: \\n \\n (a) a nominated person or patentee has given a person a written admission that the exploitation of an invention would not infringe a claim, or a prescribed court has made a non-infringement declaration in respect of an invention; and \\n \\n (b) the patentee later gets an injunction restraining the person from exploiting the invention as specified in the admission, or the declaration is revoked; \\n \\n the person is not liable: \\n \\n (c) to account to the patentee for any profits, made by the person before the date on which the injunction was granted or the declaration was revoked, from the exploitation of the invention as specified in the admission or declaration; or \\n \\n (d) to pay damages for any loss suffered by the patentee before that date as a result of that exploitation.\\n \\n \\n \\n A CONSTRUCTION QUESTION \\n \\n4 There is some superficial difficulty in understanding these sections.Although OMI asserts that it proposes to exploit its patent rights, and that the s 125 application relates to such proposed exploitation, it submits that even if such proposed exploitation were not of its patent rights, it would be entitled to a declaration.RTI submits that s 125 relief is only available if the proposed exploitation is of OMI\\'s patent rights.5 The regime established by Part 2 contemplates there being two parties, each claiming certain rights pursuant to the Act.The person identified in subs 125(1) is a person who is entitled to exploit an invention as defined in the dictionary.I infer that such invention must be the subject matter of a patent or a patent application.I will refer to that person as the \"applicant\".The person described in subs 125(2) as the \"nominated person or patentee\" is a person who holds a patent, or has applied for a patent and filed a complete specification.I will refer to that person as the \"respondent\".It is important to note that the word \"invention\" is used to describe the subject matter of the applicant\\'s rights.On the other hand, the subject matter of the respondent\\'s rights is described as \"a claim of a particular complete specification\".6 The applicant will be entitled to apply under s 125 if he or she wishes lawfully to exploit the relevant invention.However subs 126(1) provides that no declaration may be made unless and until a patent has been granted for the invention.In my view the patent referred to in subs 126(1) and para 126(1)(c) is that which relates to the invention which the applicant proposes to exploit.The reference in subs 126(1) to the \"nominated person or patentee\" is to the respondent and not to the holder of such patent.The use of the words \"invention\" and \"claim of a particular complete specification\" in subs 125(1) has led me to that view.However there is another reason for it.If s 126 were interpreted as referring to a patent held by the respondent, the operation of Part 2 would be greatly reduced.An applicant would not be able to obtain a declaration until after the respondent\\'s patent had been granted (and, in the case of an innovation patent, certified).He or she could not safely exploit his or her invention for a period which might be quite lengthy.On the other hand there are good policy reasons for limiting the availability of relief under Part 2 to a person who wishes to exploit a patent which has been granted, excluding mere applicants whose rights have not been finally determined.OMI must demonstrate an intention to exploit the OMI patent.MATTERS IN ISSUE \\n \\n7 Section 126 requires that an applicant:\\n \\n• ask the respondent for an admission of non-exploitation;\\n \\n• give the respondent full particulars of the proposed exploitation; and\\n \\n• undertake to pay the respondent\\'s reasonable expenses in obtaining appropriate advice.8 It is also necessary that the applicant\\'s patent have issued and that the respondent has refused to make the relevant admission.9 At the hearing RTI did not dispute any of these matters, the only matters in dispute being:\\n \\n• whether OMI has established that it proposes to exploit the OMI patent; and\\n \\n• whether such exploitation would infringe the RTI patent.THE PROPOSED EXPLOITATION \\n \\n10 OMI\\'s proposed exploitation is particularized in paras 7 and 8 of the second further amended statement of claim as follows:\\n \\n \\n 7.The Applicant has given the Respondent full written particulars of its proposed exploitation of the Applicant\\'s invention.\\n \\n \\n \\n Particulars \\n \\n The Applicant gave particulars of its proposed exploitation: \\n \\n \\n \\n \\n \\n A by delivering to the Respondent samples of the Applicant\\'s Invention pursuant to the order of Dowsett J made on 20 October 2006 on 25 October 2006 [sic] and as Annexure 2 to the affidavit of Gareth John Jenkins sworn 25 June 2007; \\n \\n B by way of disclosure required under the Corporations Act 2001 (Cth) and listing rules of the Australian Stock Exchange on, inter alia, 25 February 2005, 3 May 2005, 15 September 2005, 21 October 2005, 10 November 2005, 16 November 2005, 25 November 2005, 21 December 2005, 23 December 2005, 9 March 2006, 16 March 2006, 31 May 2006 and 23 November 2006; \\n \\n C further and alternatively to paragraph B above from the Applicant\\'s Solicitors to the Respondent\\'s Solicitors dated 6 July 2007.\\n \\n \\n \\n \\n 8.The Respondent knew the contents of the disclosures referred to in the particulars to the preceding paragraph: \\n \\n \\n \\n \\n (a) by reason of those disclosures being made to the world at large and being available for viewing at all material times on the website of the Australian Stock Exchange at the web address www.asx.com.au; \\n \\n (b) at least in relation to the disclosures dated 15 September 2005, 25 November 2005, 9 March 2006 and 23 December 2005 by reason of the Respondent\\'s lawyer, Mr Monty L Ross having read those documents for the purposes of drafting [the letter from RTI\\'s lawyers to OMI dated 24 March 2006] ; \\n \\n (c) by reason of having exhibited them (other than the disclosure date 23 November 2006) to the affidavit of Ms Lawson (a solicitor employed by the firm of solicitors representing the Respondent) sworn 11 May 2007.\\n \\n \\n \\n\\n11 Subparagraph 126(1)(a)(ii) requires notification of the way in which an applicant proposes to exploit the relevant invention, thus giving the respondent an opportunity to determine whether the proposed exploitation will infringe a claim in the relevant complete specification.It is difficult to see how particulars A and B in para 7 could, by themselves, satisfy that requirement.The samples identified in particular A were presumably provided in connection with the proceedings as originally constituted and not as notification of any proposed exploitation.The various disclosures identified in particular B were provided to the stock exchange and not to RTI as required by the section.In any event, they disclose an intention to market syringes but do not identify those syringes.The conduct specified in particulars A and B was neither intended, nor appropriate, to satisfy the statutory requirement.However the letter of 6 July 2007 (particular C) was so intended, and was appropriate, to do so.Relevantly, it stated:\\n We refer to the hearing before Justice Dowsett on 26 June 2007 and to s 126 of the Patents Act 1990 (Cth) (\"Act\").We enclose: \\n \\n (1) a copy of our client\\'s further amended statement of claim which makes reference to our client\\'s Australian Patent No 775427; and \\n (2) a copy of our client\\'s Australian Patent No 775427 (\"the Patent\").\\n \\n \\nIf you require further samples of the invention as provided to you in October 2006, please let us know.We advise that our client intends to exploit the invention referred to in the Patent in the following ways: \\n \\n (a) having the invention manufactured in China pursuant to the terms of its manufacturing agreement (a copy of which you have); \\n (b) and also: \\n \\n• importing the invention into Australia; • distributing the invention within Australia; • selling the invention within Australia in commercial quantities; and • keeping the invention for these purpose.\\n \\n pursuant to the terms of a Distribution Agreement between OMI and Terumo Corporation dated 31 May 2006 (\"Distribution Agreement\").\\n \\n In relation to our client\\'s proposed exploitation of its invention: \\n \\n (a) we understand that your client is aware of the arrangements between our client and Terumo Corporation for the distribution and sale of our product as Mr Shaw of your client has spoken to representatives of Terumo Corporation about this matter; \\n \\n (b) our client\\'s announcement to the Australian Stock Exchange with respect to the distribution agreement is annexed to the affidavit of Elizabeth Janet Lawson dated 11 May 2007, which was filed by your client in these proceedings; and \\n \\n (c) your client was in no doubt that the relevant invention was that described in our client\\'s Patent as it discovered a copy of that document as being relevant to the issues in the proceedings prior to the recent amendment by our client to its statement of claim to refer to the Patent.\\n \\n \\nPursuant to s 126(1)(a)(i) of the Act , by this letter, we formally ask your client for a written admission that the proposed exploitation of the invention described in the Patent by our client would not infringe a claim of the complete specification of your client\\'s Australian Patent No AU-A-59724/98 (\"Respondent\\'s patent\").We note with respect to this request that your client through Senior Counsel advised the Court on 26 June 2007 (see line 15 on page 11 of transcript) that your client does not assert that our client\\'s invention infringes its patent.Pursuant to s 126(1)(a)(iii) of the Act , our client offers to pay your client\\'s reasonable expenses in obtaining advice about whether the proposed exploitation of the Patent would infringe any claim of the Respondent\\'s patent.We note with respect to our client\\'s offer to pay reasonable costs that your client: • has had samples of our client\\'s inventions since 25 October 2006 (samples were collected by Andrea Severa of your office from Lesley Symons of your office at about 2.20 pm on that day); \\n \\n \\n \\n• has had access to the Patent since at least 28 March 2007 (as evidenced by the Respondent\\'s List of Documents dated 30 March 2007); and • as stated earlier, your client has submitted to the Court that it does not assert infringement.12 The letter makes it reasonably clear that OMI proposes to manufacture, import, distribute and sell syringes and keep stocks for such purposes, purportedly in exploitation of the OMI patent, such syringes being in accordance with the samples provided on 25 October 2006 as identified in particular A.EVIDENTIARY ISSUES \\n \\n13 OMI relies upon two affidavits by Paul John Davis, an engineer and patent attorney.Mr Davis describes his expertise as follows:\\n My expertise relates to the preparation, filing and prosecution of patents, trademarks and designs.In particular, my expertise relates to the mechanical engineering field.The mechanical engineering field includes many different types of products, such as medial [sic] devices.I personally have had experience in the drafting, prosecution and/or review of medical devices in relation to patent applications.Specifically I have had dealings with spinal implants, electro-surgical return electrodes, infusion apparatus and retractable syringes.14 Mr Davis holds the degrees of Bachelor of Engineering (Manufacturing Systems), Bachelor of Business Marketing (Marketing) and a Diploma of Export Management.Counsel for RTI initially objected to Mr Davis\\'s evidence upon the basis that he is not a properly qualified expert in the sense that he is not a person skilled in the relevant art.However, as I understand it, counsel subsequently resiled from that position, accepting that his concerns go to weight rather than to admissibility.15 In connection with issues of novelty, inventiveness and construction of patents, courts frequently rely upon the evidence of skilled addressees.Such a person would presumably be a person of ordinary skill in the relevant art, possessed of the common general knowledge in that art at the relevant time.See, for example, Freeman v TJ and FL Pohlmer Pty Ltd [1994] FCA 1568 ; (1994) 30 IPR 377 at 381 .In connection with novelty and inventiveness, the focus upon such a \"skilled addressee\" is designed to identify objectively the relevant prior art base and the obviousness of any development going beyond that base.I am not presently concerned with such issues.Where words have a special meaning in the relevant art, it may be necessary that expert evidence concerning such meaning be given by a person skilled in the art.However there is no suggestion of that in the present case.RTI does not dispute the construction of the patent advanced by Mr Davis.Where the words are common technical or scientific words, not limited to use in the particular art, a wider class of persons may be competent to give such evidence.Further, the question of construction is ultimately for the Court.16 Section 79 of the Evidence Act 1995 (Cth) provides:\\n If a person has specialized knowledge based on the person\\'s training, study or experience, the opinion rule does not apply to evidence of an opinion of that person that is wholly or substantially based on that knowledge.17 In his evidence Mr Davis seeks to compare with the RTI patent, particular samples of the product which OMI proposes to market.Mr Davis also seeks to compare those samples with the OMI patent.Counsel for RTI correctly points out that the diagrams attached to Mr Davis\\'s reports do not precisely depict the OMI samples which are in evidence.However the differences do not seem to be significant.I will discuss them in more detail at a later stage.Mr Davis\\'s evidence is obviously based on his reading of the patent in light of his training and experience.That evidence may assist me to compare the samples which are exhibited to Mr Jenkins\\' affidavit filed on 25 June 2007 with the claims of the OMI patent and the RTI patent.However it is for me to decide all questions of fact.Mr Davis\\'s evidence can do little more than offer an explanation as to the way in which each \"feature\" in the respective patents may or may not be present in the OMI samples.18 In the course of argument counsel for OMI referred to a number of diagrams which purport to depict RTI\\'s invention, or a particular embodiment of it.Those drawings were handed to me as part of OMI\\'s submissions.They offer a simplified version of the drawings which appear in the RTI patent, which drawings are unusually difficult to understand.However I am conscious of the need to avoid treating the first-mentioned drawings as evidence rather than submissions.19 Counsel also handed up various additional samples of OMI\\'s product.Counsel for RTI points out that the proposed exploitation is by manufacture and supply of syringes identical to those exhibited to Mr Jenkins\\' affidavit, not those handed up in the course of submissions.I have treated the latter samples as being provided for my convenience, rather like copies of affidavits, rather than as, themselves, being evidence of the proposed exploitation.THE PATENTS \\n \\n20 The OMI patent is said to be for a \"single-use syringe\".The RTI patent is said to be for a \"tamper-proof retractable syringe\".Clearly, each patent is for a retractable syringe for single use.Each syringe consists of a hollow barrel with, at one end (the \"forward end\"), a needle capable of piecing skin and underlying tissue for the purpose of injecting fluid.The needle is hollow to facilitate that purpose.At the other end of the barrel (the \"rear end\") is a plunger which is forced into the barrel for the purpose of expelling fluid held in the barrel into, and out of, the needle.It is common knowledge that such a needle may become infected as a result of its introduction into a patient\\'s body, creating the risk that, after withdrawal, it may pierce the skin of another person, possibly transmitting the infection.The \"retractable\" element of each invention is designed to facilitate the safe storage of the needle after use in order to avoid that risk.In each case the needle is \"spring-loaded\" so that after completion of the injection, it will retract into a channel within the plunger.21 Mr Davis has prepared tables in which he identifies the \"features\" of the relevant claims in the patents and states his views as to the extent to which the OMI samples reflect such features.These tables are a useful focus for my consideration of the matter.For that reason I propose to incorporate them into my reasons and attach them as schedules.The table concerning the OMI patent will be attachment 1.The table dealing with the RTI patent will be attachment 2.At a later stage, I shall indicate the extent to which I accept statements of fact contained in the tables.THE OMI SAMPLES \\n \\n22 As I have observed, the products which constitute OMI\\'s proposed exploitation are defined by the samples which are exhibited to Mr Jenkins\\' affidavit.I should describe them in some detail.There are four samples, each designed to deliver an identified maximum volume of fluid, namely 1 ml, 3 ml, 5 ml or 10 ml.Mr Davis apparently examined only the 3 ml and 10 ml syringes.However the syringes are of simple design and largely made of transparent material.I am satisfied that all four samples are of the same design.23 Each barrel is marked with the words \"Single Use Only\", calibrations up to the relevant maximum volume and some other marks.In each case there is, at the rear end of the barrel, a cross-member, apparently intended to assist the operator in gripping the syringe and depressing the plunger.At the rear end of the plunger is a disc, apparently intended to be the point at which the thumb applies pressure to the plunger.The plunger consists of four \"fins\" which are at right angles.A tubular space runs up the centre of the plunger for most of its length.This is the space into which the needle retracts.At the forward end of the plunger is a rubber cap.When it is removed one can see the open end of the tubular space to which I have referred.In the centre of the cap, viewed from the inner (or rear) side, is a circular indentation or perforation.Mr Davis\\'s evidence demonstrates that the cap is susceptible of being broken at this point.I accept that evidence.24 The forward end of the barrel is conical in shape, but fairly flat, with the apex of the cone cut off in order to allow the needle and needle holder to pass through it.Adopting language similar to that used in the RTI patent, I shall describe this truncated core as the \"transitional zone\" of the barrel.At the forward end of the transitional zone there is a cylindrical extension of the barrel which I will refer to as the \"nose\".It is generally of the same diameter as the \"cut\" end of the cone, save that there is a raised edge around it at the point at which it joins the cone.This ridge acts as a locking mechanism to hold a protective sheath which is fitted over the needle prior to use.At the end of the nose a further plastic cylinder of narrower diameter protrudes.This is the end of the needle holder.A demonstration during submissions showed that it retracts with the needle.The needle protrudes from the needle holder.25 The needle and needle holder extend back into the barrel.The needle holder terminates in a white pointed segment, a little like an arrowhead.It is apparently made of plastic.It appears to pierce the centre of a white disc which sits across the barrel.The point of the arrowhead protrudes back into the rear section of the barrel.Mr Davis\\'s evidence shows that the arrowhead is attached to the disc by a frangible connection, that is, one which can be relatively easily broken.A spring is fitted around the needle holder, extending from the end of the nose nearest the transitional zone to the white disc.The spring is compressed, being fixed at the rear of the nose, and at the other end, held in place by the white disc.The disc is, itself, held in place in the barrel by a lip which has been built into the inside surface of the barrel.This prevents the disc from moving to the rear of the barrel under the force of the coiled spring.26 On the rear surface of the white disc (that is the side away from the nose), and to one side of it, a small nib protrudes in a rearward direction.As the plunger approaches the forward end of the barrel the cap on the plunger engages with the nib, causing the disc to tilt and move forward.This causes the frangible connection between the arrowhead and the rest of the disc to break, releasing the spring.The released spring pushes the arrowhead and attached needle back through the cap and into the tubular channel in the plunger, while the plunger pushes the disc forward into the transitional zone.EXPLOITATION OF THE OMI PATENT \\n \\n27 OMI seeks only to demonstrate exploitation of claim 1 of the OMI patent.Subject to certain qualifications I accept the table of \"features\" of the OMI patent prepared by Mr Davis and his comments concerning the extent to which the OMI samples reflect those features.I have previously referred to the drawings of the OMI product included in Mr Davis\\'s reports and to the fact that they differ from the exhibited samples.The drawings show the spring as extending from the forward end of the nose to a point some distance short of the white disc.As I have said, in the samples one end of the spring runs from the rear of the nose to the white disc.Counsel for RTI does not suggest that these differences are sufficient to justify the conclusion that the samples are not within claim 1 of the OMI patent.He rather relies upon them as undermining Mr Davis\\'s evidence.I do not see these variations as having any present significance.The relevant feature (or integer) of claim 1 of the OMI patent is the requirement in para 1(c) that there be a \"biasing means about the needle to bias the needle into the barrel\".In this sense the word \"biasing\" means \"a directing influence\" (see Shorter Oxford English Dictionary), in other words, a means to direct the needle into the barrel.The claim says nothing about where the spring is to be mounted other than that it be \"about the needle\".28 It follows that the samples fall within the terms of claim 1 of the OMI patent.Their manufacture, import, distribution, sale or holding in stock would be an exploitation of the invention which is the subject of that patent.INFRINGEMENT OF THE RTI PATENT \\n \\n29 I turn to the question of whether the samples infringe the RTI patent.Mr Davis\\'s table sets out the \"features\" of claim 1 of the RTI patent.In its original form the schedule is attached to his affidavit of the 25 June 2007.However erroneous material was included in it.The corrected version is exhibited to his affidavit filed on 28 March 2008.Although I see no reason to doubt its correctness, it is not necessary that I adopt the whole of the document.The case has been conducted upon the basis that there are three specific \"features\" (or integers) of claim 1 of the RTI patent which are not found in the samples.These appear in features 4, 6 and 7 as identified by Mr Davis.30 The RTI patent describes a \"one piece body\", comprising an elongated barrel and a nose with a transitional zone connecting the barrel and the nose.The nose has a reduced cross-sectional area relative to the barrel.The preferred embodiment, as identified in the drawings in the RTI patent, demonstrates a tapering of the body from the constant diameter of the barrel to the reduced diameter of the nose.This is the transitional zone.The nose also appears to be in two stages, that nearer the transitional zone being wider than that which is located further forward.As with the OMI samples, the needle holder seems to protrude past the end of the nose.Mr Davis\\'s feature 4 stipulates the inclusion of a retraction mechanism \"sealingly disposed in the nose\".The adverb \"sealingly\" may be unique to patents.It presumably means that the retraction mechanism is sealed in the nose or seals the nose.The retraction mechanism comprises a needle holder, a passage-way by which fluid flows into the needle and a spring designed to force the needle into the retraction cavity in the plunger.Clearly enough, in OMI\\'s samples the retraction mechanism is not located in the nose, save for part of the needle holder and, possibly, the forward end of the spring.The rest of the retraction mechanism is in the barrel or in the short transitional zone.This is the first difference between claim 1 of the RTI patent and the OMI samples.31 Secondly, feature 6 refers to a retainer member which holds the needle holder and spring in place by \"sliding engagement\" of the said retainer member with the inwardly-facing surface of the nose.This was described in argument as the use of friction to hold in place the retainer member, and therefore the needle holder and spring.In the preferred embodiment an annular member surrounds the head of the needle holder and may be welded to it by a frangible connection.However it is held in place by friction, possibly assisted by the use of an adhesive.In the OMI samples, the white disc is held in place by the lip which is moulded into the inside of the barrel.The force of the coiled spring holds it against the lip.32 Thirdly, the RTI patent provides that the head of the plunger should move through the transitional zone in the nose to release the needle holder from the retainer member.In the OMI samples the head of the plunger does not move through the transitional zone, although the white disc is substantially accommodated within it after it has been displaced from its original position.33 These three variations from the integers of claim 1 of RTI\\'s patent are, prima facie, sufficient to justify a finding that the specimens do not infringe that claim.Counsel for RTI has not submitted to the contrary.Claims 2 to 16 are dependent upon claim 1.If there is no infringement of claim 1 there will be no infringement of any of the others.Claims 17 to 36 are method claims.Claims 18 to 23 are dependent upon claim 17.Claims 25 to 35 are dependent upon claim 24.Claims 17, 24 and 36 are for methods of assembly of a retractable syringe in which the needle holder is held by a retainer member which is itself held in place by friction.Each also contemplates the needle holder and the spring being contained in the nose.The absence of these features from the OMI samples demonstrates that any method of assembly adopted by OMI will not infringe claims 17 to 36.34 OMI also points out that the RTI patent expressly disavows certain aspects of the OMI design embodied in the samples.These aspects include:\\n \\n• use of a diaphragm at the end of the plunger which is penetrated by the needle holder rather than use of a stopper which is dislodged;\\n \\n• placing the retainer member in a position in the barrel which does not have a reduced \"barrel area\"; and\\n \\n• use of an \"engaging flange\" to secure the retraction mechanism.35 It is not necessary to consider the present relevance of these disavowals.OTHER MATTERS \\n \\n36 Counsel for RTI asserts that the 3 ml syringe provided in the course of argument for my assistance is slightly different from the 3 ml syringe exhibited to Mr Jenkins\\' affidavit.He says that the former has a ridge on the outside of the barrel which is absent from the latter, and that the barrel width of the former is slightly tapered.I am able to discern the ridge but not the taper.In any event I see no significance in these observations, and counsel has not sought to demonstrate any such significance.THE DECLARATION AND COSTS \\n \\n37 It follows that there should be a declaration pursuant to s 125.RTI submits that any declaration should be limited to 3 ml and 10 ml syringes corresponding precisely to those exhibited to Mr Jenkins\\' affidavit.It also seeks to exclude reference to manufacture in China upon the basis that the RTI patent may not be enforceable in that country.I see no justification for this approach.I have found that all four syringes are of the same design.It follows that none of them infringes the RTI patent, and all are in exploitation of the OMI patent.As to manufacture in China, I am presently concerned only with whether OMI\\'s proposed conduct constitutes an exploitation of the OMI invention and whether such exploitation would infringe the RTI patent.Causing manufacture to occur in China is, in my view, an exploitation of the invention in the OMI patent, regardless of the legal position in China.As to the question of infringement, if the RTI patent has no standing in China, then that is another reason for a declaration of non-infringement by such manufacture.38 I will adjourn the matter to allow the parties to bring in a draft declaration.I will hear submissions as to costs.I certify that the preceding thirty-eight (38) numbered paragraphs are a true copy of the Reasons for Judgment herein of the Honourable Justice Dowsett.Associate:\\n\\nDated: 29 July 2008\\n\\n Counsel for the Applicant: Mr G A Thompson SC and Mr J Horton \\n \\n Solicitor for the Applicant: Clayton Utz \\n \\n Counsel for the Respondent: Mr D M Logan \\n \\n Solicitor for the Respondent: Davies Collison Cave \\n\\n Date of Hearing: 1 April 2008 \\n \\n Date of Judgment: 29 July 2008 \\n\\n \\n \\n \\n \\n \\n \\n \\n \\n \\n \\n \\n \\n\\n \\n\\n \\n AustLII: Copyright Policy | Disclaimers | Privacy Policy | Feedback \\n URL: http://www.austlii.edu.au/au/cases/cth/FCA/2008/1102.html \\n \\n ')"
      ]
     },
     "execution_count": 8,
     "metadata": {},
     "output_type": "execute_result"
    }
   ],
   "source": [
    "scores.argsort()[:10], scores[scores.argsort()[:10]],texts[756]"
   ]
  },
  {
   "cell_type": "code",
   "execution_count": 10,
   "id": "1f8bc30a",
   "metadata": {},
   "outputs": [
    {
     "data": {
      "text/plain": [
       "(array([650, 131, 177, 514, 589, 318,  27, 127, 644,   0]), array([0.78481853, 0.7849215 , 0.78616905, 0.79047096, 0.7966834 ,\n",
       "       0.79779863, 0.7982595 , 0.7989042 , 0.80154324, 1.0000001 ],\n",
       "      dtype=float32), \"\\n \\n1 This arises as the consequence of a notice to appeal against a judgment of a Federal Magistrate (McInnis FM) dated 11 December 2006 dismissing an application for review of an earlier decision of the Federal Magistrates Court on 13 November 2006.The earlier application to the Federal Magistrates Court sought judicial review of a decision of the Refugee Review Tribunal (the Tribunal) dated 11 July 2003.In view of the need for leave to appeal to be granted, the 'appellants' are described as 'applicants' in these reasons.At the hearing, the application for leave to appeal was dismissed.These are my reasons for that decision.Applicants' claims \\n \\n2 The applicants are a husband, wife and daughter and are citizens of Fiji with Indian ethnic origin.They arrived in Australia on 25 November 2002 and jointly applied for protection visas on 24 December 2002 which were refused by a delegate of the first respondent on 30 January 2003.Federal Magistrate's reasons \\n \\n3 On 20 June 2006 the applicants filed an application with the Federal Magistrates Court to review the decision of the Tribunal.On 13 November 2006, the Federal Magistrate heard an application for summary judgment against the applicants on the grounds that the applicants' application was not filed within the timeframe provided for by s 477 of the Migration Act 1958 (Cth) (the Act).The applicants did not attend the court on that day, and the Federal Magistrate proceeded to make an order that the application be dismissed in their absence pursuant to r 13.03A of the Federal Magistrates Court Rules 2005 (Cth).4 On 17 November 2006, the first applicant applied to have the matter reinstated and annexed a medical certificate dated 11 November 2006, purporting to explain the applicants absence.The application for reinstatement was considered and dismissed in the Federal Magistrates Court on 11 December 2006.It is this decision to which the current appeal relates.5 In dismissing the application, the Federal Magistrate did not accept that a reasonable excuse for non-attendance had been provided, stating:\\n \\n 'In my view, the medical evidence, combined with the evidence given this day by the Applicant is insufficient to justify the court reaching a conclusion that there is a reasonable excuse for non-attendance by the First Applicant and indeed by the Second Applicant.' \\n\\n6 In the alternative, the Federal Magistrate considered the competency of the applicants' claims and concluded that given the application to the Court was not filed until 20 June 2006, it fell outside of the statutory timeframe as provided for by s 477 of the Act so that there was no arguable case.The Federal Magistrate refused the application for reinstatement upon reaching each of these conclusions.Notice of objection to competency \\n \\n7 I note that in examining the decision on appeal, despite the obvious breach of time limitations, his Honour had held that the application did not contain grounds to support the relief sought and concluded that the applicants did not have an arguable case.This decision is correctly described as interlocutory, and as such this Court must first grant leave to the applicants prior to hearing an appeal pursuant to s 24(1A) of the Federal Court of Australia Act 1976 (Cth).No such application for leave has been received in this instance.On 13 March 2007 the respondent filed a notice of objection to competency citing these grounds.8 Without seeking the appropriate leave to do so, the applicant filed a notice of appeal in this Court on 28 December 2006 which raises the following grounds: (a) the decision of the Tribunal was made without jurisdiction or is affected by an error of jurisdiction; (b) the decision of the Tribunal being affected by jurisdictional error is not a decision to which s 474 of the Act applies; and (c) the decision was a denial of procedural fairness and natural justice.9 In the circumstances, particularly of the applicants being unrepresented, I treated the notice of appeal as an application for leave to appeal.I therefore did not allow the notice of objection to competency.Reasons \\n \\n10 The hearing of the 'notice of appeal' was set down for 1 May 2007 at 10.00 am.On 30 April 2007 a medical certificate reading as follows was faxed to the Court:\\n \\n '30 April 2007 \\n \\n To Whom it May Concern: \\n \\n This is to certify [the first applicant] attended Complete Care Medical Centre on 30 Apr 2007 and he is unfit to attend court from 30/04/07 to 02/05/07 (inclusive) due to severe lower back pain.\\n \\n Dr Thurairajan Vyravipillai \\n Provider No.2043179T' \\n\\n11 My Associate telephoned the mobile telephone number listed for the first applicant on the record of the Court.It was answered by a person purporting to be a cousin of the first applicant.He said that he was standing next to the bedside of the first applicant.The Associate advised that the Court would continue to convene at the appointed time on 1 May 2007 and would telephone the first applicant at that time on the same mobile telephone number.12 On the convening of the Court on 1 May 2007 a telephone connection was attempted with the first applicant's nominated mobile telephone number.This was attempted on two occasions in the presence of the Court.The number was not answered.A message was left requiring the telephone holder to call the Court's nominated telephone number.13 The following observations may be made in relation to this medical certificate:\\n \\n (a) it bears at the top of the page a reference to the date of 19 January.No explanation is before the Court as to why that date appears when the relevant Court officer states it was duly received on 30 April 2007;\\n (b) the terms of the certificate state only that the first applicant's disability of severe lower back pain makes him unfit to attend court between certain dates.It does not state that he is otherwise unfit or that he cannot attend court after those dates;\\n (c) the certificate has been sent without any accompanying telephone inquiry by the first applicant to ascertain whether it has been duly received and whether he is excused from attendance; \\n (d) the delivery of the certificate and the failure by the first applicant to make any inquiry at the court replicate the circumstances before the Federal Magistrate.Consequently, the first applicant was on notice of the view which may be taken of such conduct;\\n (e) the certificate does not explain anything in relation to the health of the second applicant; and\\n (f) the failure to answer the mobile phone at the time of the appointed court hearing following the arrangements which had been made for that to occur can be inferred as being a prima facie deliberate attempt by the first applicant not to communicate with the Court in the circumstances.\\n\\n14 The relevant rule in the Federal Court Rules 1979 (Cth) (FCR) is O 52 r 38A(1) which reads:\\n \\n '38A \\n \\n \\n (1) If a party is absent when an appeal is called on for hearing, the Court may: \\n \\n \\n (a) order that the hearing not proceed unless the appeal is again set down for hearing or such other steps are taken as the Court directs; or \\n (b) adjourn the hearing; or \\n (d) proceed with the hearing, either generally or in relation to any claim for relief in the appeal.' \\n\\n15 At the hearing I put to the first respondent's counsel that the hearing could be adjourned to a date after 2 May 2007, namely, Friday, 4 May 2007.Counsel responded that in circumstances where the first applicant was on notice of the possible effect of his conduct in failing to communicate with the Court (other than by providing a medical certificate), made it inappropriate for that course to be followed.I agreed.16 I therefore proceeded with the hearing in accordance with FCR O 52 r 38A(1)(d).17 In my opinion the decision of his Honour, the Federal Magistrate is not attended with sufficient or any doubt to warrant it being reconsidered.He was not persuaded on the evidence that there was a reasonable excuse for the applicants' non-attendance at the hearing.There was appropriate evidence on which he could reach that view.Additionally he was satisfied that the application was out of time and that time could not be extended pursuant to s 477(1) of the Act.18 I am unable to perceive any error of law in that second conclusion.19 It followed, in my view, therefore that his Honour was correct to dismiss the application.Conclusion \\n \\n20 For the above reasons, the application for leave to appeal was dismissed.I certify that the preceding twenty (20) numbered paragraphs are a true copy of the Reasons for Judgment herein of the Honourable Justice Nicholson.Associate:\\nDated: 3 May 2007\\n\\n\\n No appearance by the Applicants \\n \\n Counsel for the Respondent: K Miller \\n \\n Solicitor for the Respondent: Australian Government Solicitor \\n \\n Date of Hearing: 1 May 2007 \\n \\n Date of Judgment: 1 May 2007 \\n\\n \\n\\n \\n AustLII: Copyright Policy | Disclaimers | Privacy Policy | Feedback \\n URL: http://www.austlii.edu.au/au/cases/cth/FCA/2007/636.html \\n \\n \")"
      ]
     },
     "execution_count": 10,
     "metadata": {},
     "output_type": "execute_result"
    }
   ],
   "source": [
    "scores.argsort()[-10:], scores[scores.argsort()[-10:]],texts[644]"
   ]
  },
  {
   "cell_type": "code",
   "execution_count": 11,
   "id": "75d748b0",
   "metadata": {},
   "outputs": [
    {
     "name": "stderr",
     "output_type": "stream",
     "text": [
      "Some weights of BertForSequenceClassification were not initialized from the model checkpoint at sentence-transformers/bert-base-nli-mean-tokens and are newly initialized: ['classifier.bias', 'classifier.weight']\n",
      "You should probably TRAIN this model on a down-stream task to be able to use it for predictions and inference.\n",
      "Asking to truncate to max_length but no maximum length is provided and the model has no predefined maximum length. Default to no truncation.\n"
     ]
    },
    {
     "ename": "RuntimeError",
     "evalue": "The size of tensor a (11194) must match the size of tensor b (512) at non-singleton dimension 1",
     "output_type": "error",
     "traceback": [
      "\u001b[0;31m---------------------------------------------------------------------------\u001b[0m\n\u001b[0;31mRuntimeError\u001b[0m                              Traceback (most recent call last)",
      "In  \u001b[0;34m[11]\u001b[0m:\nLine \u001b[0;34m3\u001b[0m:     final_scores = model.predict([[query, texts[i]] \u001b[34mfor\u001b[39;49;00m i \u001b[35min\u001b[39;49;00m scores.argsort()[-\u001b[34m10\u001b[39;49;00m:]])\u001b[37m\u001b[39;49;00m\n",
      "File \u001b[0;34m/home/cnytync/Dev/anaconda3/envs/Python36/lib/python3.6/site-packages/sentence_transformers/cross_encoder/CrossEncoder.py\u001b[0m, in \u001b[0;32mpredict\u001b[0m:\nLine \u001b[0;34m275\u001b[0m:   model_predictions = \u001b[36mself\u001b[39;49;00m.model(**features, return_dict=\u001b[34mTrue\u001b[39;49;00m)\u001b[37m\u001b[39;49;00m\n",
      "File \u001b[0;34m/home/cnytync/Dev/anaconda3/envs/Python36/lib/python3.6/site-packages/torch/nn/modules/module.py\u001b[0m, in \u001b[0;32m_call_impl\u001b[0m:\nLine \u001b[0;34m1102\u001b[0m:  \u001b[34mreturn\u001b[39;49;00m forward_call(*\u001b[36minput\u001b[39;49;00m, **kwargs)\u001b[37m\u001b[39;49;00m\n",
      "File \u001b[0;34m/home/cnytync/Dev/anaconda3/envs/Python36/lib/python3.6/site-packages/transformers/models/bert/modeling_bert.py\u001b[0m, in \u001b[0;32mforward\u001b[0m:\nLine \u001b[0;34m1554\u001b[0m:  return_dict=return_dict,\u001b[37m\u001b[39;49;00m\n",
      "File \u001b[0;34m/home/cnytync/Dev/anaconda3/envs/Python36/lib/python3.6/site-packages/torch/nn/modules/module.py\u001b[0m, in \u001b[0;32m_call_impl\u001b[0m:\nLine \u001b[0;34m1102\u001b[0m:  \u001b[34mreturn\u001b[39;49;00m forward_call(*\u001b[36minput\u001b[39;49;00m, **kwargs)\u001b[37m\u001b[39;49;00m\n",
      "File \u001b[0;34m/home/cnytync/Dev/anaconda3/envs/Python36/lib/python3.6/site-packages/transformers/models/bert/modeling_bert.py\u001b[0m, in \u001b[0;32mforward\u001b[0m:\nLine \u001b[0;34m994\u001b[0m:   past_key_values_length=past_key_values_length,\u001b[37m\u001b[39;49;00m\n",
      "File \u001b[0;34m/home/cnytync/Dev/anaconda3/envs/Python36/lib/python3.6/site-packages/torch/nn/modules/module.py\u001b[0m, in \u001b[0;32m_call_impl\u001b[0m:\nLine \u001b[0;34m1102\u001b[0m:  \u001b[34mreturn\u001b[39;49;00m forward_call(*\u001b[36minput\u001b[39;49;00m, **kwargs)\u001b[37m\u001b[39;49;00m\n",
      "File \u001b[0;34m/home/cnytync/Dev/anaconda3/envs/Python36/lib/python3.6/site-packages/transformers/models/bert/modeling_bert.py\u001b[0m, in \u001b[0;32mforward\u001b[0m:\nLine \u001b[0;34m220\u001b[0m:   embeddings += position_embeddings\u001b[37m\u001b[39;49;00m\n",
      "\u001b[0;31mRuntimeError\u001b[0m: The size of tensor a (11194) must match the size of tensor b (512) at non-singleton dimension 1\n\u001b[0;31m---------------------------------------------------------------------------\u001b[0m"
     ]
    }
   ],
   "source": [
    "from sentence_transformers.cross_encoder import CrossEncoder\n",
    "model = CrossEncoder('sentence-transformers/bert-base-nli-mean-tokens')\n",
    "final_scores = model.predict([[query, texts[i]] for i in scores.argsort()[-10:]])"
   ]
  },
  {
   "cell_type": "markdown",
   "id": "a5d65859",
   "metadata": {},
   "source": [
    "# SBERT Method 2"
   ]
  },
  {
   "cell_type": "code",
   "execution_count": 44,
   "id": "c571450e",
   "metadata": {},
   "outputs": [
    {
     "name": "stderr",
     "output_type": "stream",
     "text": [
      "Downloading: 100%|##########| 0.99k/0.99k [00:00<00:00, 1.18MB/s]\n",
      "Downloading: 100%|##########| 420M/420M [04:51<00:00, 1.51MB/s] \n",
      "Some weights of the model checkpoint at nlpaueb/legal-bert-base-uncased were not used when initializing BertForSequenceClassification: ['cls.predictions.bias', 'cls.predictions.transform.LayerNorm.bias', 'cls.predictions.transform.dense.bias', 'cls.predictions.decoder.bias', 'cls.predictions.decoder.weight', 'cls.seq_relationship.weight', 'cls.predictions.transform.LayerNorm.weight', 'cls.seq_relationship.bias', 'cls.predictions.transform.dense.weight']\n",
      "- This IS expected if you are initializing BertForSequenceClassification from the checkpoint of a model trained on another task or with another architecture (e.g. initializing a BertForSequenceClassification model from a BertForPreTraining model).\n",
      "- This IS NOT expected if you are initializing BertForSequenceClassification from the checkpoint of a model that you expect to be exactly identical (initializing a BertForSequenceClassification model from a BertForSequenceClassification model).\n",
      "Some weights of BertForSequenceClassification were not initialized from the model checkpoint at nlpaueb/legal-bert-base-uncased and are newly initialized: ['classifier.bias', 'classifier.weight']\n",
      "You should probably TRAIN this model on a down-stream task to be able to use it for predictions and inference.\n",
      "Downloading: 100%|##########| 48.0/48.0 [00:00<00:00, 61.4kB/s]\n",
      "Downloading: 100%|##########| 217k/217k [00:00<00:00, 759kB/s] \n",
      "Downloading: 100%|##########| 112/112 [00:00<00:00, 122kB/s]\n"
     ]
    }
   ],
   "source": [
    "from sentence_transformers import CrossEncoder\n",
    "model = CrossEncoder('nlpaueb/legal-bert-base-uncased', max_length=512)"
   ]
  },
  {
   "cell_type": "code",
   "execution_count": null,
   "id": "2ff0ce9d",
   "metadata": {},
   "outputs": [],
   "source": []
  },
  {
   "cell_type": "code",
   "execution_count": 12,
   "id": "9331ac38",
   "metadata": {},
   "outputs": [
    {
     "ename": "RuntimeError",
     "evalue": "CUDA out of memory. Tried to allocate 1.67 GiB (GPU 0; 3.95 GiB total capacity; 2.09 GiB already allocated; 1.11 GiB free; 2.15 GiB reserved in total by PyTorch) If reserved memory is >> allocated memory try setting max_split_size_mb to avoid fragmentation.  See documentation for Memory Management and PYTORCH_CUDA_ALLOC_CONF",
     "output_type": "error",
     "traceback": [
      "\u001b[0;31m---------------------------------------------------------------------------\u001b[0m\n\u001b[0;31mRuntimeError\u001b[0m                              Traceback (most recent call last)",
      "In  \u001b[0;34m[12]\u001b[0m:\nLine \u001b[0;34m1\u001b[0m:     scores = model.predict([(\u001b[33m'\u001b[39;49;00m\u001b[33mCorruption\u001b[39;49;00m\u001b[33m'\u001b[39;49;00m, text) \u001b[34mfor\u001b[39;49;00m text \u001b[35min\u001b[39;49;00m texts[:\u001b[34m10\u001b[39;49;00m]])\u001b[37m\u001b[39;49;00m\n",
      "File \u001b[0;34m/home/cnytync/Dev/anaconda3/envs/Python36/lib/python3.6/site-packages/sentence_transformers/cross_encoder/CrossEncoder.py\u001b[0m, in \u001b[0;32mpredict\u001b[0m:\nLine \u001b[0;34m275\u001b[0m:   model_predictions = \u001b[36mself\u001b[39;49;00m.model(**features, return_dict=\u001b[34mTrue\u001b[39;49;00m)\u001b[37m\u001b[39;49;00m\n",
      "File \u001b[0;34m/home/cnytync/Dev/anaconda3/envs/Python36/lib/python3.6/site-packages/torch/nn/modules/module.py\u001b[0m, in \u001b[0;32m_call_impl\u001b[0m:\nLine \u001b[0;34m1102\u001b[0m:  \u001b[34mreturn\u001b[39;49;00m forward_call(*\u001b[36minput\u001b[39;49;00m, **kwargs)\u001b[37m\u001b[39;49;00m\n",
      "File \u001b[0;34m/home/cnytync/Dev/anaconda3/envs/Python36/lib/python3.6/site-packages/transformers/models/bert/modeling_bert.py\u001b[0m, in \u001b[0;32mforward\u001b[0m:\nLine \u001b[0;34m1554\u001b[0m:  return_dict=return_dict,\u001b[37m\u001b[39;49;00m\n",
      "File \u001b[0;34m/home/cnytync/Dev/anaconda3/envs/Python36/lib/python3.6/site-packages/torch/nn/modules/module.py\u001b[0m, in \u001b[0;32m_call_impl\u001b[0m:\nLine \u001b[0;34m1102\u001b[0m:  \u001b[34mreturn\u001b[39;49;00m forward_call(*\u001b[36minput\u001b[39;49;00m, **kwargs)\u001b[37m\u001b[39;49;00m\n",
      "File \u001b[0;34m/home/cnytync/Dev/anaconda3/envs/Python36/lib/python3.6/site-packages/transformers/models/bert/modeling_bert.py\u001b[0m, in \u001b[0;32mforward\u001b[0m:\nLine \u001b[0;34m994\u001b[0m:   past_key_values_length=past_key_values_length,\u001b[37m\u001b[39;49;00m\n",
      "File \u001b[0;34m/home/cnytync/Dev/anaconda3/envs/Python36/lib/python3.6/site-packages/torch/nn/modules/module.py\u001b[0m, in \u001b[0;32m_call_impl\u001b[0m:\nLine \u001b[0;34m1102\u001b[0m:  \u001b[34mreturn\u001b[39;49;00m forward_call(*\u001b[36minput\u001b[39;49;00m, **kwargs)\u001b[37m\u001b[39;49;00m\n",
      "File \u001b[0;34m/home/cnytync/Dev/anaconda3/envs/Python36/lib/python3.6/site-packages/transformers/models/bert/modeling_bert.py\u001b[0m, in \u001b[0;32mforward\u001b[0m:\nLine \u001b[0;34m215\u001b[0m:   token_type_embeddings = \u001b[36mself\u001b[39;49;00m.token_type_embeddings(token_type_ids)\u001b[37m\u001b[39;49;00m\n",
      "File \u001b[0;34m/home/cnytync/Dev/anaconda3/envs/Python36/lib/python3.6/site-packages/torch/nn/modules/module.py\u001b[0m, in \u001b[0;32m_call_impl\u001b[0m:\nLine \u001b[0;34m1102\u001b[0m:  \u001b[34mreturn\u001b[39;49;00m forward_call(*\u001b[36minput\u001b[39;49;00m, **kwargs)\u001b[37m\u001b[39;49;00m\n",
      "File \u001b[0;34m/home/cnytync/Dev/anaconda3/envs/Python36/lib/python3.6/site-packages/torch/nn/modules/sparse.py\u001b[0m, in \u001b[0;32mforward\u001b[0m:\nLine \u001b[0;34m160\u001b[0m:   \u001b[36mself\u001b[39;49;00m.norm_type, \u001b[36mself\u001b[39;49;00m.scale_grad_by_freq, \u001b[36mself\u001b[39;49;00m.sparse)\u001b[37m\u001b[39;49;00m\n",
      "File \u001b[0;34m/home/cnytync/Dev/anaconda3/envs/Python36/lib/python3.6/site-packages/torch/nn/functional.py\u001b[0m, in \u001b[0;32membedding\u001b[0m:\nLine \u001b[0;34m2044\u001b[0m:  \u001b[34mreturn\u001b[39;49;00m torch.embedding(weight, \u001b[36minput\u001b[39;49;00m, padding_idx, scale_grad_by_freq, sparse)\u001b[37m\u001b[39;49;00m\n",
      "\u001b[0;31mRuntimeError\u001b[0m: CUDA out of memory. Tried to allocate 1.67 GiB (GPU 0; 3.95 GiB total capacity; 2.09 GiB already allocated; 1.11 GiB free; 2.15 GiB reserved in total by PyTorch) If reserved memory is >> allocated memory try setting max_split_size_mb to avoid fragmentation.  See documentation for Memory Management and PYTORCH_CUDA_ALLOC_CONF\n\u001b[0;31m---------------------------------------------------------------------------\u001b[0m"
     ]
    }
   ],
   "source": [
    "scores = model.predict([('Corruption', text) for text in texts[:10]])"
   ]
  },
  {
   "cell_type": "code",
   "execution_count": 46,
   "id": "1f05296c",
   "metadata": {},
   "outputs": [
    {
     "name": "stdout",
     "output_type": "stream",
     "text": [
      "1678\n"
     ]
    }
   ],
   "source": [
    "print(scores.argmax())\n",
    "plt.plot(scores)\n",
    "plt.show()"
   ]
  },
  {
   "cell_type": "markdown",
   "id": "40f9b2f2",
   "metadata": {},
   "source": [
    "# BERT "
   ]
  },
  {
   "cell_type": "code",
   "execution_count": null,
   "id": "f91e4c05",
   "metadata": {},
   "outputs": [],
   "source": [
    "# https://towardsdatascience.com/bert-for-measuring-text-similarity-eec91c6bf9e1"
   ]
  },
  {
   "cell_type": "code",
   "execution_count": 17,
   "id": "e798de65",
   "metadata": {},
   "outputs": [
    {
     "name": "stderr",
     "output_type": "stream",
     "text": [
      "Some weights of the model checkpoint at nlpaueb/legal-bert-base-uncased were not used when initializing BertModel: ['cls.predictions.decoder.bias', 'cls.predictions.bias', 'cls.predictions.transform.dense.weight', 'cls.predictions.transform.LayerNorm.bias', 'cls.predictions.transform.LayerNorm.weight', 'cls.seq_relationship.weight', 'cls.seq_relationship.bias', 'cls.predictions.transform.dense.bias', 'cls.predictions.decoder.weight']\n",
      "- This IS expected if you are initializing BertModel from the checkpoint of a model trained on another task or with another architecture (e.g. initializing a BertForSequenceClassification model from a BertForPreTraining model).\n",
      "- This IS NOT expected if you are initializing BertModel from the checkpoint of a model that you expect to be exactly identical (initializing a BertForSequenceClassification model from a BertForSequenceClassification model).\n"
     ]
    }
   ],
   "source": [
    "from transformers import BertTokenizer, BertModel\n",
    "import torch\n",
    "from sklearn.metrics.pairwise import cosine_similarity\n",
    "import numpy as np\n",
    "\n",
    "# Load the pre-trained BERT model and tokenizer\n",
    "model_name = 'nlpaueb/legal-bert-base-uncased' # 'nlpaueb/legal-bert-base-uncased' 'bert-base-nli-mean-tokens'\n",
    "tokenizer = BertTokenizer.from_pretrained(model_name)\n",
    "model = BertModel.from_pretrained(model_name)"
   ]
  },
  {
   "cell_type": "markdown",
   "id": "9b302bbe",
   "metadata": {},
   "source": [
    "## Tokenize Documents"
   ]
  },
  {
   "cell_type": "code",
   "execution_count": 18,
   "id": "22682ab3",
   "metadata": {},
   "outputs": [],
   "source": [
    "# Document set\n",
    "documents = texts[:1000]\n",
    "\n",
    "# Document IDs\n",
    "document_ids = np.arange(len(documents))\n",
    "\n",
    "# Encode documents\n",
    "encoded_documents = []\n",
    "max_seq_length = 128  # Maximum sequence length for encoding\n",
    "# for document in documents:\n",
    "#     tokens = tokenizer.encode(document, add_special_tokens=True, max_length=max_seq_length, truncation=True)\n",
    "#     encoded_documents.append(tokens)\n",
    "\n",
    "document_tensors = []\n",
    "attention_masks = []\n",
    "for document in documents:\n",
    "    encoded_document = tokenizer.encode_plus(\n",
    "    document,\n",
    "    padding='max_length',\n",
    "    truncation=True,\n",
    "    max_length=max_seq_length,\n",
    "    return_tensors='pt'\n",
    "    )\n",
    "    \n",
    "    document_tensors.append(encoded_document['input_ids'])\n",
    "    attention_masks.append(encoded_document['attention_mask'][0])\n",
    "\n",
    "attention_masks = torch.stack(attention_masks)\n",
    "\n",
    "document_tensors_concat = torch.cat(document_tensors, dim=0)   \n",
    "\n",
    "# Obtain document embeddings\n",
    "with torch.no_grad():\n",
    "    document_embeddings = model(document_tensors_concat).last_hidden_state"
   ]
  },
  {
   "cell_type": "markdown",
   "id": "89eaed2b",
   "metadata": {},
   "source": [
    "## Tokenize Query"
   ]
  },
  {
   "cell_type": "code",
   "execution_count": 20,
   "id": "56152439",
   "metadata": {},
   "outputs": [],
   "source": [
    "# Encode query\n",
    "query = \"judgment of Federal Magistrate Barnes dismissal application for judicial review of Refugee Review Tribunal decision\"\n",
    "tokenized_input = tokenizer.tokenize(query)\n",
    "\n",
    "encoded_query = tokenizer.encode_plus(\n",
    "    query,\n",
    "    padding='max_length',\n",
    "    truncation=True,\n",
    "    max_length=max_seq_length,\n",
    "    return_tensors='pt'\n",
    ")\n",
    "\n",
    "query_tensor = encoded_query['input_ids']\n",
    "query_attention_mask = encoded_query['attention_mask'][0]\n",
    "\n",
    "# Obtain query embedding\n",
    "with torch.no_grad():\n",
    "    query_embedding = model(query_tensor).last_hidden_state"
   ]
  },
  {
   "cell_type": "markdown",
   "id": "3a741645",
   "metadata": {},
   "source": [
    "### Reshape"
   ]
  },
  {
   "cell_type": "code",
   "execution_count": 21,
   "id": "0f7a7fa5",
   "metadata": {},
   "outputs": [],
   "source": [
    "# Reshape query embedding to 2D\n",
    "query_embedding_reshaped = query_embedding.view(query_embedding.size(0), -1)\n",
    "document_embeddings_reshaped = document_embeddings.view(document_embeddings.size(0), -1)"
   ]
  },
  {
   "cell_type": "markdown",
   "id": "96b72db1",
   "metadata": {},
   "source": [
    "## SIM Method 1"
   ]
  },
  {
   "cell_type": "code",
   "execution_count": 22,
   "id": "949798a9",
   "metadata": {},
   "outputs": [],
   "source": [
    "mask = attention_masks.unsqueeze(-1).expand(document_embeddings.size()).float()\n",
    "masked_embeddings = document_embeddings * mask\n",
    "\n",
    "query_mask = query_attention_mask.unsqueeze(-1).expand(document_embeddings.size()[1:]).squeeze(0).unsqueeze(0).float()\n",
    "query_masked_embedding = query_embedding * query_mask"
   ]
  },
  {
   "cell_type": "code",
   "execution_count": 26,
   "id": "6c992aef",
   "metadata": {},
   "outputs": [
    {
     "data": {
      "text/plain": [
       "array([1.0000001 , 0.79411674, 0.79244554, 0.7010117 , 0.71611655,\n",
       "       0.69792706, 0.7189583 , 0.7017555 , 0.71419394, 0.75241804,\n",
       "       0.7391576 , 0.75593334, 0.68441045, 0.74855024, 0.7275633 ,\n",
       "       0.752017  , 0.72863054, 0.71613914, 0.7261239 , 0.6723285 ,\n",
       "       0.72263163, 0.74687904, 0.71604764, 0.7185921 , 0.7684561 ,\n",
       "       0.72937334, 0.7503905 , 0.73332137, 0.7614093 , 0.73588634,\n",
       "       0.69950855, 0.72406733, 0.7337389 , 0.76481986, 0.73846745,\n",
       "       0.6856747 , 0.7087175 , 0.72619575, 0.75121176, 0.7144312 ,\n",
       "       0.726323  , 0.72365206, 0.7178132 , 0.7422186 , 0.7196129 ,\n",
       "       0.72061193, 0.698955  , 0.73053426, 0.72937304, 0.66393745,\n",
       "       0.7394515 , 0.70418614, 0.7223366 , 0.73327374, 0.69572425,\n",
       "       0.7211205 , 0.70567936, 0.71382606, 0.7258346 , 0.7259089 ,\n",
       "       0.746806  , 0.76050264, 0.73572147, 0.67348653, 0.715235  ,\n",
       "       0.74663895, 0.72701496, 0.74061346, 0.7444164 , 0.74540645,\n",
       "       0.7543613 , 0.7179845 , 0.75047284, 0.72431815, 0.7112373 ,\n",
       "       0.73516583, 0.7069462 , 0.7214855 , 0.7060504 , 0.7298208 ,\n",
       "       0.741573  , 0.760245  , 0.67049813, 0.72783303, 0.7283638 ,\n",
       "       0.7182534 , 0.7191158 , 0.74786437, 0.719676  , 0.7296261 ,\n",
       "       0.7335435 , 0.7278819 , 0.71888095, 0.74834967, 0.73313516,\n",
       "       0.74342954, 0.7467823 , 0.70198214, 0.7311362 , 0.7558967 ,\n",
       "       0.73667747, 0.7289567 , 0.7440337 , 0.7497077 , 0.74510324,\n",
       "       0.74768543, 0.70737046, 0.70723325, 0.72817147, 0.73789096,\n",
       "       0.7376664 , 0.75361884, 0.69976425, 0.7073824 , 0.7440617 ,\n",
       "       0.7399764 , 0.7322221 , 0.7217857 , 0.7504883 , 0.74196833,\n",
       "       0.7307516 , 0.7313485 , 0.7241286 , 0.7230373 , 0.74300236,\n",
       "       0.7044984 , 0.7428178 , 0.7754935 , 0.72925127, 0.7281943 ,\n",
       "       0.73786694, 0.743665  , 0.73124355, 0.7317316 , 0.75248396,\n",
       "       0.7618502 , 0.7362742 , 0.72269404, 0.72097975, 0.6981483 ,\n",
       "       0.74604875, 0.6994322 , 0.7002449 , 0.74271214, 0.70058745,\n",
       "       0.7175534 , 0.6971578 , 0.75145984, 0.7519254 , 0.7482286 ,\n",
       "       0.7089129 , 0.7340685 , 0.73511153, 0.7224662 , 0.72940177,\n",
       "       0.71378845, 0.74721074, 0.73165435, 0.7460911 , 0.74531335,\n",
       "       0.7276614 , 0.6978477 , 0.7103394 , 0.75173104, 0.6912164 ,\n",
       "       0.7292403 , 0.74135596, 0.6956943 , 0.7335367 , 0.7193824 ,\n",
       "       0.73452044, 0.73732895, 0.7266307 , 0.7326353 , 0.70626366,\n",
       "       0.7032306 , 0.70594156, 0.7542633 , 0.7182817 , 0.7270019 ,\n",
       "       0.72055167, 0.709367  , 0.7434254 , 0.7410639 , 0.74438953,\n",
       "       0.7678143 , 0.75000477, 0.7293253 , 0.75322795, 0.72088677,\n",
       "       0.7125121 , 0.74427557, 0.73919237, 0.7552833 , 0.71741986,\n",
       "       0.7492597 , 0.7424466 , 0.7202457 , 0.7403192 , 0.74966776,\n",
       "       0.7236544 , 0.74149084, 0.73725516, 0.7253252 , 0.70578974,\n",
       "       0.72296745, 0.74300015, 0.74092555, 0.7036377 , 0.7190995 ,\n",
       "       0.7218076 , 0.7116822 , 0.7530476 , 0.7267215 , 0.711404  ,\n",
       "       0.735453  , 0.71363133, 0.74470645, 0.7403757 , 0.73792845,\n",
       "       0.7243729 , 0.7449633 , 0.7151895 , 0.7592735 , 0.7278823 ,\n",
       "       0.73983514, 0.740569  , 0.7374666 , 0.74079865, 0.7596393 ,\n",
       "       0.7530747 , 0.693782  , 0.7250279 , 0.72240335, 0.7262608 ,\n",
       "       0.7323758 , 0.72141594, 0.73228174, 0.7466309 , 0.76139045,\n",
       "       0.7436387 , 0.7541702 , 0.71607643, 0.73325413, 0.7384002 ,\n",
       "       0.7313581 , 0.7575915 , 0.7348186 , 0.7376977 , 0.7393508 ,\n",
       "       0.7045987 , 0.75281084, 0.72943574, 0.7282551 , 0.7057886 ,\n",
       "       0.71598846, 0.7499366 , 0.73902625, 0.728386  , 0.7540479 ,\n",
       "       0.7459194 , 0.68783736, 0.71549726, 0.7050367 , 0.7390033 ,\n",
       "       0.71530503, 0.7359754 , 0.74149585, 0.7458407 , 0.75768375,\n",
       "       0.7281115 , 0.7482337 , 0.75008357, 0.7541497 , 0.7531331 ,\n",
       "       0.763443  , 0.73630077, 0.75155663, 0.73558974, 0.74423563,\n",
       "       0.73255163, 0.7079224 , 0.7359305 , 0.73443085, 0.7160872 ,\n",
       "       0.74815756, 0.73709404, 0.714592  , 0.75125635, 0.73003215,\n",
       "       0.7530754 , 0.75253826, 0.70127696, 0.70976776, 0.7069144 ,\n",
       "       0.7294663 , 0.75006425, 0.73374444, 0.7126946 , 0.7342705 ,\n",
       "       0.7201549 , 0.6980572 , 0.6977846 , 0.7406816 , 0.72261256,\n",
       "       0.724653  , 0.7207527 , 0.73698306, 0.7535598 , 0.7329171 ,\n",
       "       0.7205701 , 0.74127746, 0.72853905, 0.6980532 , 0.7444196 ,\n",
       "       0.72275907, 0.71267503, 0.72670823, 0.72475344, 0.7016652 ,\n",
       "       0.7322857 , 0.7351103 , 0.72894645, 0.707989  , 0.75050485,\n",
       "       0.7583105 , 0.7067269 , 0.70664626, 0.75921047, 0.7526942 ,\n",
       "       0.7445389 , 0.72867894, 0.750395  , 0.74807656, 0.70728433,\n",
       "       0.6854294 , 0.7380054 , 0.7183478 , 0.7313957 , 0.71488184,\n",
       "       0.7376952 , 0.70772576, 0.7384887 , 0.73530805, 0.72963405,\n",
       "       0.745312  , 0.71048355, 0.73878527, 0.7090187 , 0.71658796,\n",
       "       0.7197304 , 0.71107787, 0.6936945 , 0.721493  , 0.69239986,\n",
       "       0.6998459 , 0.7114185 , 0.72331834, 0.6984563 , 0.75240195,\n",
       "       0.7369202 , 0.7015739 , 0.7242933 , 0.70439196, 0.75584626,\n",
       "       0.7538873 , 0.7213605 , 0.73297787, 0.73399746, 0.7460957 ,\n",
       "       0.7465079 , 0.7490835 , 0.71526563, 0.73175144, 0.7193086 ,\n",
       "       0.74915195, 0.7355678 , 0.7071373 , 0.71953213, 0.7331235 ,\n",
       "       0.7062045 , 0.6981361 , 0.70079684, 0.7318989 , 0.69693947,\n",
       "       0.7201353 , 0.74754465, 0.72571737, 0.7292149 , 0.72186637,\n",
       "       0.7341155 , 0.7130649 , 0.74419   , 0.7029287 , 0.72170246,\n",
       "       0.7268326 , 0.74475306, 0.74186975, 0.7184308 , 0.7347398 ,\n",
       "       0.7374365 , 0.721158  , 0.7333057 , 0.7372177 , 0.7295869 ,\n",
       "       0.7294321 , 0.731037  , 0.73513633, 0.7358035 , 0.7040322 ,\n",
       "       0.70078784, 0.7328774 , 0.71112025, 0.7473724 , 0.7166565 ,\n",
       "       0.67886454, 0.68038154, 0.7064232 , 0.7521596 , 0.7056846 ,\n",
       "       0.72132766, 0.7377022 , 0.73073554, 0.75210726, 0.7429717 ,\n",
       "       0.74828106, 0.7262351 , 0.75772434, 0.70835114, 0.7166619 ,\n",
       "       0.7458781 , 0.7287723 , 0.74403304, 0.72911286, 0.7584873 ,\n",
       "       0.73080987, 0.6868751 , 0.7297154 , 0.74996257, 0.7305542 ,\n",
       "       0.70990324, 0.7208963 , 0.7289648 , 0.7512121 , 0.7303502 ,\n",
       "       0.6907264 , 0.73457813, 0.7270266 , 0.6884701 , 0.72473836,\n",
       "       0.7482551 , 0.73263067, 0.72362936, 0.7065711 , 0.7412567 ,\n",
       "       0.7300736 , 0.6823666 , 0.721882  , 0.73651177, 0.7165729 ,\n",
       "       0.74057674, 0.700072  , 0.75750536, 0.72091913, 0.7075808 ,\n",
       "       0.7096693 , 0.7431738 , 0.707726  , 0.75083435, 0.7318734 ,\n",
       "       0.6955141 , 0.729107  , 0.75251776, 0.71625066, 0.6722136 ,\n",
       "       0.7487211 , 0.7421338 , 0.71709085, 0.7250553 , 0.73944694,\n",
       "       0.6978969 , 0.745464  , 0.7657809 , 0.7285806 , 0.7075224 ,\n",
       "       0.69556767, 0.7098279 , 0.7154685 , 0.7279792 , 0.7535706 ,\n",
       "       0.7251751 , 0.7252237 , 0.7459647 , 0.7650608 , 0.72656626,\n",
       "       0.7458268 , 0.7485449 , 0.72343206, 0.729423  , 0.7491426 ,\n",
       "       0.7317495 , 0.7463576 , 0.7452127 , 0.7447508 , 0.7277163 ,\n",
       "       0.7380525 , 0.7530636 , 0.7226292 , 0.69911814, 0.7137918 ,\n",
       "       0.6960518 , 0.7236266 , 0.7271836 , 0.72847545, 0.7389884 ,\n",
       "       0.7168084 , 0.7038473 , 0.729523  , 0.7267655 , 0.6755651 ,\n",
       "       0.7562871 , 0.6977886 , 0.75669014, 0.73221046, 0.70436555,\n",
       "       0.73650396, 0.7360609 , 0.7170202 , 0.7494033 , 0.6884945 ,\n",
       "       0.718759  , 0.7149887 , 0.71460766, 0.7123193 , 0.7058059 ,\n",
       "       0.7359267 , 0.7401265 , 0.73351574, 0.7155508 , 0.74855655,\n",
       "       0.7370987 , 0.7270309 , 0.71876967, 0.7364066 , 0.72944695,\n",
       "       0.7116423 , 0.7332475 , 0.7413117 , 0.70261073, 0.7260576 ,\n",
       "       0.7464212 , 0.7492346 , 0.7254311 , 0.73081887, 0.72647285,\n",
       "       0.742587  , 0.7091774 , 0.72621846, 0.68768156, 0.7232959 ,\n",
       "       0.7530716 , 0.7209309 , 0.7559011 , 0.65508914, 0.65399915,\n",
       "       0.7218883 , 0.74843216, 0.7177726 , 0.7356948 , 0.7244999 ,\n",
       "       0.74016434, 0.7479974 , 0.70092463, 0.7293462 , 0.74203515,\n",
       "       0.6870043 , 0.73504555, 0.7398545 , 0.69270706, 0.7207515 ,\n",
       "       0.7547351 , 0.72462463, 0.7218616 , 0.7062113 , 0.7479973 ,\n",
       "       0.72170013, 0.7240742 , 0.7225878 , 0.7379226 , 0.752864  ,\n",
       "       0.72957253, 0.7308615 , 0.74492604, 0.7188448 , 0.72801054,\n",
       "       0.7267875 , 0.70018756, 0.69823134, 0.73537606, 0.6989787 ,\n",
       "       0.7285403 , 0.7155159 , 0.70928   , 0.6731077 , 0.7416357 ,\n",
       "       0.7311164 , 0.736438  , 0.73416096, 0.73307025, 0.7488362 ,\n",
       "       0.74996966, 0.69146574, 0.74901795, 0.7354915 , 0.71380115,\n",
       "       0.7122948 , 0.7248182 , 0.73389804, 0.70933634, 0.7469589 ,\n",
       "       0.72388834, 0.7317284 , 0.7317025 , 0.7171095 , 0.7274467 ,\n",
       "       0.72569054, 0.73094136, 0.73752326, 0.74165154, 0.7413403 ,\n",
       "       0.74739826, 0.69150317, 0.7126273 , 0.7249623 , 0.7362654 ,\n",
       "       0.7357632 , 0.73099625, 0.73061687, 0.7189442 , 0.7464498 ,\n",
       "       0.6941016 , 0.7248845 , 0.7332601 , 0.7279774 , 0.77030224,\n",
       "       0.75213635, 0.756217  , 0.7154254 , 0.7360602 , 0.71420187,\n",
       "       0.76180595, 0.735989  , 0.72857267, 0.72768635, 0.73447454,\n",
       "       0.7231098 , 0.73463845, 0.7308233 , 0.72028875, 0.7542508 ,\n",
       "       0.6940046 , 0.71925974, 0.73038584, 0.7369952 , 0.7224321 ,\n",
       "       0.69804364, 0.6983595 , 0.75152475, 0.71190464, 0.69343626,\n",
       "       0.7493065 , 0.6889432 , 0.7276548 , 0.7157534 , 0.71789217,\n",
       "       0.6967415 , 0.7019541 , 0.72459954, 0.699165  , 0.7537662 ,\n",
       "       0.7528594 , 0.7112883 , 0.7353051 , 0.7410088 , 0.7047322 ,\n",
       "       0.7269405 , 0.6840996 , 0.74370116, 0.74705803, 0.69976944,\n",
       "       0.7388805 , 0.74187505, 0.7411436 , 0.70231897, 0.7562782 ,\n",
       "       0.73695475, 0.74660033, 0.6823679 , 0.76093376, 0.72475624,\n",
       "       0.7076239 , 0.7214551 , 0.73533595, 0.7366819 , 0.74018544,\n",
       "       0.7072255 , 0.70729625, 0.7351509 , 0.7070906 , 0.70437217,\n",
       "       0.7292255 , 0.7296301 , 0.7436092 , 0.74344623, 0.7139457 ,\n",
       "       0.7501006 , 0.73059404, 0.7296692 , 0.7409885 , 0.72539914,\n",
       "       0.7346814 , 0.7212983 , 0.7290146 , 0.69618344, 0.71247023,\n",
       "       0.7361943 , 0.741203  , 0.7060015 , 0.74236363, 0.70350015,\n",
       "       0.7255384 , 0.7179097 , 0.71383363, 0.69040537, 0.7159115 ,\n",
       "       0.6994509 , 0.7434535 , 0.6910018 , 0.7335026 , 0.71350825,\n",
       "       0.71110016, 0.73242307, 0.7270105 , 0.70359135, 0.73920804,\n",
       "       0.75284785, 0.7513145 , 0.74711895, 0.7455529 , 0.73402476,\n",
       "       0.70450354, 0.7592482 , 0.72008646, 0.7319615 , 0.7355493 ,\n",
       "       0.7170679 , 0.6688901 , 0.7257794 , 0.6934329 , 0.7463902 ,\n",
       "       0.7076683 , 0.7175565 , 0.72934455, 0.72896516, 0.69797105,\n",
       "       0.7304771 , 0.7234948 , 0.7339934 , 0.72743064, 0.7329765 ,\n",
       "       0.6916643 , 0.72861195, 0.73350865, 0.75154847, 0.7515531 ,\n",
       "       0.7477164 , 0.7213031 , 0.7084445 , 0.7390555 , 0.71181667,\n",
       "       0.7245348 , 0.73326266, 0.70360905, 0.7178181 , 0.6989101 ,\n",
       "       0.71109253, 0.71636134, 0.731174  , 0.734286  , 0.73649114,\n",
       "       0.7199726 , 0.74089307, 0.73302066, 0.73613614, 0.75050336,\n",
       "       0.7076164 , 0.70531684, 0.7158344 , 0.7306699 , 0.7106099 ,\n",
       "       0.7314999 , 0.7091091 , 0.7054754 , 0.74199617, 0.7239833 ,\n",
       "       0.69406325, 0.7343858 , 0.7007046 , 0.72389424, 0.73705584,\n",
       "       0.75457907, 0.7211071 , 0.7340182 , 0.7217128 , 0.71289337,\n",
       "       0.73374337, 0.68382955, 0.70422995, 0.706673  , 0.69352126,\n",
       "       0.72163427, 0.7292243 , 0.7079161 , 0.73418057, 0.6997487 ,\n",
       "       0.7162231 , 0.7065739 , 0.72220904, 0.7413784 , 0.75405   ,\n",
       "       0.7180595 , 0.7291434 , 0.73961097, 0.689025  , 0.7261442 ,\n",
       "       0.7431165 , 0.73243546, 0.73522407, 0.73547   , 0.7148462 ,\n",
       "       0.70034426, 0.74209046, 0.72679484, 0.7194162 , 0.7296141 ,\n",
       "       0.74595094, 0.7525611 , 0.736027  , 0.70827156, 0.69303685,\n",
       "       0.6863754 , 0.7173926 , 0.7489381 , 0.73072374, 0.7065649 ,\n",
       "       0.7176985 , 0.7468976 , 0.7277008 , 0.7458584 , 0.6976544 ,\n",
       "       0.7472541 , 0.7540443 , 0.7518507 , 0.7302693 , 0.70702064,\n",
       "       0.7342686 , 0.7164667 , 0.70007116, 0.7099901 , 0.7224111 ,\n",
       "       0.6853055 , 0.73823994, 0.73004407, 0.7192003 , 0.7130648 ,\n",
       "       0.71433926, 0.7265398 , 0.7097938 , 0.7479252 , 0.7326059 ,\n",
       "       0.7422773 , 0.7141698 , 0.7479905 , 0.684515  , 0.7388843 ,\n",
       "       0.7056462 , 0.7280958 , 0.71180755, 0.74969393, 0.69160914,\n",
       "       0.7384052 , 0.71959984, 0.74247575, 0.72292125, 0.74462986,\n",
       "       0.65490067, 0.7240454 , 0.72406703, 0.7196367 , 0.7583098 ,\n",
       "       0.72163343, 0.7617687 , 0.6975093 , 0.71086097, 0.69732594,\n",
       "       0.6442586 , 0.73851866, 0.7510493 , 0.7130948 , 0.7397178 ,\n",
       "       0.7308624 , 0.7030956 , 0.7461643 , 0.74461305, 0.6972433 ,\n",
       "       0.6744046 , 0.7521755 , 0.70405555, 0.7226238 , 0.7433709 ,\n",
       "       0.7409058 , 0.71917754, 0.73604226, 0.7233073 , 0.7284143 ,\n",
       "       0.70701355, 0.72432953, 0.73437476, 0.74032044, 0.7199599 ,\n",
       "       0.73316836, 0.7161463 , 0.7205415 , 0.72488666, 0.7255312 ,\n",
       "       0.6908209 , 0.7265018 , 0.72550684, 0.7509457 , 0.6965104 ,\n",
       "       0.7089871 , 0.72883946, 0.72825587, 0.75424206, 0.7395078 ,\n",
       "       0.69679123, 0.7561483 , 0.7609874 , 0.74572223, 0.7555034 ,\n",
       "       0.73695546, 0.7259349 , 0.72563523, 0.70661557, 0.6852156 ,\n",
       "       0.72818345, 0.74572384, 0.75045925, 0.73408145, 0.73037297,\n",
       "       0.7390419 , 0.7247412 , 0.7494472 , 0.7070438 , 0.7356457 ,\n",
       "       0.7014188 , 0.7472674 , 0.72638935, 0.74208456, 0.7452755 ,\n",
       "       0.7425821 , 0.7006629 , 0.7149718 , 0.68449235, 0.69838685,\n",
       "       0.72551394, 0.72187006, 0.72822356, 0.70758677, 0.71417487,\n",
       "       0.70619184, 0.7185779 , 0.7180257 , 0.73058665, 0.7238635 ,\n",
       "       0.68996024, 0.7239603 , 0.706929  , 0.7030306 , 0.735548  ,\n",
       "       0.7344786 , 0.7328698 , 0.73325986, 0.72029203, 0.715972  ,\n",
       "       0.7559633 , 0.7082167 , 0.7407256 , 0.71809644, 0.736902  ],\n",
       "      dtype=float32)"
      ]
     },
     "execution_count": 26,
     "metadata": {},
     "output_type": "execute_result"
    }
   ],
   "source": [
    "# summed = torch.sum(torch.concat((query_masked_embedding, masked_embeddings), dim=0), 1)\n",
    "# summed.shape\n",
    "# summed_mask = torch.clamp(torch.cat((query_mask, mask), dim=0).sum(1), min=1e-9)\n",
    "# summed_mask.shape\n",
    "\n",
    "summed = torch.sum(masked_embeddings, 1)\n",
    "summed_mask = torch.clamp(mask.sum(1), min=1e-9)\n",
    "mean_pooled = summed / summed_mask\n",
    "\n",
    "from sklearn.metrics.pairwise import cosine_similarity\n",
    "\n",
    "# convert from PyTorch tensor to numpy array\n",
    "mean_pooled = mean_pooled.detach().numpy()\n",
    "\n",
    "# calculate\n",
    "scores = cosine_similarity(\n",
    "    [mean_pooled[0]],\n",
    "    mean_pooled[0:]\n",
    ")[0]\n",
    "\n",
    "# scores = np.zeros(mean_pooled.shape[0])\n",
    "# for i in range(1,mean_pooled.shape[0]):\n",
    "#     scores[i] = cosine(mean_pooled[0], mean_pooled[i])\n",
    "\n",
    "scores"
   ]
  },
  {
   "cell_type": "markdown",
   "id": "75676817",
   "metadata": {},
   "source": [
    "## SIM Method 2"
   ]
  },
  {
   "cell_type": "code",
   "execution_count": 342,
   "id": "fef2ecf9",
   "metadata": {},
   "outputs": [
    {
     "data": {
      "text/plain": [
       "torch.Size([128, 768])"
      ]
     },
     "execution_count": 342,
     "metadata": {},
     "output_type": "execute_result"
    }
   ],
   "source": [
    "query_embedding[0].shape"
   ]
  },
  {
   "cell_type": "code",
   "execution_count": 337,
   "id": "c117bd3e",
   "metadata": {},
   "outputs": [],
   "source": [
    "# WRONG\n",
    "scores = np.zeros(document_embeddings.shape[0])\n",
    "scores2 = np.zeros((document_embeddings.shape[0],128))\n",
    "for i in range(document_embeddings.shape[0]):\n",
    "    s = torch.cosine_similarity(query_embedding[0], document_embeddings[i])\n",
    "    scores2[i] = s\n",
    "    scores[i] = np.average(s)"
   ]
  },
  {
   "cell_type": "code",
   "execution_count": 330,
   "id": "7392a170",
   "metadata": {},
   "outputs": [
    {
     "data": {
      "text/plain": [
       "array([1.        , 0.89010519, 0.89075196, 0.12275868, 0.14294639,\n",
       "       0.14806464, 0.12272596, 0.11478725, 0.12670414, 0.13692893,\n",
       "       0.13282262, 0.12389939, 0.12208994, 0.13973805, 0.13389388,\n",
       "       0.12719598, 0.11889848, 0.12900034, 0.13886778, 0.13508305,\n",
       "       0.11373245, 0.12672706, 0.12646922, 0.13797303, 0.11922668,\n",
       "       0.1149366 , 0.124601  , 0.12972263, 0.1474006 , 0.13184483,\n",
       "       0.14523295, 0.1232686 , 0.13834915, 0.12350786, 0.12633866,\n",
       "       0.14742944, 0.1408343 , 0.14019439, 0.12012345, 0.11717765,\n",
       "       0.11672356, 0.11192389, 0.1327011 , 0.1294349 , 0.13835438,\n",
       "       0.13497426, 0.12331019, 0.10615107, 0.11652105, 0.11623657,\n",
       "       0.13560934, 0.13457033, 0.12660711, 0.13515848, 0.13302284,\n",
       "       0.12761134, 0.1248692 , 0.14226186, 0.12899603, 0.12719749,\n",
       "       0.1420988 , 0.12803198, 0.13117558, 0.10812522, 0.12976371,\n",
       "       0.12252453, 0.13160533, 0.15971881, 0.13345188, 0.1249274 ,\n",
       "       0.11554302, 0.13873097, 0.1275629 , 0.13498758, 0.11466137,\n",
       "       0.1421814 , 0.13044173, 0.13642532, 0.12571537, 0.13303953,\n",
       "       0.13056381, 0.12658893, 0.1256904 , 0.1207511 , 0.11632755,\n",
       "       0.12903237, 0.15308934, 0.11955578, 0.14690576, 0.12711078,\n",
       "       0.11498202, 0.1292173 , 0.13536939, 0.13714686, 0.12101005,\n",
       "       0.13184264, 0.12987068, 0.14113286, 0.11984526, 0.14158216])"
      ]
     },
     "execution_count": 330,
     "metadata": {},
     "output_type": "execute_result"
    }
   ],
   "source": [
    "scores"
   ]
  },
  {
   "cell_type": "markdown",
   "id": "c326a2bc",
   "metadata": {},
   "source": [
    "## SIM Method 3"
   ]
  },
  {
   "cell_type": "code",
   "execution_count": 336,
   "id": "8eaaf172",
   "metadata": {},
   "outputs": [
    {
     "data": {
      "text/plain": [
       "array([0.        , 0.1023764 , 0.10163164, 0.88029122, 0.85915545,\n",
       "       0.8551745 , 0.88104099, 0.88852546, 0.87608012, 0.8665117 ,\n",
       "       0.87224704, 0.87969436, 0.8801052 , 0.86566646, 0.86887749,\n",
       "       0.87845059, 0.88679469, 0.87397705, 0.86571679, 0.86854863,\n",
       "       0.8903373 , 0.87736714, 0.87831299, 0.8650855 , 0.8838554 ,\n",
       "       0.88731602, 0.87863312, 0.8741001 , 0.85842369, 0.87060997,\n",
       "       0.85809451, 0.88061447, 0.86561437, 0.87983277, 0.87806676,\n",
       "       0.85599968, 0.8625924 , 0.86225118, 0.88524967, 0.88418981,\n",
       "       0.88808688, 0.8901003 , 0.8721451 , 0.87537636, 0.86585066,\n",
       "       0.86825886, 0.87944272, 0.89574091, 0.88629049, 0.88725238,\n",
       "       0.86802213, 0.86832   , 0.87755852, 0.86793433, 0.86939624,\n",
       "       0.875181  , 0.8783331 , 0.86274038, 0.87554495, 0.87717299,\n",
       "       0.86163421, 0.87534113, 0.87159322, 0.89495312, 0.87492907,\n",
       "       0.88241933, 0.87175538, 0.84561631, 0.87100197, 0.87943908,\n",
       "       0.88758799, 0.86412509, 0.87665365, 0.86913978, 0.88761731,\n",
       "       0.86122638, 0.87323219, 0.86764245, 0.87806565, 0.87137499,\n",
       "       0.87301129, 0.87642394, 0.87634545, 0.88429954, 0.89055822,\n",
       "       0.87603572, 0.85241182, 0.88503089, 0.85545388, 0.87753708,\n",
       "       0.88872533, 0.8755656 , 0.87028517, 0.86714482, 0.88283997,\n",
       "       0.87197392, 0.87254554, 0.86028124, 0.88421909, 0.8607358 ])"
      ]
     },
     "execution_count": 336,
     "metadata": {},
     "output_type": "execute_result"
    }
   ],
   "source": [
    "# WRONG\n",
    "from scipy.spatial.distance import cosine\n",
    "\n",
    "import numpy as np\n",
    "\n",
    "scores = np.zeros(document_embeddings_reshaped.shape[0])\n",
    "for i in range(document_embeddings_reshaped.shape[0]):\n",
    "    scores[i] = cosine(document_embeddings_reshaped[i], query_embedding_reshaped[0])\n",
    "    \n",
    "scores"
   ]
  },
  {
   "cell_type": "markdown",
   "id": "25fc04fa",
   "metadata": {},
   "source": [
    "## SIM Method 4"
   ]
  },
  {
   "cell_type": "code",
   "execution_count": 335,
   "id": "5d502f83",
   "metadata": {},
   "outputs": [
    {
     "data": {
      "text/plain": [
       "tensor([1.0000, 0.8976, 0.8984, 0.1197, 0.1408, 0.1448, 0.1190, 0.1115, 0.1239,\n",
       "        0.1335, 0.1278, 0.1203, 0.1199, 0.1343, 0.1311, 0.1215, 0.1132, 0.1260,\n",
       "        0.1343, 0.1315, 0.1097, 0.1226, 0.1217, 0.1349, 0.1161, 0.1127, 0.1214,\n",
       "        0.1259, 0.1416, 0.1294, 0.1419, 0.1194, 0.1344, 0.1202, 0.1219, 0.1440,\n",
       "        0.1374, 0.1377, 0.1148, 0.1158, 0.1119, 0.1099, 0.1279, 0.1246, 0.1341,\n",
       "        0.1317, 0.1206, 0.1043, 0.1137, 0.1127, 0.1320, 0.1317, 0.1224, 0.1321,\n",
       "        0.1306, 0.1248, 0.1217, 0.1373, 0.1245, 0.1228, 0.1384, 0.1247, 0.1284,\n",
       "        0.1050, 0.1251, 0.1176, 0.1282, 0.1544, 0.1290, 0.1206, 0.1124, 0.1359,\n",
       "        0.1233, 0.1309, 0.1124, 0.1388, 0.1268, 0.1324, 0.1219, 0.1286, 0.1270,\n",
       "        0.1236, 0.1237, 0.1157, 0.1094, 0.1240, 0.1476, 0.1150, 0.1445, 0.1225,\n",
       "        0.1113, 0.1244, 0.1297, 0.1329, 0.1172, 0.1280, 0.1275, 0.1397, 0.1158,\n",
       "        0.1393])"
      ]
     },
     "execution_count": 335,
     "metadata": {},
     "output_type": "execute_result"
    }
   ],
   "source": [
    "# Calculate similarity scores\n",
    "scores = torch.cosine_similarity(query_embedding_reshaped, document_embeddings_reshaped,dim=1)\n",
    "\n",
    "scores"
   ]
  },
  {
   "cell_type": "markdown",
   "id": "e279599b",
   "metadata": {},
   "source": [
    "### SIM Method 5"
   ]
  },
  {
   "cell_type": "code",
   "execution_count": 358,
   "id": "ca6e9ab5",
   "metadata": {
    "scrolled": true
   },
   "outputs": [
    {
     "data": {
      "text/plain": [
       "array([0.76399904, 0.80013692, 0.80091947, 0.10667   , 0.12639645,\n",
       "       0.1314173 , 0.10055168, 0.09774111, 0.10451196, 0.11408865,\n",
       "       0.11078496, 0.10296004, 0.10464472, 0.11716688, 0.12646358,\n",
       "       0.10630678, 0.0983218 , 0.10288702, 0.11903179, 0.11396606,\n",
       "       0.09228052, 0.1108508 , 0.10636325, 0.12292249, 0.10474528,\n",
       "       0.09532519, 0.10516456, 0.11434706, 0.1220199 , 0.11284091,\n",
       "       0.11627553, 0.109974  , 0.11487019, 0.10432309, 0.10700107,\n",
       "       0.12982172, 0.12320539, 0.11987582, 0.09539286, 0.1049379 ,\n",
       "       0.09761845, 0.09054795, 0.11332791, 0.1049604 , 0.11264222,\n",
       "       0.11761877, 0.10053931, 0.09271242, 0.09466819, 0.09784672,\n",
       "       0.12230437, 0.11560668, 0.10331388, 0.11804398, 0.11340613,\n",
       "       0.10558806, 0.10494338, 0.12448291, 0.10720426, 0.10922113,\n",
       "       0.12377775, 0.1122538 , 0.10880842, 0.09150621, 0.1056627 ,\n",
       "       0.10015669, 0.10573197, 0.13889599, 0.11594585, 0.10615143,\n",
       "       0.09951828, 0.11205003, 0.10604049, 0.12154702, 0.09602213,\n",
       "       0.11842875, 0.11541295, 0.11372943, 0.10130538, 0.11133623,\n",
       "       0.11125397, 0.11378017, 0.10433789, 0.10188181, 0.08717375,\n",
       "       0.10217448, 0.12329631, 0.10194025, 0.12094204, 0.10670744,\n",
       "       0.10201517, 0.10507628, 0.10435447, 0.11583118, 0.10342862,\n",
       "       0.10906632, 0.10586519, 0.1184841 , 0.10174026, 0.11935905])"
      ]
     },
     "execution_count": 358,
     "metadata": {},
     "output_type": "execute_result"
    }
   ],
   "source": [
    "A = query_embedding[0]\n",
    "scores = np.zeros(document_embeddings_reshaped.shape[0])\n",
    "for i in range(0,len(document_embeddings)):\n",
    "    B = document_embeddings[i]\n",
    "    sim = np.dot(A, B.T) / (np.linalg.norm(A, axis=1)[:, np.newaxis] * np.linalg.norm(B, axis=1))\n",
    "    scores[i] = np.average(sim)\n",
    "scores"
   ]
  },
  {
   "cell_type": "markdown",
   "id": "aaf9e5c6",
   "metadata": {},
   "source": [
    "### SIM METHOD 6"
   ]
  },
  {
   "cell_type": "code",
   "execution_count": 378,
   "id": "af23626b",
   "metadata": {},
   "outputs": [
    {
     "data": {
      "text/plain": [
       "tensor([1.0000, 0.5741, 0.5907, 0.4186, 0.5013, 0.6274, 0.6221, 0.6180, 0.4855,\n",
       "        0.6737, 0.6742, 0.6552, 0.5368, 0.6982, 0.5994, 0.6526, 0.6463, 0.6092,\n",
       "        0.6895, 0.5608, 0.5722, 0.6878, 0.6622, 0.6447, 0.6818, 0.6060, 0.6486,\n",
       "        0.6956, 0.6306, 0.5943, 0.5755, 0.6526, 0.6413, 0.6476, 0.6225, 0.5169,\n",
       "        0.6301, 0.6039, 0.6557, 0.5972, 0.6837, 0.5438, 0.5580, 0.6277, 0.6193,\n",
       "        0.5820, 0.5706, 0.6363, 0.6117, 0.5492, 0.6144, 0.5999, 0.6284, 0.6287,\n",
       "        0.5110, 0.6125, 0.6025, 0.6339, 0.6131, 0.6775, 0.6660, 0.6746, 0.6882,\n",
       "        0.5284, 0.6355, 0.6079, 0.6100, 0.6687, 0.7016, 0.6592, 0.6234, 0.6021,\n",
       "        0.6708, 0.6009, 0.5408, 0.6666, 0.6091, 0.6743, 0.5689, 0.6976, 0.6358,\n",
       "        0.6833, 0.5496, 0.6331, 0.6260, 0.6410, 0.5980, 0.6391, 0.6251, 0.6071,\n",
       "        0.6839, 0.6598, 0.6140, 0.6962, 0.6830, 0.6880, 0.6370, 0.5687, 0.6207,\n",
       "        0.6671])"
      ]
     },
     "execution_count": 378,
     "metadata": {},
     "output_type": "execute_result"
    }
   ],
   "source": [
    "meaned_query_embedding = torch.mean(query_masked_embedding[0],dim=0)\n",
    "meaned_embeddings = torch.mean(masked_embeddings, dim=1)  # Calculate average of token embeddings\n",
    "\n",
    "# Calculate similarity between documents\n",
    "scores = torch.cosine_similarity(meaned_query_embedding, meaned_embeddings,dim=1)\n",
    "\n",
    "scores"
   ]
  },
  {
   "cell_type": "markdown",
   "id": "3958cdcd",
   "metadata": {},
   "source": [
    "## Plot"
   ]
  },
  {
   "cell_type": "code",
   "execution_count": 379,
   "id": "7a21d42f",
   "metadata": {},
   "outputs": [
    {
     "name": "stdout",
     "output_type": "stream",
     "text": [
      "Index: 0\n"
     ]
    }
   ],
   "source": [
    "print('Index: %d' % scores.argmax())\n",
    "plt.plot(scores)\n",
    "plt.show()"
   ]
  },
  {
   "cell_type": "markdown",
   "id": "7b1726e5",
   "metadata": {},
   "source": [
    "### Below text is used for example query"
   ]
  },
  {
   "cell_type": "code",
   "execution_count": 195,
   "id": "56654e19",
   "metadata": {},
   "outputs": [
    {
     "data": {
      "text/plain": [
       "\"\\n \\n1 This is an appeal against the judgment of Federal Magistrate Barnes given on 6 April 2006, which included the dismissal of an application for judicial review of a decision of the Refugee Review Tribunal handed down on 18 November 2003.The Tribunal affirmed a decision of a delegate of the Minister for Immigration and Multicultural Affairs to refuse to grant a protection visa to the appellant.2 The appellants are a husband and wife and are citizens of India.They claim a well-founded fear of persecution in that country of their origin by reason of the appellant husband's political association and activity with the Congress Party in Gujarat.The appellant husband claimed in his statement to the delegate that he strongly condemned the Godhra train tragedy in February 2002, and because of his activities in helping victims and arranging rallies to have the culprits of that incident arrested and punished, he became the target of extremists from the Bharatiya Janata Party (BJP) and the Rashtriya Swayamsewak Sangh (RSS), who burnt his office, destroyed his business and made threatening phone calls demanding that he leave the Congress Party.The appellant husband claimed that he reported those threats to the police, but that no action was taken.The appellant husband also claimed that as a result of his association with the leading candidate for the Congress Party, he was beaten by the same extremists so severely that his arm was broken and he was hospitalised.3 The Tribunal found that the appellants claims lacked the necessary detail to establish relevant facts sufficient to establish refugee status, and in particular that it was not satisfied that the appellants had a well-founded fear of persecution.The Tribunal accepted that the appellants lived in the epicentre of the violence which occurred in Gujarat, but that the arson of the husband's business was more plausibly explicable as an aspect of the general violence and pattern of destruction.The Tribunal cited independent country information as a demonstration of the fact that perpetrators of the violence directed the same towards Muslim people, whereas the appellants are Hindu, and accordingly their claim that the police would not assist them was not credible, as well as was unsupportable to the extent of its alleged detail.The Tribunal also found that it was unlikely that the appellants were targeted because of criticism of Gujarat's Chief Minister, since the male appellant in particular was but one of many critics of the BJP and RSS.The appellants also failed to provide details explaining why they were targeted.Although the appellant's claimed that relocation was not possible the Tribunal notified the appellants in any event that it was not able to make a decision in their favour based on the information placed before the delegate, and invited the appellants to attend the hearing and address their claims orally to the Tribunal Member.However it was said that the appellants wrote to the Tribunal declining that offer and asked for a determination in their absence.4 The appellants asserted in their further amended application filed on 20 January 2005 that the Tribunal failed to take into account a relevant consideration when it assessed whether the delegate of the Minister raised reasonable grounds for not granting a protection visa, and that the Tribunal failed in that regard to consider properly the chance of persecution if they were returned to India.The appellants advanced the following details in support of those assertions: first that the appellant husband was persecuted by Muslims because of his political popularity; secondly that the appellants were unable to collect documentary evidence; thirdly that the Tribunal did not provide the appellants with adequate particulars of the independent country information; fourthly that the Tribunal did not provide the appellants with adequate opportunity to respond to the substance of this information; fifthly that the information used by the Tribunal did not show that Congress politicians are safe; sixthly that the appellants did not get an opportunity to attend the Tribunal hearing because they were not informed of the consequences of non-attendance or the hearing procedure; seventhly that the appellants needed an opportunity to give oral evidence and the decision of the Tribunal was affected by a lack of procedural fairness; and eighthly, that since the appellants had been persecuted by the BJP, it would not be possible for them to relocate in India.5 The Federal Magistrate found that the Tribunal's decision was unaffected by jurisdictional error and therefore dismissed the application with costs.The Federal Magistrate further found that the Tribunal had not been satisfied that the appellants had a well founded fear of persecution because of the absence of evidence to support their claims.The appellants admitted that they could not provide evidence by then not forthcoming, and did not attend the hearing as a consequence of bad advice.Moreover the independent country information was said by Barnes FM to fall within the exception under s 424A(3)(b) of the Migration Act 1958 (Cth) ('the Act'), and did not require notification of the Tribunal's citation thereof.The reasoning of the Tribunal concerning the lack of detail in the appellants application and their failure to attend the hearing, were said to be matters of evaluative reasoning, inclusive of their thought processes, which were not required to be brought to the attention of the appellants.Barnes FM further found that the ground for review challenging the independent country information used to demonstrate that members of the appellant husband's political party were safe was misconceived, since the Tribunal had found that the appellants had not provided enough evidence to establish that the appellant husband was in fact targeted, and had rejected the notion that relocation was not an alternative open to the appellants.Moreover Barnes FM explained that the Tribunal did consider the consequences of relocation in India, and found that so much would be possible having regard to the material placed before it to the effect that the appellant husband held business interests in four States of India and the BJP was not a dominant political party in other States.The Federal Magistrate further held that the Tribunal's decision did not lack rational and logical reasoning and did not contravene the Act because the appellants made the choice not to give further evidence, and consequently the Tribunal was entitled to proceed on that footing.6 The notice of appeal raised the following grounds: first, that the Federal Magistrate erred in failing to find jurisdictional error in the Tribunal's decision; secondly that the Tribunal failed to 'assess the harm from the perspective of the persecutor' when considering the question of well-founded fear; thirdly that the Tribunal did not properly consider the basis of fear of persecution and ignored the appellant husband's evidence concerning his political activities; fourthly that the 'Tribunal adopted a harsh approach' and failed to give 'importance to the real issues' relevant to the case as to denial of procedural fairness in favour of the appellant.In relation to that final ground, the notice of appeal stated that the appellant husband informed the Federal Magistrate why the appellants did not attend the hearing, but the Federal Magistrate did not believe his testimony that he had relied for assistance and advice on his migration agent who did not however make him aware of the consequences of non-attendance at the Tribunal.7 At the hearing of the appeal in this Court, the appellant was unable to demonstrate, nor did he seek to demonstrate, error in any of the Tribunal's reasoning, but instead sought an adjournment to enable he and his wife to obtain evidentiary material from India in refutation of the Tribunal's findings.He did not detail explicitly what that evidence might be, or its particular source, and in any event in the light of the Minister's understandable opposition to any adjournment for that purpose, I rejected that request at the instance of the Minister's solicitor.Plainly the appellants having first arrived in Australia on 21 February 2003, the Minister's opposition could not be described as unjustifiable, particularly since nothing specific of potential significance was indicated as likely to be forthcoming.8 Accordingly I ordered that the appeal be dismissed.I certify that the preceding eight (8) numbered paragraphs are a true copy of the Reasons for Judgment herein of the Honourable Justice Conti.Associate:\\n\\nDated: 4 August 2006\\n\\n Appellant was self represented \\n \\n \\n Solicitor for the Respondent: Sparke Helmore \\n \\n Date of Hearing: 1 August 2006 \\n \\n Date of Judgment: 4 August 2006 \\n\\n \\n\\n \\n AustLII: Copyright Policy | Disclaimers | Privacy Policy | Feedback \\n URL: http://www.austlii.edu.au/au/cases/cth/FCA/2006/1006.html \\n \\n \""
      ]
     },
     "execution_count": 195,
     "metadata": {},
     "output_type": "execute_result"
    }
   ],
   "source": [
    "texts[5]"
   ]
  }
 ],
 "metadata": {
  "kernelspec": {
   "display_name": "Python [conda env:Python36]",
   "language": "python",
   "name": "conda-env-Python36-xpython"
  },
  "language_info": {
   "file_extension": ".py",
   "mimetype": "text/x-python",
   "name": "python",
   "version": "3.6.11"
  }
 },
 "nbformat": 4,
 "nbformat_minor": 5
}

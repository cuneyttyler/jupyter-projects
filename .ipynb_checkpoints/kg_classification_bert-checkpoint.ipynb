{
 "cells": [
  {
   "cell_type": "code",
   "execution_count": 1,
   "metadata": {},
   "outputs": [
    {
     "name": "stderr",
     "output_type": "stream",
     "text": [
      "2023-05-29 16:09:31.355970: I tensorflow/core/platform/cpu_feature_guard.cc:193] This TensorFlow binary is optimized with oneAPI Deep Neural Network Library (oneDNN) to use the following CPU instructions in performance-critical operations:  AVX2 FMA\n",
      "To enable them in other operations, rebuild TensorFlow with the appropriate compiler flags.\n",
      "2023-05-29 16:09:32.081138: W tensorflow/compiler/xla/stream_executor/platform/default/dso_loader.cc:64] Could not load dynamic library 'libnvinfer.so.7'; dlerror: libnvinfer.so.7: cannot open shared object file: No such file or directory; LD_LIBRARY_PATH: /usr/local/cuda-11.7/lib64\n",
      "2023-05-29 16:09:32.081208: W tensorflow/compiler/xla/stream_executor/platform/default/dso_loader.cc:64] Could not load dynamic library 'libnvinfer_plugin.so.7'; dlerror: libnvinfer_plugin.so.7: cannot open shared object file: No such file or directory; LD_LIBRARY_PATH: /usr/local/cuda-11.7/lib64\n",
      "2023-05-29 16:09:32.081215: W tensorflow/compiler/tf2tensorrt/utils/py_utils.cc:38] TF-TRT Warning: Cannot dlopen some TensorRT libraries. If you would like to use Nvidia GPU with TensorRT, please make sure the missing libraries mentioned above are installed properly.\n"
     ]
    },
    {
     "name": "stdout",
     "output_type": "stream",
     "text": [
      "Tensorflow is imported.\n"
     ]
    }
   ],
   "source": [
    "import tensorflow as tf\n",
    "print('Tensorflow is imported.')\n",
    "import tensorflow_hub as hub\n",
    "from sklearn.model_selection import train_test_split\n",
    "import tensorflow_text as text\n",
    "import os, pickle5 as pickle\n",
    "from sklearn.metrics import confusion_matrix, classification_report, accuracy_score\n",
    "import matplotlib.pyplot as plt"
   ]
  },
  {
   "cell_type": "code",
   "execution_count": 16,
   "metadata": {},
   "outputs": [],
   "source": [
    "import numpy as np"
   ]
  },
  {
   "cell_type": "code",
   "execution_count": 2,
   "metadata": {},
   "outputs": [],
   "source": [
    "def pickler(path, pkl_name, obj):\n",
    "    with open(os.path.join(path, pkl_name), 'wb') as f:\n",
    "        pickle.dump(obj, f, pickle.HIGHEST_PROTOCOL)\n",
    "\n",
    "\n",
    "def unpickler(path, pkl_name):\n",
    "    with open(os.path.join(path, pkl_name), 'rb') as f:\n",
    "        obj = pickle.load(f)\n",
    "    return obj\n",
    "\n",
    "def get_labels(data):\n",
    "    labels = []\n",
    "    for d in data:\n",
    "        labels.append(d['label']) if d['label'] not in labels else None\n",
    "\n",
    "    return labels\n",
    "\n",
    "\n",
    "def get_x_and_y(data):\n",
    "    x, y = [], []\n",
    "    for d in data:\n",
    "        for dd in d['data']:\n",
    "            tmp = dd['text'].replace('\\n', '').replace('_', '')  # clean\n",
    "            x.append({'label': d['label'], 'dbpedia_uri': dd['dbpedia_uri'], 'context_data': dd['context_data'], 'text': tmp, 'graph': dd['graph']}) if len(tmp) > 0 else None\n",
    "            y.append(d['label']) if len(tmp) > 0 else None\n",
    "\n",
    "    return x, y\n",
    "\n",
    "\n",
    "def get_label_index(label):\n",
    "    return [index for index, _label in enumerate(unique_labels) if label == _label][0]\n",
    "\n",
    "def find_clusters(arr):    \n",
    "    result = []\n",
    "    for el in arr:\n",
    "        all_mappings = node_cluster_mapping_with_count[el] if el in node_cluster_mapping_with_count else []\n",
    "        filtered_mappings = [e[0] for e in all_mappings[:min(len(all_mappings),3)]]\n",
    "        result.extend(filtered_mappings)\n",
    "    \n",
    "    return result\n",
    "\n",
    "def get_context_data(data):\n",
    "    for d in data:\n",
    "        for dd in d['data']:\n",
    "            dd['context_data'] = [c for c in set(find_clusters(dd['context_graph']['nodes']))]"
   ]
  },
  {
   "cell_type": "code",
   "execution_count": 3,
   "metadata": {},
   "outputs": [],
   "source": [
    "node_cluster_mapping_with_count= unpickler('data','node_cluster_mapping_v5_with_count.pkl')\n",
    "data = unpickler('data','classification_data_with_graphs_v5.pkl')\n",
    "\n",
    "unique_labels = get_labels(data)\n",
    "\n",
    "get_context_data(data)\n",
    "\n",
    "x,y = get_x_and_y(data)\n",
    "\n",
    "x_train, x_test, y_train, y_test = train_test_split(x, y, test_size=0.33, random_state=42)\n",
    "x_val, y_val,x_test, y_test = x_test[:500], y_test[:500], x_test[500:], y_test[500:]\n",
    "y_train_int, y_test_int = [get_label_index(label) for label in y_train],[get_label_index(label) for label in y_test]\n",
    "x_train_text,x_val_text,x_test_text = [xx['text'] for xx in x_train],[xx['text'] for xx in x_val], [xx['text'] for xx in x_test]\n",
    "# x_train_context, x_val_context, x_test_context = [xx['context_data'] for xx in x_train],[xx['context_data'] for xx in x_val], [xx['context_data'] for xx in x_test]"
   ]
  },
  {
   "cell_type": "code",
   "execution_count": 7,
   "metadata": {},
   "outputs": [
    {
     "name": "stderr",
     "output_type": "stream",
     "text": [
      "2023-05-29 16:21:52.088928: W tensorflow/tsl/framework/cpu_allocator_impl.cc:82] Allocation of 93763584 exceeds 10% of free system memory.\n"
     ]
    }
   ],
   "source": [
    "bert_preprocess = hub.KerasLayer('https://tfhub.dev/tensorflow/bert_en_uncased_preprocess/3')\n",
    "bert_encoder = hub.KerasLayer('https://tfhub.dev/tensorflow/bert_en_uncased_L-12_H-768_A-12/4')\n",
    "# Bert layers\n",
    "text_input = tf.keras.layers.Input(shape=(), dtype=tf.string, name='text')\n",
    "preprocessed_text = bert_preprocess(text_input)\n",
    "outputs = bert_encoder(preprocessed_text)\n",
    "# Neural network layers\n",
    "l = tf.keras.layers.Dropout(0.1, name=\"dropout\")(outputs['pooled_output'])\n",
    "l = tf.keras.layers.Dense(len(unique_labels), activation='softmax', name=\"output\")(l)\n",
    "# Use inputs and outputs to construct a final model\n",
    "model = tf.keras.Model(inputs=[text_input], outputs = [l])\n",
    "model.compile(optimizer='adam', loss=tf.keras.losses.SparseCategoricalCrossentropy(), metrics=['sparse_categorical_accuracy'])"
   ]
  },
  {
   "cell_type": "code",
   "execution_count": 10,
   "metadata": {},
   "outputs": [
    {
     "name": "stdout",
     "output_type": "stream",
     "text": [
      "Epoch 1/10\n",
      "71/71 [==============================] - 125s 2s/step - loss: 3.9697 - sparse_categorical_accuracy: 0.0944\n",
      "Epoch 2/10\n",
      "71/71 [==============================] - 129s 2s/step - loss: 3.7372 - sparse_categorical_accuracy: 0.1462\n",
      "Epoch 3/10\n",
      "71/71 [==============================] - 132s 2s/step - loss: 3.5693 - sparse_categorical_accuracy: 0.1887\n",
      "Epoch 4/10\n",
      "71/71 [==============================] - 131s 2s/step - loss: 3.4090 - sparse_categorical_accuracy: 0.2237\n",
      "Epoch 5/10\n",
      "71/71 [==============================] - 128s 2s/step - loss: 3.2586 - sparse_categorical_accuracy: 0.2600\n",
      "Epoch 6/10\n",
      "71/71 [==============================] - 132s 2s/step - loss: 3.1387 - sparse_categorical_accuracy: 0.2829\n",
      "Epoch 7/10\n",
      "71/71 [==============================] - 133s 2s/step - loss: 3.0137 - sparse_categorical_accuracy: 0.3278\n",
      "Epoch 8/10\n",
      "71/71 [==============================] - 132s 2s/step - loss: 2.9073 - sparse_categorical_accuracy: 0.3479\n",
      "Epoch 9/10\n",
      "71/71 [==============================] - 131s 2s/step - loss: 2.8113 - sparse_categorical_accuracy: 0.3650\n",
      "Epoch 10/10\n",
      "71/71 [==============================] - 133s 2s/step - loss: 2.7135 - sparse_categorical_accuracy: 0.4042\n"
     ]
    },
    {
     "data": {
      "text/plain": [
       "<keras.callbacks.History at 0x7feba3aa9ca0>"
      ]
     },
     "execution_count": 10,
     "metadata": {},
     "output_type": "execute_result"
    }
   ],
   "source": [
    "history = model.fit(x_train_text, y_train_int, epochs=10, batch_size = 64)"
   ]
  },
  {
   "cell_type": "code",
   "execution_count": 14,
   "metadata": {},
   "outputs": [
    {
     "ename": "NameError",
     "evalue": "name 'history' is not defined",
     "output_type": "error",
     "traceback": [
      "\u001b[0;31m---------------------------------------------------------------------------\u001b[0m",
      "\u001b[0;31mNameError\u001b[0m                                 Traceback (most recent call last)",
      "Cell \u001b[0;32mIn[14], line 1\u001b[0m\n\u001b[0;32m----> 1\u001b[0m plt\u001b[38;5;241m.\u001b[39mplot(\u001b[43mhistory\u001b[49m\u001b[38;5;241m.\u001b[39mhistory[\u001b[38;5;124m'\u001b[39m\u001b[38;5;124msparse_categorical_accuracy\u001b[39m\u001b[38;5;124m'\u001b[39m])\n\u001b[1;32m      2\u001b[0m plt\u001b[38;5;241m.\u001b[39mshow()\n\u001b[1;32m      3\u001b[0m plt\u001b[38;5;241m.\u001b[39mplot(history\u001b[38;5;241m.\u001b[39mhistory[\u001b[38;5;124m'\u001b[39m\u001b[38;5;124mloss\u001b[39m\u001b[38;5;124m'\u001b[39m])\n",
      "\u001b[0;31mNameError\u001b[0m: name 'history' is not defined"
     ]
    }
   ],
   "source": [
    "plt.plot(history.history['sparse_categorical_accuracy'])\n",
    "plt.show()\n",
    "plt.plot(history.history['loss'])\n",
    "plt.show()"
   ]
  },
  {
   "cell_type": "code",
   "execution_count": 15,
   "metadata": {},
   "outputs": [
    {
     "name": "stdout",
     "output_type": "stream",
     "text": [
      "54/54 [==============================] - 46s 854ms/step\n"
     ]
    },
    {
     "ename": "NameError",
     "evalue": "name 'np' is not defined",
     "output_type": "error",
     "traceback": [
      "\u001b[0;31m---------------------------------------------------------------------------\u001b[0m",
      "\u001b[0;31mNameError\u001b[0m                                 Traceback (most recent call last)",
      "Cell \u001b[0;32mIn[15], line 5\u001b[0m\n\u001b[1;32m      2\u001b[0m \u001b[38;5;28;01mdef\u001b[39;00m \u001b[38;5;21mget_result_labels\u001b[39m(results):\n\u001b[1;32m      3\u001b[0m     \u001b[38;5;28;01mreturn\u001b[39;00m [unique_labels[np\u001b[38;5;241m.\u001b[39mwhere(row\u001b[38;5;241m==\u001b[39m\u001b[38;5;28mmax\u001b[39m(row))[\u001b[38;5;241m0\u001b[39m][\u001b[38;5;241m0\u001b[39m]] \u001b[38;5;28;01mfor\u001b[39;00m row \u001b[38;5;129;01min\u001b[39;00m results]\n\u001b[0;32m----> 5\u001b[0m result_labels \u001b[38;5;241m=\u001b[39m \u001b[43mget_result_labels\u001b[49m\u001b[43m(\u001b[49m\u001b[43mresults\u001b[49m\u001b[43m)\u001b[49m\n\u001b[1;32m      6\u001b[0m \u001b[38;5;28mprint\u001b[39m(\u001b[38;5;124m'\u001b[39m\u001b[38;5;124mAccuracy score: \u001b[39m\u001b[38;5;132;01m%.2f\u001b[39;00m\u001b[38;5;124m'\u001b[39m \u001b[38;5;241m%\u001b[39m accuracy_score(result_labels, y_test))\n\u001b[1;32m      7\u001b[0m \u001b[38;5;28mprint\u001b[39m(classification_report(y_test, result_labels))\n",
      "Cell \u001b[0;32mIn[15], line 3\u001b[0m, in \u001b[0;36mget_result_labels\u001b[0;34m(results)\u001b[0m\n\u001b[1;32m      2\u001b[0m \u001b[38;5;28;01mdef\u001b[39;00m \u001b[38;5;21mget_result_labels\u001b[39m(results):\n\u001b[0;32m----> 3\u001b[0m     \u001b[38;5;28;01mreturn\u001b[39;00m [unique_labels[np\u001b[38;5;241m.\u001b[39mwhere(row\u001b[38;5;241m==\u001b[39m\u001b[38;5;28mmax\u001b[39m(row))[\u001b[38;5;241m0\u001b[39m][\u001b[38;5;241m0\u001b[39m]] \u001b[38;5;28;01mfor\u001b[39;00m row \u001b[38;5;129;01min\u001b[39;00m results]\n",
      "Cell \u001b[0;32mIn[15], line 3\u001b[0m, in \u001b[0;36m<listcomp>\u001b[0;34m(.0)\u001b[0m\n\u001b[1;32m      2\u001b[0m \u001b[38;5;28;01mdef\u001b[39;00m \u001b[38;5;21mget_result_labels\u001b[39m(results):\n\u001b[0;32m----> 3\u001b[0m     \u001b[38;5;28;01mreturn\u001b[39;00m [unique_labels[\u001b[43mnp\u001b[49m\u001b[38;5;241m.\u001b[39mwhere(row\u001b[38;5;241m==\u001b[39m\u001b[38;5;28mmax\u001b[39m(row))[\u001b[38;5;241m0\u001b[39m][\u001b[38;5;241m0\u001b[39m]] \u001b[38;5;28;01mfor\u001b[39;00m row \u001b[38;5;129;01min\u001b[39;00m results]\n",
      "\u001b[0;31mNameError\u001b[0m: name 'np' is not defined"
     ]
    }
   ],
   "source": [
    "results = model.predict(x_test_text)\n",
    "def get_result_labels(results):\n",
    "    return [unique_labels[np.where(row==max(row))[0][0]] for row in results]\n",
    "\n",
    "result_labels = get_result_labels(results)\n",
    "print('Accuracy score: %.2f' % accuracy_score(result_labels, y_test))\n",
    "print(classification_report(y_test, result_labels))"
   ]
  },
  {
   "cell_type": "code",
   "execution_count": 17,
   "metadata": {},
   "outputs": [
    {
     "name": "stdout",
     "output_type": "stream",
     "text": [
      "Accuracy score: 0.38\n",
      "                              precision    recall  f1-score   support\n",
      "\n",
      "                Architecture       0.54      0.52      0.53        25\n",
      "      Architecture-Structure       0.74      0.54      0.62        26\n",
      "                  Art-Cinema       0.62      0.42      0.50        24\n",
      "            Art-Cinema-Actor       0.67      0.09      0.15        23\n",
      "                   Art-Dance       1.00      0.14      0.25        21\n",
      "            Art-Dance-Dancer       0.10      0.32      0.15        22\n",
      "                 Art-Fashion       0.80      0.50      0.62        24\n",
      "        Art-Fashion-Designer       0.17      0.33      0.22        24\n",
      "           Art-Fashion-Model       0.00      0.00      0.00        11\n",
      "              Art-Literature       0.58      0.64      0.61        28\n",
      "       Art-Literature-Writer       0.50      0.07      0.12        30\n",
      "                   Art-Music       0.73      0.71      0.72        31\n",
      "        Art-Music-Instrument       0.37      0.28      0.32        25\n",
      "                Art-Painting       0.73      0.39      0.51        28\n",
      "         Art-Painting-Artist       0.16      0.11      0.13        28\n",
      "             Art-Photography       0.00      0.00      0.00         5\n",
      "Art-Photography-Photographer       0.24      0.24      0.24        29\n",
      "               Art-Sculpting       0.56      0.52      0.54        29\n",
      "        Art-Sculpting-Artist       0.23      0.34      0.27        29\n",
      "                 Art-Theatre       0.34      0.58      0.43        24\n",
      "           Art-Theatre-Actor       0.38      0.26      0.31        23\n",
      "                   Astronomy       0.43      0.14      0.21        22\n",
      "           Astronomy-Program       0.00      0.00      0.00         3\n",
      "                     Culture       0.08      0.05      0.06        20\n",
      "             Culture-Country       0.25      0.07      0.11        28\n",
      "   Culture-Historical Figure       0.38      0.50      0.43        16\n",
      "                       Media       0.06      0.04      0.05        24\n",
      "                 Media-Anime       0.55      0.46      0.50        24\n",
      "               Media-Cartoon       0.63      0.41      0.50        29\n",
      "           Media-Documentary       0.47      0.30      0.37        23\n",
      "                  Media-News       0.24      0.31      0.27        16\n",
      "     Media-TV Series & Shows       0.41      0.29      0.34        24\n",
      "                    Military       0.00      0.00      0.00        27\n",
      "           Military-Aviation       0.21      0.92      0.34        26\n",
      "               Military-Land       0.34      0.54      0.42        24\n",
      "              Military-Naval       0.54      0.61      0.57        23\n",
      "             Military-Weapon       0.62      0.60      0.61        25\n",
      "                   Mythology       0.20      0.04      0.07        24\n",
      "      Mythology-Supernatural       0.34      0.59      0.43        29\n",
      "               Nature-Animal       0.33      0.04      0.07        27\n",
      "                 Nature-Food       0.17      0.42      0.24        24\n",
      "        Nature-Microorganism       0.31      0.60      0.41        15\n",
      "                Nature-Plant       0.70      0.23      0.35        30\n",
      "                       Other       0.65      1.00      0.79        26\n",
      "                  Philosophy       0.16      0.17      0.16        29\n",
      "                    Religion       0.38      0.12      0.19        24\n",
      "         Science-Agriculture       0.25      0.04      0.07        26\n",
      "         Science-Antropology       0.31      0.47      0.38        19\n",
      "          Science-Archeology       0.59      0.73      0.66        26\n",
      "             Science-Biology       0.37      0.61      0.46        23\n",
      "           Science-Chemistry       1.00      0.04      0.07        26\n",
      "      Science-Earth Sciences       0.29      0.70      0.41        23\n",
      "           Science-Economics       0.44      0.41      0.42        27\n",
      "         Science-Mathematics       0.52      0.69      0.59        16\n",
      "            Science-Medicine       0.50      0.08      0.14        12\n",
      "         Science-Meteorology       0.00      0.00      0.00        24\n",
      "       Science-Paleonthology       0.23      0.35      0.28        20\n",
      "             Science-Physics       0.39      0.48      0.43        23\n",
      "            Science-Politics       0.11      0.48      0.17        21\n",
      "          Science-Psychology       0.50      0.25      0.33        28\n",
      "     Science-Social Sciences       0.20      0.04      0.06        28\n",
      "                      Sports       0.23      0.79      0.35        24\n",
      "Technology-Civil Engineering       0.00      0.00      0.00        23\n",
      " Technology-Computer Science       0.67      0.09      0.16        22\n",
      "      Technology-Electronics       0.17      0.04      0.06        27\n",
      "        Technology-Mechanics       0.25      0.27      0.26        15\n",
      "     Technology-Mechatronics       0.00      0.00      0.00         1\n",
      "         Technology-Robotics       0.71      0.48      0.57        21\n",
      "       Technology-Video Game       0.79      0.71      0.75        31\n",
      "              Transportation       0.68      0.72      0.70        29\n",
      "     Transportation-Aviation       0.00      0.00      0.00        10\n",
      "         Transportation-Land       0.66      0.85      0.74        27\n",
      "        Transportation-Naval       0.91      0.77      0.83        26\n",
      "      Transportation-Railway       0.63      0.71      0.67        24\n",
      "\n",
      "                    accuracy                           0.38      1713\n",
      "                   macro avg       0.40      0.35      0.33      1713\n",
      "                weighted avg       0.42      0.38      0.35      1713\n",
      "\n"
     ]
    },
    {
     "name": "stderr",
     "output_type": "stream",
     "text": [
      "/home/cnytync/anaconda3/envs/Python39/lib/python3.9/site-packages/sklearn/metrics/_classification.py:1318: UndefinedMetricWarning: Precision and F-score are ill-defined and being set to 0.0 in labels with no predicted samples. Use `zero_division` parameter to control this behavior.\n",
      "  _warn_prf(average, modifier, msg_start, len(result))\n",
      "/home/cnytync/anaconda3/envs/Python39/lib/python3.9/site-packages/sklearn/metrics/_classification.py:1318: UndefinedMetricWarning: Precision and F-score are ill-defined and being set to 0.0 in labels with no predicted samples. Use `zero_division` parameter to control this behavior.\n",
      "  _warn_prf(average, modifier, msg_start, len(result))\n",
      "/home/cnytync/anaconda3/envs/Python39/lib/python3.9/site-packages/sklearn/metrics/_classification.py:1318: UndefinedMetricWarning: Precision and F-score are ill-defined and being set to 0.0 in labels with no predicted samples. Use `zero_division` parameter to control this behavior.\n",
      "  _warn_prf(average, modifier, msg_start, len(result))\n"
     ]
    }
   ],
   "source": []
  }
 ],
 "metadata": {
  "kernelspec": {
   "display_name": "Python39",
   "language": "python",
   "name": "python39"
  },
  "language_info": {
   "codemirror_mode": {
    "name": "ipython",
    "version": 3
   },
   "file_extension": ".py",
   "mimetype": "text/x-python",
   "name": "python",
   "nbconvert_exporter": "python",
   "pygments_lexer": "ipython3",
   "version": "3.9.12"
  }
 },
 "nbformat": 4,
 "nbformat_minor": 5
}

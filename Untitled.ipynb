{
 "cells": [
  {
   "cell_type": "code",
   "execution_count": 1,
   "id": "ae84a9ae-d49d-4c1c-bd9e-74893e698137",
   "metadata": {},
   "outputs": [],
   "source": [
    "from stellargraph import datasets, utils\n",
    "from tensorflow.keras import callbacks, optimizers, losses, metrics, regularizers, Model\n",
    "import numpy as np\n",
    "import pandas as pd\n",
    "\n",
    "from stellargraph.mapper import KGTripleGenerator\n",
    "from stellargraph.layer import ComplEx\n",
    "\n",
    "from IPython.display import HTML"
   ]
  },
  {
   "cell_type": "code",
   "execution_count": 2,
   "id": "67041c9d-590a-46ac-9ac8-2c23413a2388",
   "metadata": {},
   "outputs": [],
   "source": [
    "epochs = 50\n",
    "embedding_dimension = 200\n",
    "negative_samples = 10"
   ]
  },
  {
   "cell_type": "code",
   "execution_count": 3,
   "id": "d8e7b0a9-85e7-4221-a52e-12e08ca0c7db",
   "metadata": {},
   "outputs": [
    {
     "data": {
      "text/html": [
       "The WN18 dataset consists of triplets from WordNet 3.0 (http://wordnet.princeton.edu). There are 40,943 synsets and 18 relation types among them. The training set contains 141442 triplets, the validation set 5000 and the test set 5000. Antoine Bordes, Xavier Glorot, Jason Weston and Yoshua Bengio “A Semantic Matching Energy Function for Learning with Multi-relational Data” (2014).\n",
       "\n",
       "Note: this dataset contains many inverse relations, and so should only be used to compare against published results. Prefer WN18RR. See: Kristina Toutanova and Danqi Chen “Observed versus latent features for knowledge base and text inference” (2015), and Dettmers, Tim, Pasquale Minervini, Pontus Stenetorp and Sebastian Riedel “Convolutional 2D Knowledge Graph Embeddings” (2017)."
      ],
      "text/plain": [
       "<IPython.core.display.HTML object>"
      ]
     },
     "metadata": {},
     "output_type": "display_data"
    }
   ],
   "source": [
    "wn18 = datasets.WN18()\n",
    "display(HTML(wn18.description))\n",
    "wn18_graph, wn18_train, wn18_test, wn18_valid = wn18.load()"
   ]
  },
  {
   "cell_type": "code",
   "execution_count": 5,
   "id": "3317120a-e37a-4c20-8902-fcbcfed99e28",
   "metadata": {},
   "outputs": [
    {
     "data": {
      "text/html": [
       "<div>\n",
       "<style scoped>\n",
       "    .dataframe tbody tr th:only-of-type {\n",
       "        vertical-align: middle;\n",
       "    }\n",
       "\n",
       "    .dataframe tbody tr th {\n",
       "        vertical-align: top;\n",
       "    }\n",
       "\n",
       "    .dataframe thead th {\n",
       "        text-align: right;\n",
       "    }\n",
       "</style>\n",
       "<table border=\"1\" class=\"dataframe\">\n",
       "  <thead>\n",
       "    <tr style=\"text-align: right;\">\n",
       "      <th></th>\n",
       "      <th>source</th>\n",
       "      <th>label</th>\n",
       "      <th>target</th>\n",
       "    </tr>\n",
       "  </thead>\n",
       "  <tbody>\n",
       "    <tr>\n",
       "      <th>0</th>\n",
       "      <td>3964744</td>\n",
       "      <td>_hyponym</td>\n",
       "      <td>4371774</td>\n",
       "    </tr>\n",
       "    <tr>\n",
       "      <th>1</th>\n",
       "      <td>260881</td>\n",
       "      <td>_hypernym</td>\n",
       "      <td>260622</td>\n",
       "    </tr>\n",
       "    <tr>\n",
       "      <th>2</th>\n",
       "      <td>2199712</td>\n",
       "      <td>_member_holonym</td>\n",
       "      <td>2188065</td>\n",
       "    </tr>\n",
       "    <tr>\n",
       "      <th>3</th>\n",
       "      <td>1332730</td>\n",
       "      <td>_derivationally_related_form</td>\n",
       "      <td>3122748</td>\n",
       "    </tr>\n",
       "    <tr>\n",
       "      <th>4</th>\n",
       "      <td>6066555</td>\n",
       "      <td>_derivationally_related_form</td>\n",
       "      <td>645415</td>\n",
       "    </tr>\n",
       "    <tr>\n",
       "      <th>...</th>\n",
       "      <td>...</td>\n",
       "      <td>...</td>\n",
       "      <td>...</td>\n",
       "    </tr>\n",
       "    <tr>\n",
       "      <th>141437</th>\n",
       "      <td>13950812</td>\n",
       "      <td>_hyponym</td>\n",
       "      <td>10026763</td>\n",
       "    </tr>\n",
       "    <tr>\n",
       "      <th>141438</th>\n",
       "      <td>12028818</td>\n",
       "      <td>_member_holonym</td>\n",
       "      <td>12028196</td>\n",
       "    </tr>\n",
       "    <tr>\n",
       "      <th>141439</th>\n",
       "      <td>962129</td>\n",
       "      <td>_instance_hyponym</td>\n",
       "      <td>1281154</td>\n",
       "    </tr>\n",
       "    <tr>\n",
       "      <th>141440</th>\n",
       "      <td>5532225</td>\n",
       "      <td>_has_part</td>\n",
       "      <td>5533948</td>\n",
       "    </tr>\n",
       "    <tr>\n",
       "      <th>141441</th>\n",
       "      <td>980394</td>\n",
       "      <td>_synset_domain_topic_of</td>\n",
       "      <td>759694</td>\n",
       "    </tr>\n",
       "  </tbody>\n",
       "</table>\n",
       "<p>141442 rows × 3 columns</p>\n",
       "</div>"
      ],
      "text/plain": [
       "          source                         label    target\n",
       "0        3964744                      _hyponym   4371774\n",
       "1         260881                     _hypernym    260622\n",
       "2        2199712               _member_holonym   2188065\n",
       "3        1332730  _derivationally_related_form   3122748\n",
       "4        6066555  _derivationally_related_form    645415\n",
       "...          ...                           ...       ...\n",
       "141437  13950812                      _hyponym  10026763\n",
       "141438  12028818               _member_holonym  12028196\n",
       "141439    962129             _instance_hyponym   1281154\n",
       "141440   5532225                     _has_part   5533948\n",
       "141441    980394       _synset_domain_topic_of    759694\n",
       "\n",
       "[141442 rows x 3 columns]"
      ]
     },
     "execution_count": 5,
     "metadata": {},
     "output_type": "execute_result"
    }
   ],
   "source": [
    "wn18_train"
   ]
  }
 ],
 "metadata": {
  "kernelspec": {
   "display_name": "tf-37",
   "language": "python",
   "name": "tf-37"
  },
  "language_info": {
   "codemirror_mode": {
    "name": "ipython",
    "version": 3
   },
   "file_extension": ".py",
   "mimetype": "text/x-python",
   "name": "python",
   "nbconvert_exporter": "python",
   "pygments_lexer": "ipython3",
   "version": "3.7.2"
  }
 },
 "nbformat": 4,
 "nbformat_minor": 5
}

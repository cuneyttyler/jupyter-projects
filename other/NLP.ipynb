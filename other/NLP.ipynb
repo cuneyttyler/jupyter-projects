{
 "cells": [
  {
   "cell_type": "markdown",
   "id": "8b04b201",
   "metadata": {},
   "source": [
    "# Classification"
   ]
  },
  {
   "cell_type": "code",
   "execution_count": 1,
   "id": "02523457",
   "metadata": {},
   "outputs": [],
   "source": [
    "import requests\n",
    "import numpy as np\n",
    "import pandas as pd\n",
    "from sklearn.feature_extraction.text import TfidfVectorizer\n",
    "from sklearn.model_selection import train_test_split\n",
    "from sklearn.naive_bayes import MultinomialNB\n",
    "from sklearn.pipeline import make_pipeline\n",
    "from sklearn.metrics import confusion_matrix\n",
    "import seaborn as sns\n",
    "import requests"
   ]
  },
  {
   "cell_type": "code",
   "execution_count": 2,
   "id": "1442037f",
   "metadata": {},
   "outputs": [],
   "source": [
    "LIMIT = 100"
   ]
  },
  {
   "cell_type": "code",
   "execution_count": 3,
   "id": "27ab0f23",
   "metadata": {},
   "outputs": [],
   "source": [
    "def get_data(topics):\n",
    "    result,labels = [], []\n",
    "    for topic in topics:\n",
    "        json = requests.get('http://192.168.1.34:8000/api/entity/query?wikidataId={}&limit={}'\n",
    "                            .format(topic['wikidata_id'],LIMIT)).json()\n",
    "        data = {'label': topic['label']}\n",
    "        data['data'] = [row['text'] for row in json['result']]\n",
    "        result.append(data)\n",
    "        labels.append(topic['label']) if not topic['label'] in labels else None\n",
    "        \n",
    "    return result,labels\n",
    "\n",
    "def get_x_and_y(data):\n",
    "    x,y = [], []\n",
    "    for d in data:\n",
    "        x.extend(d['data'])\n",
    "        y += [d['label'] for i in range(0,len(d['data']))]\n",
    "        \n",
    "    return x,y\n",
    "        \n",
    "    "
   ]
  },
  {
   "cell_type": "code",
   "execution_count": 5,
   "id": "fd1e4d32",
   "metadata": {},
   "outputs": [],
   "source": [
    "data,labels = get_data([{'label': 'Aircraft', 'wikidata_id':'Q11436'}, \n",
    "                        {'label': 'Automobile', 'wikidata_id': 'Q1420'},\n",
    "                        {'label': 'Video Game', 'wikidata_id': 'Q7889'}])\n",
    "x,y = get_x_and_y(data)"
   ]
  },
  {
   "cell_type": "code",
   "execution_count": 6,
   "id": "42724b76",
   "metadata": {},
   "outputs": [],
   "source": [
    "x_train, x_test, y_train, y_test = train_test_split(x,y,test_size=0.33, random_state=42)"
   ]
  },
  {
   "cell_type": "code",
   "execution_count": 8,
   "id": "b319021e",
   "metadata": {},
   "outputs": [],
   "source": [
    "def predict_category(t, y_train, model):\n",
    "    pred = model.predict([t])\n",
    "    return pred"
   ]
  },
  {
   "cell_type": "markdown",
   "id": "52d0b864",
   "metadata": {},
   "source": [
    "## Multinomial Bayes Classification"
   ]
  },
  {
   "cell_type": "code",
   "execution_count": 20,
   "id": "1ddb4e88",
   "metadata": {},
   "outputs": [],
   "source": [
    "model = make_pipeline(TfidfVectorizer(), MultinomialNB())\n",
    "\n",
    "model.fit(x_train, y=y_train)\n",
    "\n",
    "result_labels = model.predict(x_test)\n"
   ]
  },
  {
   "cell_type": "code",
   "execution_count": 29,
   "id": "0da0b3fe",
   "metadata": {},
   "outputs": [],
   "source": [
    "mat = confusion_matrix(y_test,result_labels)"
   ]
  },
  {
   "cell_type": "code",
   "execution_count": 30,
   "id": "7a17ff0a",
   "metadata": {},
   "outputs": [
    {
     "name": "stdout",
     "output_type": "stream",
     "text": [
      "['Aircraft', 'Automobile', 'Video Game']\n"
     ]
    },
    {
     "data": {
      "text/plain": [
       "<AxesSubplot:>"
      ]
     },
     "execution_count": 30,
     "metadata": {},
     "output_type": "execute_result"
    },
    {
     "data": {
      "image/png": "[encoded data removed]",
      "text/plain": [
       "<Figure size 640x480 with 1 Axes>"
      ]
     },
     "metadata": {},
     "output_type": "display_data"
    }
   ],
   "source": [
    "\n",
    "\n",
    "print(labels)\n",
    "\n",
    "sns.heatmap(mat.T, square=True, annot=True, fmt='d', cbar=False,\n",
    "           xticklabels=labels, yticklabels=labels)"
   ]
  },
  {
   "cell_type": "code",
   "execution_count": 197,
   "id": "de3f6d20",
   "metadata": {
    "scrolled": true
   },
   "outputs": [
    {
     "name": "stdout",
     "output_type": "stream",
     "text": [
      "Actual: Aircraft, Prediction: ['Aircraft']\n"
     ]
    },
    {
     "name": "stderr",
     "output_type": "stream",
     "text": [
      "/home/cnytync/Dev/anaconda3/lib/python3.9/site-packages/sklearn/neighbors/_classification.py:228: FutureWarning: Unlike other reduction functions (e.g. `skew`, `kurtosis`), the default behavior of `mode` typically preserves the axis it acts along. In SciPy 1.11.0, this behavior will change: the default value of `keepdims` will become False, the `axis` over which the statistic is taken will be eliminated, and the value None will no longer be accepted. Set `keepdims` to True or False to avoid this warning.\n",
      "  mode, _ = stats.mode(_y[neigh_ind, k], axis=1)\n"
     ]
    }
   ],
   "source": [
    "result = predict_category(x_test[30],y_train,model)\n",
    "print('Actual: %s, Prediction: %s' % (y_test[30], result))\n"
   ]
  },
  {
   "cell_type": "markdown",
   "id": "273635b5",
   "metadata": {},
   "source": [
    "## KNN Classification"
   ]
  },
  {
   "cell_type": "code",
   "execution_count": 192,
   "id": "c9d757d3",
   "metadata": {},
   "outputs": [],
   "source": [
    "from sklearn.neighbors import KNeighborsClassifier\n",
    "model = make_pipeline(TfidfVectorizer(),KNeighborsClassifier())\n",
    "\n",
    "model.fit(x_train,y_train)\n",
    "\n",
    "result_labels = model.predict(x_train)\n",
    "\n",
    "mat = confusion_matrix(y_train,result_labels)\n",
    "\n",
    "print(labels)\n",
    "\n",
    "sns.heatmap(mat.T, square=True, annot=True, fmt='d', cbar=False,\n",
    "           xticklabels=labels, yticklabels=labels)"
   ]
  },
  {
   "cell_type": "markdown",
   "id": "1a1314f8",
   "metadata": {},
   "source": [
    "## Topic Modelling"
   ]
  },
  {
   "cell_type": "code",
   "execution_count": 12,
   "id": "a7ab23b1",
   "metadata": {},
   "outputs": [
    {
     "name": "stderr",
     "output_type": "stream",
     "text": [
      "2022-12-17 11:45:24,747 - top2vec - INFO - Pre-processing documents for training\n",
      "INFO:top2vec:Pre-processing documents for training\n",
      "2022-12-17 11:45:24,787 - top2vec - INFO - Creating joint document/word embedding\n",
      "INFO:top2vec:Creating joint document/word embedding\n",
      "2022-12-17 11:45:26,194 - top2vec - INFO - Creating lower dimension embedding of documents\n",
      "INFO:top2vec:Creating lower dimension embedding of documents\n",
      "2022-12-17 11:45:28,035 - top2vec - INFO - Finding dense areas of documents\n",
      "INFO:top2vec:Finding dense areas of documents\n",
      "2022-12-17 11:45:28,044 - top2vec - INFO - Finding topics\n",
      "INFO:top2vec:Finding topics\n"
     ]
    }
   ],
   "source": [
    "from top2vec import Top2Vec\n",
    "model = Top2Vec(x_train + x_test)"
   ]
  },
  {
   "cell_type": "code",
   "execution_count": 13,
   "id": "73873bac",
   "metadata": {},
   "outputs": [],
   "source": [
    "topic_sizes, topic_nums = model.get_topic_sizes()"
   ]
  },
  {
   "cell_type": "code",
   "execution_count": 14,
   "id": "3c0dd6ea",
   "metadata": {},
   "outputs": [
    {
     "name": "stdout",
     "output_type": "stream",
     "text": [
      "[195  97]\n"
     ]
    }
   ],
   "source": [
    "print(topic_sizes)"
   ]
  },
  {
   "cell_type": "code",
   "execution_count": 17,
   "id": "9734fd1a",
   "metadata": {},
   "outputs": [],
   "source": [
    "topic_words, word_scores, topic_nums = model.get_topics(2)"
   ]
  },
  {
   "cell_type": "code",
   "execution_count": 18,
   "id": "6391d79c",
   "metadata": {},
   "outputs": [
    {
     "name": "stdout",
     "output_type": "stream",
     "text": [
      "0\n",
      "Words: ['and' 'the' 'in' 'to' 'of' 'games' 'or' 'first' 'game' 'that' 'by' 'at'\n",
      " 'is' 'released' 'with' 'as' 'its' 'was' 'from' 'developed' 'for' 'it'\n",
      " 'series' 'video' 'were' 'produced' 'an' 'on' 'designed' 'aircraft'\n",
      " 'published' 'built']\n",
      "1\n",
      "Words: ['series' 'games' 'an' 'was' 'by' 'with' 'and' 'first' 'published' 'in'\n",
      " 'is' 'from' 'released' 'of' 'to' 'as' 'the' 'it' 'at' 'were' 'designed'\n",
      " 'for' 'or' 'game' 'aircraft' 'its' 'on' 'built' 'that' 'produced' 'video'\n",
      " 'developed']\n"
     ]
    }
   ],
   "source": [
    "for word, score, num in zip(topic_words, word_scores, topic_nums):\n",
    "    print(num)\n",
    "    print(f\"Words: {word}\")"
   ]
  },
  {
   "cell_type": "code",
   "execution_count": 32,
   "id": "e72e5333",
   "metadata": {},
   "outputs": [],
   "source": [
    "documents, document_scores, document_ids = model.search_documents_by_topic(topic_num=0, num_docs=10)"
   ]
  },
  {
   "cell_type": "code",
   "execution_count": null,
   "id": "66842a27",
   "metadata": {},
   "outputs": [],
   "source": []
  }
 ],
 "metadata": {
  "kernelspec": {
   "display_name": "Python 3 (ipykernel)",
   "language": "python",
   "name": "python3"
  },
  "language_info": {
   "codemirror_mode": {
    "name": "ipython",
    "version": 3
   },
   "file_extension": ".py",
   "mimetype": "text/x-python",
   "name": "python",
   "nbconvert_exporter": "python",
   "pygments_lexer": "ipython3",
   "version": "3.6.15"
  }
 },
 "nbformat": 4,
 "nbformat_minor": 5
}

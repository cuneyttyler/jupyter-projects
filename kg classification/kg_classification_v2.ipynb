{
 "cells": [
  {
   "cell_type": "code",
   "execution_count": 3,
   "id": "bd4f2078-54c6-4a92-8f48-bce8d36197b8",
   "metadata": {},
   "outputs": [],
   "source": [
    "from __future__ import print_function\n",
    "\n",
    "import tensorflow as tf\n",
    "\n",
    "import os\n",
    "import sys\n",
    "import numpy as np\n",
    "import pickle5 as pickle\n",
    "import tempfile\n",
    "\n",
    "import keras\n",
    "from keras.preprocessing.text import Tokenizer\n",
    "import keras.backend as K\n",
    "from keras.preprocessing.sequence import pad_sequences\n",
    "from tensorflow.keras.utils import to_categorical\n",
    "from keras.layers import Dense, Input, Embedding, Activation, Softmax\n",
    "from keras.layers import CuDNNLSTM\n",
    "from keras.models import Model, Sequential\n",
    "from keras.layers import Conv1D,Conv2D, ZeroPadding2D, MaxPooling1D, MaxPooling2D\n",
    "from keras.layers import RepeatVector, Permute, Add, Concatenate, Reshape, Dot\n",
    "from tensorflow.keras.optimizers import Adam\n",
    "from keras.callbacks import ModelCheckpoint\n",
    "\n",
    "from stellargraph.data import BiasedRandomWalk\n",
    "from stellargraph import StellarGraph, IndexedArray\n",
    "from gensim.models import Word2Vec\n",
    "import pandas as pd\n",
    "from sklearn.model_selection import train_test_split\n",
    "\n",
    "from sklearn.metrics import confusion_matrix, classification_report, accuracy_score\n",
    "import matplotlib.pyplot as plt\n",
    "from graph_visualization import GraphVisualization\n",
    "\n",
    "np.random.seed(100)\n",
    "\n",
    "MAX_NUM_WORDS = 20000\n",
    "VALIDATION_SPLIT = 0.1\n",
    "TEST_SPLIT = 0.2\n",
    "\n",
    "NUM_RELATIONS_PER_CLUSTER = 67\n",
    "NUM_ENTITIES_PER_CLUSTER = 400\n",
    "NUM_CLUSTERS = 20\n",
    "\n",
    "def get_clusters(cluster_file, num_things_per_cluster):\n",
    "    clusters = []  # np.ones(shape=(NUM_RELATIONS_PER_CLUSTER,KG_EMBEDDING_DIM))\n",
    "\n",
    "    with open(cluster_file, 'r', encoding='utf8') as f:\n",
    "        lines = []\n",
    "        for line in f:\n",
    "            elements = line.split()\n",
    "            x = [[e] for e in elements]\n",
    "            lines.append(x)\n",
    "\n",
    "    for i in range(0, len(lines) - num_things_per_cluster + 1, num_things_per_cluster):\n",
    "        # print(\"appending: {} to {}\".format(i,i+num_things_per_cluster))\n",
    "        clusters.append(lines[i:i + num_things_per_cluster])\n",
    "\n",
    "    clusters = np.asarray(clusters, dtype='float32')\n",
    "    return clusters\n",
    "\n",
    "\n",
    "def pickler(path, pkl_name, obj):\n",
    "    with open(os.path.join(path, pkl_name), 'wb') as f:\n",
    "        pickle.dump(obj, f, pickle.HIGHEST_PROTOCOL)\n",
    "\n",
    "\n",
    "def unpickler(path, pkl_name):\n",
    "    with open(os.path.join(path, pkl_name), 'rb') as f:\n",
    "        obj = pickle.load(f)\n",
    "    return obj\n",
    "\n",
    "def get_labels(data):\n",
    "    labels = []\n",
    "    for d in data:\n",
    "        labels.append(d['label']) if d['label'] not in labels else None\n",
    "\n",
    "    return labels\n",
    "\n",
    "\n",
    "def get_x_and_y(data):\n",
    "    x, y = [], []\n",
    "    for d in data:\n",
    "        for dd in d['data']:\n",
    "            tmp = dd['text'].replace('\\n', '').replace('_', '')  # clean\n",
    "            x.append({'label': d['label'], 'dbpedia_uri': dd['dbpedia_uri'], 'context_data': dd['context_data'], 'text': tmp, 'graph': dd['graph']}) if len(tmp) > 0 else None\n",
    "            y.append(d['label']) if len(tmp) > 0 else None\n",
    "\n",
    "    return x, y\n",
    "\n",
    "\n",
    "def get_label_index(label):\n",
    "    return [index for index, _label in enumerate(unique_labels) if label == _label][0]\n"
   ]
  },
  {
   "cell_type": "markdown",
   "id": "b68e2cf0-0b6d-4aa8-9f71-e46ce4baa382",
   "metadata": {},
   "source": [
    "### LOAD DATA"
   ]
  },
  {
   "cell_type": "code",
   "execution_count": 4,
   "id": "bc1b7450-de67-4ee2-b075-be21f39d5ae6",
   "metadata": {},
   "outputs": [],
   "source": [
    "def find_clusters(arr):    \n",
    "    result = []\n",
    "    for el in arr:\n",
    "        all_mappings = node_cluster_mapping_with_count[el] if el in node_cluster_mapping_with_count else []\n",
    "        filtered_mappings = [e[0] for e in all_mappings[:min(len(all_mappings),3)]]\n",
    "        result.extend(filtered_mappings)\n",
    "    \n",
    "    return result\n",
    "\n",
    "def get_context_data(data):\n",
    "    for d in data:\n",
    "        for dd in d['data']:\n",
    "            dd['context_data'] = [c for c in set(find_clusters(dd['context_graph']['nodes']))]"
   ]
  },
  {
   "cell_type": "code",
   "execution_count": 5,
   "id": "61b11bef-a063-4bfa-b05d-c3d0ac6f16a2",
   "metadata": {},
   "outputs": [],
   "source": [
    "node_embeddings_v3 = unpickler('data','node_embeddings_v3.pkl')\n",
    "node_embeddings_v4 = unpickler('data','node_embeddings_v4.pkl')\n",
    "graph = unpickler('data','graph_v3.pkl')\n",
    "clusters = unpickler('data','node_clusters_v5.pkl')\n",
    "clusters_with_count = unpickler('data','node_clusters_v5_with_count.pkl')\n",
    "node_cluster_mapping_with_count= unpickler('data','node_cluster_mapping_v5_with_count.pkl')"
   ]
  },
  {
   "cell_type": "code",
   "execution_count": 6,
   "id": "d35dac28-1fba-4840-a7fd-8fab0b41c9ee",
   "metadata": {},
   "outputs": [],
   "source": [
    "data = unpickler('data','classification_data_with_graphs_v5.pkl')\n",
    "\n",
    "unique_labels = get_labels(data)\n",
    "\n",
    "get_context_data(data)\n",
    "\n",
    "x,y = get_x_and_y(data)\n",
    "\n",
    "x_train, x_test, y_train, y_test = train_test_split(x, y, test_size=0.33, random_state=42)\n",
    "x_val, y_val,x_test, y_test = x_test[:500], y_test[:500], x_test[500:], y_test[500:]\n",
    "y_train_int, y_test_int = [get_label_index(label) for label in y_train],[get_label_index(label) for label in y_test]\n",
    "x_train_text,x_val_text,x_test_text = [xx['text'] for xx in x_train],[xx['text'] for xx in x_val], [xx['text'] for xx in x_test]\n",
    "x_train_context, x_val_context, x_test_context = [xx['context_data'] for xx in x_train],[xx['context_data'] for xx in x_val], [xx['context_data'] for xx in x_test]"
   ]
  },
  {
   "cell_type": "markdown",
   "id": "1b6cf9fe-f926-4583-93dd-240f1d044cbd",
   "metadata": {
    "jp-MarkdownHeadingCollapsed": true,
    "tags": []
   },
   "source": [
    "### SIMPLE DNN"
   ]
  },
  {
   "cell_type": "code",
   "execution_count": 6,
   "id": "376e1cae-703a-482a-a5ae-c9dfd3a70ef4",
   "metadata": {},
   "outputs": [],
   "source": [
    "max_features = 10000\n",
    "sequence_length = 200\n",
    "\n",
    "vectorize_layer = tf.keras.layers.TextVectorization(\n",
    "    max_tokens=max_features,\n",
    "    output_mode='int',\n",
    "    output_sequence_length=sequence_length\n",
    ")\n",
    "\n",
    "with tf.device(\"/CPU:0\"):\n",
    "    vectorize_layer.adapt(x_train_text)"
   ]
  },
  {
   "cell_type": "code",
   "execution_count": 21,
   "id": "906b0603-bc75-40a6-ac57-f4ffad788c32",
   "metadata": {},
   "outputs": [],
   "source": [
    "MAX_TOKENS_NUM = 5000  # Maximum vocab size.\n",
    "EMBEDDING_DIMS = 100\n",
    "\n",
    "text_input = tf.keras.Input(shape=(1,), dtype=tf.string)\n",
    "\n",
    "text_layer = vectorize_layer(text_input)\n",
    "text_layer = tf.keras.layers.Embedding(MAX_TOKENS_NUM + 1, EMBEDDING_DIMS)(text_layer)\n",
    "text_layer = tf.keras.layers.GlobalAveragePooling1D()(text_layer)\n",
    "\n",
    "final_output = tf.keras.layers.Dense(units=len(unique_labels))(text_layer)\n",
    "\n",
    "model_simple = tf.keras.models.Model(inputs=[text_input], outputs=final_output)\n",
    "model_simple.compile(loss=tf.keras.losses.SparseCategoricalCrossentropy(from_logits=True),\n",
    "              optimizer='adam',\n",
    "              metrics=tf.metrics.SparseCategoricalAccuracy())"
   ]
  },
  {
   "cell_type": "code",
   "execution_count": 25,
   "id": "719042d2-bdb3-4bf2-9270-db0a28d90295",
   "metadata": {
    "collapsed": true,
    "jupyter": {
     "outputs_hidden": true
    },
    "tags": []
   },
   "outputs": [
    {
     "name": "stdout",
     "output_type": "stream",
     "text": [
      "Epoch 1/50\n",
      "141/141 [==============================] - 2s 11ms/step - loss: 0.7540 - sparse_categorical_accuracy: 0.8544\n",
      "Epoch 2/50\n",
      "141/141 [==============================] - 2s 11ms/step - loss: 0.7192 - sparse_categorical_accuracy: 0.8606\n",
      "Epoch 3/50\n",
      "141/141 [==============================] - 2s 11ms/step - loss: 0.6866 - sparse_categorical_accuracy: 0.8655\n",
      "Epoch 4/50\n",
      "141/141 [==============================] - 2s 11ms/step - loss: 0.6556 - sparse_categorical_accuracy: 0.8715\n",
      "Epoch 5/50\n",
      "141/141 [==============================] - 2s 11ms/step - loss: 0.6265 - sparse_categorical_accuracy: 0.8802\n",
      "Epoch 6/50\n",
      "141/141 [==============================] - 2s 11ms/step - loss: 0.5991 - sparse_categorical_accuracy: 0.8833\n",
      "Epoch 7/50\n",
      "141/141 [==============================] - 2s 11ms/step - loss: 0.5729 - sparse_categorical_accuracy: 0.8900\n",
      "Epoch 8/50\n",
      "141/141 [==============================] - 2s 12ms/step - loss: 0.5481 - sparse_categorical_accuracy: 0.8942\n",
      "Epoch 9/50\n",
      "141/141 [==============================] - 2s 13ms/step - loss: 0.5253 - sparse_categorical_accuracy: 0.8971\n",
      "Epoch 10/50\n",
      "141/141 [==============================] - 2s 13ms/step - loss: 0.5030 - sparse_categorical_accuracy: 0.9020\n",
      "Epoch 11/50\n",
      "141/141 [==============================] - 2s 13ms/step - loss: 0.4823 - sparse_categorical_accuracy: 0.9053\n",
      "Epoch 12/50\n",
      "141/141 [==============================] - 2s 11ms/step - loss: 0.4624 - sparse_categorical_accuracy: 0.9095\n",
      "Epoch 13/50\n",
      "141/141 [==============================] - 2s 11ms/step - loss: 0.4440 - sparse_categorical_accuracy: 0.9122\n",
      "Epoch 14/50\n",
      "141/141 [==============================] - 2s 12ms/step - loss: 0.4264 - sparse_categorical_accuracy: 0.9158\n",
      "Epoch 15/50\n",
      "141/141 [==============================] - 2s 12ms/step - loss: 0.4101 - sparse_categorical_accuracy: 0.9166\n",
      "Epoch 16/50\n",
      "141/141 [==============================] - 2s 13ms/step - loss: 0.3943 - sparse_categorical_accuracy: 0.9198\n",
      "Epoch 17/50\n",
      "141/141 [==============================] - 2s 12ms/step - loss: 0.3798 - sparse_categorical_accuracy: 0.9222\n",
      "Epoch 18/50\n",
      "141/141 [==============================] - 2s 12ms/step - loss: 0.3660 - sparse_categorical_accuracy: 0.9244\n",
      "Epoch 19/50\n",
      "141/141 [==============================] - 2s 11ms/step - loss: 0.3528 - sparse_categorical_accuracy: 0.9278\n",
      "Epoch 20/50\n",
      "141/141 [==============================] - 2s 12ms/step - loss: 0.3405 - sparse_categorical_accuracy: 0.9298\n",
      "Epoch 21/50\n",
      "141/141 [==============================] - 2s 12ms/step - loss: 0.3287 - sparse_categorical_accuracy: 0.9322\n",
      "Epoch 22/50\n",
      "141/141 [==============================] - 2s 12ms/step - loss: 0.3183 - sparse_categorical_accuracy: 0.9322\n",
      "Epoch 23/50\n",
      "141/141 [==============================] - 2s 12ms/step - loss: 0.3079 - sparse_categorical_accuracy: 0.9327\n",
      "Epoch 24/50\n",
      "141/141 [==============================] - 2s 12ms/step - loss: 0.2984 - sparse_categorical_accuracy: 0.9344\n",
      "Epoch 25/50\n",
      "141/141 [==============================] - 2s 12ms/step - loss: 0.2894 - sparse_categorical_accuracy: 0.9335\n",
      "Epoch 26/50\n",
      "141/141 [==============================] - 2s 12ms/step - loss: 0.2806 - sparse_categorical_accuracy: 0.9353\n",
      "Epoch 27/50\n",
      "141/141 [==============================] - 2s 12ms/step - loss: 0.2724 - sparse_categorical_accuracy: 0.9371\n",
      "Epoch 28/50\n",
      "141/141 [==============================] - 2s 12ms/step - loss: 0.2652 - sparse_categorical_accuracy: 0.9351\n",
      "Epoch 29/50\n",
      "141/141 [==============================] - 2s 12ms/step - loss: 0.2580 - sparse_categorical_accuracy: 0.9409\n",
      "Epoch 30/50\n",
      "141/141 [==============================] - 2s 12ms/step - loss: 0.2509 - sparse_categorical_accuracy: 0.9402\n",
      "Epoch 31/50\n",
      "141/141 [==============================] - 2s 12ms/step - loss: 0.2448 - sparse_categorical_accuracy: 0.9391\n",
      "Epoch 32/50\n",
      "141/141 [==============================] - 2s 11ms/step - loss: 0.2386 - sparse_categorical_accuracy: 0.9409\n",
      "Epoch 33/50\n",
      "141/141 [==============================] - 1s 11ms/step - loss: 0.2329 - sparse_categorical_accuracy: 0.9413\n",
      "Epoch 34/50\n",
      "141/141 [==============================] - 1s 10ms/step - loss: 0.2276 - sparse_categorical_accuracy: 0.9429\n",
      "Epoch 35/50\n",
      "141/141 [==============================] - 1s 10ms/step - loss: 0.2223 - sparse_categorical_accuracy: 0.9415\n",
      "Epoch 36/50\n",
      "141/141 [==============================] - 1s 10ms/step - loss: 0.2175 - sparse_categorical_accuracy: 0.9400\n",
      "Epoch 37/50\n",
      "141/141 [==============================] - 1s 10ms/step - loss: 0.2129 - sparse_categorical_accuracy: 0.9424\n",
      "Epoch 38/50\n",
      "141/141 [==============================] - 1s 10ms/step - loss: 0.2085 - sparse_categorical_accuracy: 0.9411\n",
      "Epoch 39/50\n",
      "141/141 [==============================] - 1s 10ms/step - loss: 0.2047 - sparse_categorical_accuracy: 0.9442\n",
      "Epoch 40/50\n",
      "141/141 [==============================] - 1s 10ms/step - loss: 0.2002 - sparse_categorical_accuracy: 0.9433\n",
      "Epoch 41/50\n",
      "141/141 [==============================] - 2s 11ms/step - loss: 0.1966 - sparse_categorical_accuracy: 0.9422\n",
      "Epoch 42/50\n",
      "141/141 [==============================] - 1s 10ms/step - loss: 0.1935 - sparse_categorical_accuracy: 0.9415\n",
      "Epoch 43/50\n",
      "141/141 [==============================] - 1s 11ms/step - loss: 0.1896 - sparse_categorical_accuracy: 0.9438\n",
      "Epoch 44/50\n",
      "141/141 [==============================] - 1s 10ms/step - loss: 0.1867 - sparse_categorical_accuracy: 0.9449\n",
      "Epoch 45/50\n",
      "141/141 [==============================] - 1s 10ms/step - loss: 0.1837 - sparse_categorical_accuracy: 0.9415\n",
      "Epoch 46/50\n",
      "141/141 [==============================] - 2s 11ms/step - loss: 0.1807 - sparse_categorical_accuracy: 0.9431\n",
      "Epoch 47/50\n",
      "141/141 [==============================] - 1s 10ms/step - loss: 0.1780 - sparse_categorical_accuracy: 0.9444\n",
      "Epoch 48/50\n",
      "141/141 [==============================] - 1s 10ms/step - loss: 0.1753 - sparse_categorical_accuracy: 0.9451\n",
      "Epoch 49/50\n",
      "141/141 [==============================] - 1s 10ms/step - loss: 0.1727 - sparse_categorical_accuracy: 0.9438\n",
      "Epoch 50/50\n",
      "141/141 [==============================] - 1s 10ms/step - loss: 0.1704 - sparse_categorical_accuracy: 0.9442\n"
     ]
    }
   ],
   "source": [
    "epochs =  50\n",
    "history = model_simple.fit(\n",
    "    x_train_text,\n",
    "    y=y_train_int,\n",
    "    epochs=epochs)"
   ]
  },
  {
   "cell_type": "code",
   "execution_count": 26,
   "id": "d989885e-6371-4148-8912-6856ace00a74",
   "metadata": {},
   "outputs": [
    {
     "data": {
      "image/png": "[encoded data removed]",
      "text/plain": [
       "<Figure size 432x288 with 1 Axes>"
      ]
     },
     "metadata": {
      "needs_background": "light"
     },
     "output_type": "display_data"
    },
    {
     "data": {
      "image/png": "[encoded data removed]",
      "text/plain": [
       "<Figure size 432x288 with 1 Axes>"
      ]
     },
     "metadata": {
      "needs_background": "light"
     },
     "output_type": "display_data"
    }
   ],
   "source": [
    "plt.plot(history.history['sparse_categorical_accuracy'])\n",
    "plt.show()\n",
    "plt.plot(history.history['loss'])\n",
    "plt.show()"
   ]
  },
  {
   "cell_type": "code",
   "execution_count": 27,
   "id": "bb321f57-2abc-4e80-972e-741485646806",
   "metadata": {
    "collapsed": true,
    "jupyter": {
     "outputs_hidden": true
    },
    "tags": []
   },
   "outputs": [
    {
     "name": "stdout",
     "output_type": "stream",
     "text": [
      "Accuracy score: 0.66\n",
      "                              precision    recall  f1-score   support\n",
      "\n",
      "                Architecture       0.92      0.89      0.91        27\n",
      "      Architecture-Structure       0.87      0.68      0.76        19\n",
      "                  Art-Cinema       0.70      0.76      0.73        25\n",
      "            Art-Cinema-Actor       0.24      0.19      0.21        26\n",
      "                   Art-Dance       0.83      0.83      0.83        18\n",
      "            Art-Dance-Dancer       0.58      0.56      0.57        25\n",
      "                 Art-Fashion       0.67      0.69      0.68        26\n",
      "        Art-Fashion-Designer       0.67      0.57      0.62        28\n",
      "           Art-Fashion-Model       1.00      0.40      0.57        10\n",
      "              Art-Literature       0.61      0.74      0.67        27\n",
      "       Art-Literature-Writer       0.48      0.62      0.55        24\n",
      "                   Art-Music       0.89      0.83      0.86        30\n",
      "        Art-Music-Instrument       1.00      0.75      0.86        24\n",
      "                Art-Painting       0.88      0.85      0.87        27\n",
      "         Art-Painting-Artist       0.61      0.68      0.64        28\n",
      "             Art-Photography       0.57      0.50      0.53         8\n",
      "Art-Photography-Photographer       0.55      0.65      0.60        26\n",
      "               Art-Sculpting       0.89      0.83      0.86        29\n",
      "        Art-Sculpting-Artist       0.74      0.61      0.67        28\n",
      "                 Art-Theatre       0.95      0.79      0.86        24\n",
      "           Art-Theatre-Actor       0.29      0.43      0.34        23\n",
      "                   Astronomy       0.58      0.69      0.63        16\n",
      "           Astronomy-Program       0.00      0.00      0.00         2\n",
      "                     Culture       0.29      0.30      0.29        20\n",
      "             Culture-Country       0.21      0.30      0.25        30\n",
      "   Culture-Historical Figure       0.57      0.59      0.58        27\n",
      "                       Media       0.67      0.50      0.57        28\n",
      "                 Media-Anime       0.77      0.65      0.70        31\n",
      "               Media-Cartoon       0.60      0.60      0.60        20\n",
      "           Media-Documentary       0.64      0.67      0.65        24\n",
      "                  Media-News       0.48      0.57      0.52        23\n",
      "     Media-TV Series & Shows       0.57      0.48      0.52        25\n",
      "                    Military       0.64      0.42      0.51        33\n",
      "           Military-Aviation       0.38      0.93      0.54        30\n",
      "               Military-Land       1.00      0.91      0.95        23\n",
      "              Military-Naval       0.80      0.91      0.85        22\n",
      "             Military-Weapon       0.88      0.82      0.85        17\n",
      "                   Mythology       0.04      0.04      0.04        23\n",
      "      Mythology-Supernatural       0.89      0.80      0.84        30\n",
      "               Nature-Animal       0.86      0.74      0.79        34\n",
      "                 Nature-Food       0.22      0.15      0.18        33\n",
      "        Nature-Microorganism       0.67      0.77      0.71        13\n",
      "                Nature-Plant       1.00      0.59      0.74        27\n",
      "                       Other       1.00      1.00      1.00        16\n",
      "                  Philosophy       0.30      0.56      0.39        18\n",
      "                    Religion       0.67      0.53      0.59        19\n",
      "         Science-Agriculture       1.00      0.77      0.87        26\n",
      "         Science-Antropology       0.46      0.61      0.52        18\n",
      "          Science-Archeology       0.69      0.92      0.79        24\n",
      "             Science-Biology       0.84      0.84      0.84        32\n",
      "           Science-Chemistry       0.90      0.62      0.73        29\n",
      "      Science-Earth Sciences       0.71      0.61      0.65        28\n",
      "           Science-Economics       0.68      0.76      0.72        25\n",
      "         Science-Mathematics       0.88      1.00      0.94        15\n",
      "            Science-Medicine       0.56      0.45      0.50        11\n",
      "         Science-Meteorology       0.87      0.72      0.79        18\n",
      "       Science-Paleonthology       0.83      0.83      0.83        18\n",
      "             Science-Physics       0.87      0.91      0.89        22\n",
      "            Science-Politics       0.67      0.67      0.67        21\n",
      "          Science-Psychology       0.75      0.44      0.56        27\n",
      "     Science-Social Sciences       0.42      0.22      0.29        23\n",
      "                      Sports       0.16      0.21      0.18        24\n",
      "Technology-Civil Engineering       0.80      0.80      0.80        20\n",
      " Technology-Computer Science       0.58      0.42      0.49        26\n",
      "      Technology-Electronics       0.63      0.68      0.65        25\n",
      "        Technology-Mechanics       0.50      0.64      0.56        25\n",
      "         Technology-Robotics       0.90      0.75      0.82        24\n",
      "       Technology-Video Game       0.75      0.75      0.75        32\n",
      "              Transportation       0.95      0.95      0.95        20\n",
      "     Transportation-Aviation       0.36      0.57      0.44        14\n",
      "         Transportation-Land       0.96      0.93      0.94        27\n",
      "        Transportation-Naval       0.93      0.90      0.92        30\n",
      "      Transportation-Railway       0.96      0.93      0.94        27\n",
      "\n",
      "                    accuracy                           0.66      1717\n",
      "                   macro avg       0.67      0.65      0.65      1717\n",
      "                weighted avg       0.68      0.66      0.66      1717\n",
      "\n"
     ]
    }
   ],
   "source": [
    "results = model_simple.predict(x_test_text)\n",
    "def get_result_labels(results):\n",
    "    return [unique_labels[np.where(row==max(row))[0][0]] for row in results]\n",
    "\n",
    "result_labels = get_result_labels(results)\n",
    "print('Accuracy score: %.2f' % accuracy_score(result_labels, y_test))\n",
    "print(classification_report(y_test, result_labels))\n"
   ]
  },
  {
   "cell_type": "markdown",
   "id": "f7e72103-3b4d-4d3f-bb76-cf1d9d55560b",
   "metadata": {
    "jp-MarkdownHeadingCollapsed": true,
    "tags": []
   },
   "source": [
    "### DNN WITH CONTEXT"
   ]
  },
  {
   "cell_type": "code",
   "execution_count": 70,
   "id": "8f12b81b-0f02-4bd9-917c-852d093b63a9",
   "metadata": {},
   "outputs": [],
   "source": [
    "max_features = 10000\n",
    "sequence_length = 200\n",
    "\n",
    "vectorize_layer = tf.keras.layers.TextVectorization(\n",
    "    max_tokens=max_features,\n",
    "    output_mode='int',\n",
    "    output_sequence_length=sequence_length\n",
    ")\n",
    "\n",
    "with tf.device(\"/CPU:0\"):\n",
    "    vectorize_layer.adapt(x_train_text)"
   ]
  },
  {
   "cell_type": "code",
   "execution_count": 71,
   "id": "c6c2e4ea-1bd2-4cdf-84e9-b8e1cf53c8d4",
   "metadata": {},
   "outputs": [],
   "source": [
    "MAX_TOKENS_NUM = 5000  # Maximum vocab size.\n",
    "EMBEDDING_DIMS = 100\n",
    "\n",
    "cluster_names = unique_labels + ['None']\n",
    "\n",
    "text_input = tf.keras.Input(shape=(1,), dtype=tf.string)\n",
    "\n",
    "text_layer = vectorize_layer(text_input)\n",
    "text_layer = tf.keras.layers.Embedding(MAX_TOKENS_NUM + 1, EMBEDDING_DIMS)(text_layer)\n",
    "text_layer = tf.keras.layers.GlobalAveragePooling1D()(text_layer)\n",
    "\n",
    "context_input = Input(shape=(1,), dtype='string', name='graph_input')                           \n",
    "context_layer = tf.keras.layers.StringLookup(vocabulary=cluster_names, output_mode='multi_hot')(context_input)\n",
    "\n",
    "concatenated = Concatenate(axis=1)([text_layer, context_layer])\n",
    "final_output = Dense(units=len(unique_labels), activation='softmax')(concatenated)\n",
    "\n",
    "model_2 = tf.keras.models.Model(inputs=[text_input, context_input], outputs=final_output)\n",
    "model_2.compile(loss=tf.keras.losses.SparseCategoricalCrossentropy(from_logits=True),\n",
    "              optimizer='adam',\n",
    "              metrics=tf.metrics.SparseCategoricalAccuracy())"
   ]
  },
  {
   "cell_type": "code",
   "execution_count": 72,
   "id": "a1a0e099-2219-46d0-8f41-630ab0b4ad42",
   "metadata": {
    "collapsed": true,
    "jupyter": {
     "outputs_hidden": true
    },
    "tags": []
   },
   "outputs": [
    {
     "name": "stdout",
     "output_type": "stream",
     "text": [
      "Epoch 1/50\n",
      "WARNING:tensorflow:Model was constructed with shape (None, 1) for input KerasTensor(type_spec=TensorSpec(shape=(None, 1), dtype=tf.string, name='graph_input'), name='graph_input', description=\"created by layer 'graph_input'\"), but it was called on an input with incompatible shape (None, 38).\n",
      "WARNING:tensorflow:Model was constructed with shape (None, 1) for input KerasTensor(type_spec=TensorSpec(shape=(None, 1), dtype=tf.string, name='graph_input'), name='graph_input', description=\"created by layer 'graph_input'\"), but it was called on an input with incompatible shape (None, 38).\n"
     ]
    },
    {
     "name": "stderr",
     "output_type": "stream",
     "text": [
      "/home/cnytync/Dev/anaconda3/envs/Python36/lib/python3.6/site-packages/keras/backend.py:4907: UserWarning: \"`sparse_categorical_crossentropy` received `from_logits=True`, but the `output` argument was produced by a sigmoid or softmax activation and thus does not represent logits. Was this intended?\"\n",
      "  '\"`sparse_categorical_crossentropy` received `from_logits=True`, but '\n"
     ]
    },
    {
     "name": "stdout",
     "output_type": "stream",
     "text": [
      "141/141 [==============================] - 2s 12ms/step - loss: 4.1518 - sparse_categorical_accuracy: 0.0965\n",
      "Epoch 2/50\n",
      "141/141 [==============================] - 2s 12ms/step - loss: 3.6568 - sparse_categorical_accuracy: 0.3063\n",
      "Epoch 3/50\n",
      "141/141 [==============================] - 2s 12ms/step - loss: 3.2426 - sparse_categorical_accuracy: 0.4250\n",
      "Epoch 4/50\n",
      "141/141 [==============================] - 2s 11ms/step - loss: 2.8889 - sparse_categorical_accuracy: 0.5072\n",
      "Epoch 5/50\n",
      "141/141 [==============================] - 2s 12ms/step - loss: 2.5721 - sparse_categorical_accuracy: 0.5688\n",
      "Epoch 6/50\n",
      "141/141 [==============================] - 2s 11ms/step - loss: 2.2956 - sparse_categorical_accuracy: 0.6119\n",
      "Epoch 7/50\n",
      "141/141 [==============================] - 2s 12ms/step - loss: 2.0579 - sparse_categorical_accuracy: 0.6459\n",
      "Epoch 8/50\n",
      "141/141 [==============================] - 2s 12ms/step - loss: 1.8533 - sparse_categorical_accuracy: 0.6753\n",
      "Epoch 9/50\n",
      "141/141 [==============================] - 2s 12ms/step - loss: 1.6755 - sparse_categorical_accuracy: 0.7157\n",
      "Epoch 10/50\n",
      "141/141 [==============================] - 2s 12ms/step - loss: 1.5209 - sparse_categorical_accuracy: 0.7379\n",
      "Epoch 11/50\n",
      "141/141 [==============================] - 2s 12ms/step - loss: 1.3860 - sparse_categorical_accuracy: 0.7635\n",
      "Epoch 12/50\n",
      "141/141 [==============================] - 2s 12ms/step - loss: 1.2661 - sparse_categorical_accuracy: 0.7846\n",
      "Epoch 13/50\n",
      "141/141 [==============================] - 2s 12ms/step - loss: 1.1601 - sparse_categorical_accuracy: 0.8002\n",
      "Epoch 14/50\n",
      "141/141 [==============================] - 2s 11ms/step - loss: 1.0661 - sparse_categorical_accuracy: 0.8204\n",
      "Epoch 15/50\n",
      "141/141 [==============================] - 2s 12ms/step - loss: 0.9811 - sparse_categorical_accuracy: 0.8346\n",
      "Epoch 16/50\n",
      "141/141 [==============================] - 2s 11ms/step - loss: 0.9055 - sparse_categorical_accuracy: 0.8433\n",
      "Epoch 17/50\n",
      "141/141 [==============================] - 2s 12ms/step - loss: 0.8370 - sparse_categorical_accuracy: 0.8522\n",
      "Epoch 18/50\n",
      "141/141 [==============================] - 2s 12ms/step - loss: 0.7753 - sparse_categorical_accuracy: 0.8637\n",
      "Epoch 19/50\n",
      "141/141 [==============================] - 2s 12ms/step - loss: 0.7193 - sparse_categorical_accuracy: 0.8758\n",
      "Epoch 20/50\n",
      "141/141 [==============================] - 2s 12ms/step - loss: 0.6687 - sparse_categorical_accuracy: 0.8838\n",
      "Epoch 21/50\n",
      "141/141 [==============================] - 2s 12ms/step - loss: 0.6221 - sparse_categorical_accuracy: 0.8918\n",
      "Epoch 22/50\n",
      "141/141 [==============================] - 2s 12ms/step - loss: 0.5796 - sparse_categorical_accuracy: 0.9009\n",
      "Epoch 23/50\n",
      "141/141 [==============================] - 2s 12ms/step - loss: 0.5410 - sparse_categorical_accuracy: 0.9038\n",
      "Epoch 24/50\n",
      "141/141 [==============================] - 2s 12ms/step - loss: 0.5051 - sparse_categorical_accuracy: 0.9120\n",
      "Epoch 25/50\n",
      "141/141 [==============================] - 2s 11ms/step - loss: 0.4720 - sparse_categorical_accuracy: 0.9195\n",
      "Epoch 26/50\n",
      "141/141 [==============================] - 2s 12ms/step - loss: 0.4419 - sparse_categorical_accuracy: 0.9224\n",
      "Epoch 27/50\n",
      "141/141 [==============================] - 2s 12ms/step - loss: 0.4135 - sparse_categorical_accuracy: 0.9291\n",
      "Epoch 28/50\n",
      "141/141 [==============================] - 2s 12ms/step - loss: 0.3877 - sparse_categorical_accuracy: 0.9315\n",
      "Epoch 29/50\n",
      "141/141 [==============================] - 2s 12ms/step - loss: 0.3640 - sparse_categorical_accuracy: 0.9331\n",
      "Epoch 30/50\n",
      "141/141 [==============================] - 2s 12ms/step - loss: 0.3411 - sparse_categorical_accuracy: 0.9400\n",
      "Epoch 31/50\n",
      "141/141 [==============================] - 2s 12ms/step - loss: 0.3209 - sparse_categorical_accuracy: 0.9418\n",
      "Epoch 32/50\n",
      "141/141 [==============================] - 2s 11ms/step - loss: 0.3019 - sparse_categorical_accuracy: 0.9473\n",
      "Epoch 33/50\n",
      "141/141 [==============================] - 2s 12ms/step - loss: 0.2842 - sparse_categorical_accuracy: 0.9475\n",
      "Epoch 34/50\n",
      "141/141 [==============================] - 2s 12ms/step - loss: 0.2678 - sparse_categorical_accuracy: 0.9489\n",
      "Epoch 35/50\n",
      "141/141 [==============================] - 2s 12ms/step - loss: 0.2525 - sparse_categorical_accuracy: 0.9515\n",
      "Epoch 36/50\n",
      "141/141 [==============================] - 2s 12ms/step - loss: 0.2385 - sparse_categorical_accuracy: 0.9518\n",
      "Epoch 37/50\n",
      "141/141 [==============================] - 2s 12ms/step - loss: 0.2256 - sparse_categorical_accuracy: 0.9549\n",
      "Epoch 38/50\n",
      "141/141 [==============================] - 2s 12ms/step - loss: 0.2137 - sparse_categorical_accuracy: 0.9542\n",
      "Epoch 39/50\n",
      "141/141 [==============================] - 2s 12ms/step - loss: 0.2024 - sparse_categorical_accuracy: 0.9564\n",
      "Epoch 40/50\n",
      "141/141 [==============================] - 2s 11ms/step - loss: 0.1921 - sparse_categorical_accuracy: 0.9555\n",
      "Epoch 41/50\n",
      "141/141 [==============================] - 2s 12ms/step - loss: 0.1821 - sparse_categorical_accuracy: 0.9595\n",
      "Epoch 42/50\n",
      "141/141 [==============================] - 2s 12ms/step - loss: 0.1738 - sparse_categorical_accuracy: 0.9578\n",
      "Epoch 43/50\n",
      "141/141 [==============================] - 2s 12ms/step - loss: 0.1656 - sparse_categorical_accuracy: 0.9593\n",
      "Epoch 44/50\n",
      "141/141 [==============================] - 2s 12ms/step - loss: 0.1577 - sparse_categorical_accuracy: 0.9609\n",
      "Epoch 45/50\n",
      "141/141 [==============================] - 2s 12ms/step - loss: 0.1507 - sparse_categorical_accuracy: 0.9613\n",
      "Epoch 46/50\n",
      "141/141 [==============================] - 2s 11ms/step - loss: 0.1443 - sparse_categorical_accuracy: 0.9627\n",
      "Epoch 47/50\n",
      "141/141 [==============================] - 2s 11ms/step - loss: 0.1382 - sparse_categorical_accuracy: 0.9618\n",
      "Epoch 48/50\n",
      "141/141 [==============================] - 2s 12ms/step - loss: 0.1323 - sparse_categorical_accuracy: 0.9595\n",
      "Epoch 49/50\n",
      "141/141 [==============================] - 2s 12ms/step - loss: 0.1270 - sparse_categorical_accuracy: 0.9598\n",
      "Epoch 50/50\n",
      "141/141 [==============================] - 2s 11ms/step - loss: 0.1224 - sparse_categorical_accuracy: 0.9622\n"
     ]
    }
   ],
   "source": [
    "x_train_input = pd.DataFrame(x_train_text).values\n",
    "context_data_train_input = pd.DataFrame(x_train_context).values\n",
    "y_train_output = pd.DataFrame(y_train_int).values\n",
    "\n",
    "for c in context_data_train_input:\n",
    "    for i,v in enumerate(c):\n",
    "        c[i] = 'Other' if not v else v \n",
    "\n",
    "epochs =  50\n",
    "history = model_2.fit(\n",
    "    [x_train_input,context_data_train_input],\n",
    "    y=y_train_output,\n",
    "    epochs=epochs)"
   ]
  },
  {
   "cell_type": "code",
   "execution_count": 73,
   "id": "bb8f7188-c018-474b-b054-824fc16d9320",
   "metadata": {},
   "outputs": [
    {
     "data": {
      "image/png": "[encoded data removed]",
      "text/plain": [
       "<Figure size 432x288 with 1 Axes>"
      ]
     },
     "metadata": {
      "needs_background": "light"
     },
     "output_type": "display_data"
    },
    {
     "data": {
      "image/png": "[encoded data removed]",
      "text/plain": [
       "<Figure size 432x288 with 1 Axes>"
      ]
     },
     "metadata": {
      "needs_background": "light"
     },
     "output_type": "display_data"
    }
   ],
   "source": [
    "plt.plot(history.history['sparse_categorical_accuracy'])\n",
    "plt.show()\n",
    "plt.plot(history.history['loss'])\n",
    "plt.show()"
   ]
  },
  {
   "cell_type": "code",
   "execution_count": 74,
   "id": "20752505-9c1a-42d1-a5c5-620ffb307d58",
   "metadata": {},
   "outputs": [
    {
     "name": "stdout",
     "output_type": "stream",
     "text": [
      "WARNING:tensorflow:Model was constructed with shape (None, 1) for input KerasTensor(type_spec=TensorSpec(shape=(None, 1), dtype=tf.string, name='graph_input'), name='graph_input', description=\"created by layer 'graph_input'\"), but it was called on an input with incompatible shape (None, 28).\n",
      "54/54 [==============================] - 1s 10ms/step - loss: 0.8268 - sparse_categorical_accuracy: 0.7437\n",
      "Test loss / test accuracy = 0.8268 / 0.7437\n"
     ]
    }
   ],
   "source": [
    "# Restore the best found model during validation\n",
    "# m.load_weights(tmpfn)\n",
    "\n",
    "x_test_input = pd.DataFrame(x_test_text).values\n",
    "context_data_test_input = pd.DataFrame(x_test_context).values\n",
    "y_test_output = pd.DataFrame(y_test_int).values\n",
    "\n",
    "for c in context_data_test_input:\n",
    "    for i,v in enumerate(c):\n",
    "        c[i] = 'Other' if not v else v \n",
    "        \n",
    "loss, acc = model_2.evaluate([x_test_input,context_data_test_input], y_test_output)\n",
    "print('Test loss / test accuracy = {:.4f} / {:.4f}'.format(loss, acc))"
   ]
  },
  {
   "cell_type": "code",
   "execution_count": 76,
   "id": "27264763-d6af-4c31-8cf1-2edf097e5530",
   "metadata": {
    "collapsed": true,
    "jupyter": {
     "outputs_hidden": true
    },
    "tags": []
   },
   "outputs": [
    {
     "name": "stdout",
     "output_type": "stream",
     "text": [
      "WARNING:tensorflow:Model was constructed with shape (None, 1) for input KerasTensor(type_spec=TensorSpec(shape=(None, 1), dtype=tf.string, name='graph_input'), name='graph_input', description=\"created by layer 'graph_input'\"), but it was called on an input with incompatible shape (None, 28).\n",
      "Accuracy score: 0.74\n",
      "                              precision    recall  f1-score   support\n",
      "\n",
      "                Architecture       0.93      0.93      0.93        27\n",
      "      Architecture-Structure       0.86      0.95      0.90        19\n",
      "                  Art-Cinema       0.71      0.88      0.79        25\n",
      "            Art-Cinema-Actor       0.27      0.23      0.25        26\n",
      "                   Art-Dance       1.00      1.00      1.00        18\n",
      "            Art-Dance-Dancer       0.87      0.80      0.83        25\n",
      "                 Art-Fashion       0.79      0.88      0.84        26\n",
      "        Art-Fashion-Designer       0.79      0.68      0.73        28\n",
      "           Art-Fashion-Model       0.86      0.60      0.71        10\n",
      "              Art-Literature       0.83      0.89      0.86        27\n",
      "       Art-Literature-Writer       0.72      0.88      0.79        24\n",
      "                   Art-Music       0.97      0.97      0.97        30\n",
      "        Art-Music-Instrument       0.87      0.83      0.85        24\n",
      "                Art-Painting       0.89      0.89      0.89        27\n",
      "         Art-Painting-Artist       0.58      0.75      0.66        28\n",
      "             Art-Photography       0.67      0.25      0.36         8\n",
      "Art-Photography-Photographer       0.78      0.81      0.79        26\n",
      "               Art-Sculpting       0.87      0.90      0.88        29\n",
      "        Art-Sculpting-Artist       0.85      0.79      0.81        28\n",
      "                 Art-Theatre       0.95      0.83      0.89        24\n",
      "           Art-Theatre-Actor       0.36      0.57      0.44        23\n",
      "                   Astronomy       0.65      0.69      0.67        16\n",
      "           Astronomy-Program       0.67      1.00      0.80         2\n",
      "                     Culture       0.48      0.50      0.49        20\n",
      "             Culture-Country       0.22      0.27      0.24        30\n",
      "   Culture-Historical Figure       0.83      0.93      0.88        27\n",
      "                       Media       0.80      0.71      0.75        28\n",
      "                 Media-Anime       0.69      0.81      0.75        31\n",
      "               Media-Cartoon       0.93      0.65      0.76        20\n",
      "           Media-Documentary       0.87      0.83      0.85        24\n",
      "                  Media-News       0.60      0.52      0.56        23\n",
      "     Media-TV Series & Shows       0.82      0.92      0.87        25\n",
      "                    Military       0.79      0.45      0.58        33\n",
      "           Military-Aviation       0.77      0.90      0.83        30\n",
      "               Military-Land       0.88      0.96      0.92        23\n",
      "              Military-Naval       0.91      0.91      0.91        22\n",
      "             Military-Weapon       0.88      0.88      0.88        17\n",
      "                   Mythology       0.04      0.04      0.04        23\n",
      "      Mythology-Supernatural       0.81      0.83      0.82        30\n",
      "               Nature-Animal       0.95      0.62      0.75        34\n",
      "                 Nature-Food       0.29      0.27      0.28        33\n",
      "        Nature-Microorganism       0.65      0.85      0.73        13\n",
      "                Nature-Plant       0.78      0.67      0.72        27\n",
      "                       Other       0.76      1.00      0.86        16\n",
      "                  Philosophy       0.40      0.56      0.47        18\n",
      "                    Religion       0.88      0.74      0.80        19\n",
      "         Science-Agriculture       1.00      0.81      0.89        26\n",
      "         Science-Antropology       0.48      0.67      0.56        18\n",
      "          Science-Archeology       0.92      1.00      0.96        24\n",
      "             Science-Biology       0.90      0.88      0.89        32\n",
      "           Science-Chemistry       0.80      0.69      0.74        29\n",
      "      Science-Earth Sciences       0.81      0.79      0.80        28\n",
      "           Science-Economics       0.78      0.84      0.81        25\n",
      "         Science-Mathematics       1.00      1.00      1.00        15\n",
      "            Science-Medicine       0.83      0.91      0.87        11\n",
      "         Science-Meteorology       0.88      0.78      0.82        18\n",
      "       Science-Paleonthology       0.80      0.89      0.84        18\n",
      "             Science-Physics       0.81      0.95      0.88        22\n",
      "            Science-Politics       0.64      0.67      0.65        21\n",
      "          Science-Psychology       0.61      0.41      0.49        27\n",
      "     Science-Social Sciences       0.47      0.35      0.40        23\n",
      "                      Sports       0.15      0.17      0.16        24\n",
      "Technology-Civil Engineering       0.80      0.80      0.80        20\n",
      " Technology-Computer Science       0.69      0.69      0.69        26\n",
      "      Technology-Electronics       0.65      0.68      0.67        25\n",
      "        Technology-Mechanics       0.58      0.76      0.66        25\n",
      "         Technology-Robotics       0.90      0.79      0.84        24\n",
      "       Technology-Video Game       1.00      0.84      0.92        32\n",
      "              Transportation       1.00      0.95      0.97        20\n",
      "     Transportation-Aviation       0.86      0.43      0.57        14\n",
      "         Transportation-Land       1.00      1.00      1.00        27\n",
      "        Transportation-Naval       0.97      0.97      0.97        30\n",
      "      Transportation-Railway       0.96      0.96      0.96        27\n",
      "\n",
      "                    accuracy                           0.74      1717\n",
      "                   macro avg       0.75      0.75      0.74      1717\n",
      "                weighted avg       0.76      0.74      0.74      1717\n",
      "\n"
     ]
    }
   ],
   "source": [
    "results = model_2.predict([x_test_input,context_data_test_input])\n",
    "def get_result_labels(results):\n",
    "    return [unique_labels[np.where(row==max(row))[0][0]] for row in results]\n",
    "\n",
    "result_labels = get_result_labels(results)\n",
    "print('Accuracy score: %.2f' % accuracy_score(result_labels, y_test))\n",
    "print(classification_report(y_test, result_labels))"
   ]
  },
  {
   "cell_type": "markdown",
   "id": "a056f3b7-fb7d-4923-a69f-2fde12608327",
   "metadata": {
    "jp-MarkdownHeadingCollapsed": true,
    "tags": []
   },
   "source": [
    "### DNN WITH CONTEXT/NODE EMBEDDINGS"
   ]
  },
  {
   "cell_type": "markdown",
   "id": "7c4fcba7-6b2f-498f-bbf1-70e9953cf404",
   "metadata": {},
   "source": [
    "#### Group Node Embeddings"
   ]
  },
  {
   "cell_type": "code",
   "execution_count": 7,
   "id": "ddc1e295-826e-49f7-bc1e-43b541f6e27f",
   "metadata": {
    "tags": []
   },
   "outputs": [
    {
     "name": "stdout",
     "output_type": "stream",
     "text": [
      "0.00%\n",
      "21.64%\n",
      "43.28%\n",
      "64.92%\n",
      "86.56%\n"
     ]
    }
   ],
   "source": [
    "def group_embeddings(node_embeddings,graph):\n",
    "    i, groups = 0, [[] for i in range(len(unique_labels))]\n",
    "    for node, embedding in zip(graph['nodes'],node_embeddings):\n",
    "        print('%.2f%%' % ((i * 100) / len(graph['nodes']))) if i % 5000 == 0 else None\n",
    "        i += 1\n",
    "        \n",
    "        node_categories = [m[0] for m in node_cluster_mapping_v3_with_count[node]] if node in node_cluster_mapping_with_count else []\n",
    "        category_indexes = [unique_labels.index(c) for c in node_categories]\n",
    "        \n",
    "        for i2, group in enumerate(groups):\n",
    "            group.append(embedding) if i2 in category_indexes else None # [[v] for v in embedding]\n",
    "        \n",
    "    # pickler('data','embedding_groups_v2.pkl', groups)\n",
    "    \n",
    "    # max_length = 0\n",
    "    # for group in groups:\n",
    "    #     max_length = max(max_length, len(group))\n",
    "    \n",
    "#     max_length = 1280\n",
    "#     for group in groups:\n",
    "#         for i in range(len(group),max_length):\n",
    "#             group.append([0 for i2 in range(100)])\n",
    "    \n",
    "#     new_groups = []\n",
    "#     for group in groups:\n",
    "#         new_groups.append(group[:(max_length)])\n",
    "    \n",
    "    return groups\n",
    "    \n",
    "embedding_groups = group_embeddings(node_embeddings_v4,graph_v2)"
   ]
  },
  {
   "cell_type": "markdown",
   "id": "7f333d8c-f31a-4abe-9fbe-53c3685105d7",
   "metadata": {},
   "source": [
    "#### Analyze Embedding Groups"
   ]
  },
  {
   "cell_type": "code",
   "execution_count": 8,
   "id": "34b765e1-4302-485f-93fd-c250edea5e4f",
   "metadata": {},
   "outputs": [
    {
     "data": {
      "text/plain": [
       "(0.33404458906000745, 0.33628847711591975)"
      ]
     },
     "execution_count": 8,
     "metadata": {},
     "output_type": "execute_result"
    }
   ],
   "source": [
    "import random\n",
    "from numpy.linalg import norm\n",
    "\n",
    "def cosine_sim(A,B):\n",
    "    return np.dot(A,B)/(norm(A)*norm(B))\n",
    "\n",
    "def group_similarity(i):\n",
    "    group = embedding_groups[i]\n",
    "\n",
    "    sims, c = 0, 0\n",
    "    for i1, embedding1 in enumerate(group):\n",
    "        for i2 in range(i1,len(group)):\n",
    "            embedding2 = group[i2]\n",
    "            sims += cosine_sim(embedding1, embedding2)\n",
    "            c += 1\n",
    "\n",
    "    return sims / c\n",
    "\n",
    "def inter_group_similarity(i1,i2):\n",
    "    group1 = embedding_groups[i1]\n",
    "    group2 = embedding_groups[i2]\n",
    "\n",
    "    sims, c = 0, 0\n",
    "    for j1, embedding1 in enumerate(group1):\n",
    "        for j2, embedding2 in enumerate(group2):\n",
    "            sims += cosine_sim(embedding1, embedding2)\n",
    "            c += 1\n",
    "\n",
    "    return sims / c\n",
    "\n",
    "group_similarity(1), inter_group_similarity(0,1)"
   ]
  },
  {
   "cell_type": "code",
   "execution_count": 156,
   "id": "a2e308ac-f330-417a-8bf9-3813e5ac797a",
   "metadata": {},
   "outputs": [
    {
     "data": {
      "text/plain": [
       "('The Vision of Saint Eustace', 'Artwork', 0.26538447)"
      ]
     },
     "execution_count": 156,
     "metadata": {},
     "output_type": "execute_result"
    }
   ],
   "source": [
    "i1,i2 = 0,1\n",
    "emb1, emb2 = node_embeddings_v4[i1],node_embeddings_v4[i2]\n",
    "n1,n2 = graph_v2['nodes'][i1], graph_v2['nodes'][i2]\n",
    "\n",
    "n1, n2, cosine_sim(emb1,emb2)"
   ]
  },
  {
   "cell_type": "code",
   "execution_count": 54,
   "id": "8f2f62d8-c842-4048-8589-c3b57004c2b0",
   "metadata": {},
   "outputs": [],
   "source": [
    "graph_embedding_size = 100\n",
    "from numpy.linalg import norm\n",
    "\n",
    "def cosine_sim(A,B):\n",
    "    return np.dot(A,B)/(norm(A)*norm(B))\n",
    "\n",
    "def get_embedding(graph):\n",
    "    edges_ = pd.DataFrame({\n",
    "            'source': [e['source'] for e in graph['edges']],\n",
    "            'target': [e['target'] for e in graph['edges']],\n",
    "            'type': graph['edge_types']\n",
    "        })\n",
    "\n",
    "    G = StellarGraph(IndexedArray(index=graph['nodes']), edges_, edge_type_column=\"type\")\n",
    "\n",
    "    walk_length = 10\n",
    "    rw = BiasedRandomWalk(G)\n",
    "    walks = rw.run(\n",
    "        nodes=G.nodes(),  # root nodes\n",
    "        length=walk_length,  # maximum length of a random walk\n",
    "        n=5,  # number of random walks per root node\n",
    "        p=0.5,  # Defines (unormalised) probability, 1/p, of returning to source node\n",
    "        q=2.0,  # Defines (unormalised) probability, 1/q, for moving away from source node\n",
    "        weighted=False,  # for weighted random walks\n",
    "        seed=42,  # random seed fixed for reproducibility\n",
    "    )\n",
    "\n",
    "    model = Word2Vec(\n",
    "        walks,  vector_size=graph_embedding_size, window=2, min_count=1, sg=1, workers=1\n",
    "    )\n",
    "\n",
    "    return model.wv.vectors\n",
    "\n",
    "graph_ex = {'nodes': [0,1,2,3,4,5,6,7,8,9,10], \n",
    "            'edges': [\n",
    "                { 'source': 0,'target': 1},\n",
    "                {'source': 0,'target': 2},\n",
    "                {'source': 0,'target': 3},\n",
    "                {'source': 1,'target': 2},\n",
    "                {'source': 1,'target': 3},\n",
    "                {'source': 2,'target': 3},\n",
    "                {'source': 2,'target': 4},\n",
    "                {'source': 4,'target': 5},\n",
    "                {'source': 4,'target': 6},\n",
    "                {'source': 5,'target': 6},\n",
    "                {'source': 6,'target': 7},\n",
    "                {'source': 5,'target': 8},\n",
    "                {'source': 5,'target': 9},\n",
    "                {'source': 9,'target': 10}\n",
    "            ], 'edge_types': [1,1,1,1,1,1,1,1,1,1,1,1,1,1]}\n",
    "\n",
    "G = GraphVisualization()\n",
    "\n",
    "for edge in graph_ex['edges'][:100]:\n",
    "    G.addEdge(edge['source'],edge['target'])\n",
    "# G.visualize()\n",
    "\n",
    "embeddings_ex = get_embedding(graph_ex)"
   ]
  },
  {
   "cell_type": "code",
   "execution_count": 55,
   "id": "faf56a59-b7b3-404a-88df-90f4bd3b5987",
   "metadata": {},
   "outputs": [
    {
     "data": {
      "text/plain": [
       "(0.018792106, 0.08034596, -0.09701292)"
      ]
     },
     "execution_count": 55,
     "metadata": {},
     "output_type": "execute_result"
    }
   ],
   "source": [
    "A = embeddings_ex[0]\n",
    "B = embeddings_ex[1]\n",
    "C = embeddings_ex[10]\n",
    "cosine_sim(A,B),cosine_sim(A,C),cosine_sim(B,C)"
   ]
  },
  {
   "cell_type": "code",
   "execution_count": 60,
   "id": "34d57bcc-4cc5-426b-8592-bd32fd9f352f",
   "metadata": {},
   "outputs": [],
   "source": [
    "G = GraphVisualization()\n",
    "\n",
    "%matplotlib qt\n",
    "for edge in graph_v2['edges'][:100]:\n",
    "    G.addEdge(edge['source'],edge['target'])\n",
    "G.visualize()"
   ]
  },
  {
   "cell_type": "code",
   "execution_count": 103,
   "id": "f31776a4-0bbd-43b0-8dda-b1803f3b3a65",
   "metadata": {
    "collapsed": true,
    "jupyter": {
     "outputs_hidden": true
    },
    "tags": []
   },
   "outputs": [
    {
     "name": "stdout",
     "output_type": "stream",
     "text": [
      "context_layer (None, 80)\n",
      "embedding_clusters_layer (78, 80)\n",
      "att_scores (78, None)\n",
      "att_normalized (78, None)\n",
      "embedding_attention_result_layer (80, None)\n",
      "WARNING:tensorflow:Model was constructed with shape (None, 1) for input KerasTensor(type_spec=TensorSpec(shape=(None, 1), dtype=tf.string, name='graph_input'), name='graph_input', description=\"created by layer 'graph_input'\"), but it was called on an input with incompatible shape (None, 2).\n"
     ]
    }
   ],
   "source": [
    "context_input = Input(shape=(1,), dtype='string', name='graph_input')                           \n",
    "context_layer = tf.keras.layers.StringLookup(vocabulary=cluster_names, output_mode='multi_hot')(context_input)\n",
    "# context_layer = Sum(context_layer)\n",
    "# context_layer = keras.layers.core.Lambda(lambda x: tf.expand_dims(x,axis=1))(context_layer)\n",
    "print(\"context_layer\", K.int_shape(context_layer))\n",
    "\n",
    "# get representation for entity clusters\n",
    "# embedding_groups_input = Input(tensor=embedding_groups_tensor,name='embedding_groups_input')\n",
    "embedding_groups_input = FakeEmbeddingGroupsInput(context_layer)\n",
    "l = Conv1D(filters=1, kernel_size=2, strides=2)(embedding_groups_input)\n",
    "l = MaxPooling1D(pool_size=2, strides=2)(l)\n",
    "l = Conv1D(filters=1, kernel_size=2, strides=2)(l)\n",
    "l = MaxPooling1D(pool_size=2, strides=2)(l)\n",
    "l = RemoveLastCol(l)\n",
    "print(\"embedding_clusters_layer\", K.int_shape(l))\n",
    "# embedding_clusters_layer = Reshape([80], name='entity_cluster_reps')(l)\n",
    "embedding_clusters_layer = l\n",
    "\n",
    "#attention over entities\n",
    "att_scores = DotProduct([embedding_clusters_layer, Transpose(context_layer)])\n",
    "print(\"att_scores\", K.int_shape(att_scores))\n",
    "att_normalized = Softmax(axis=-1, name='entity_attention')(att_scores)\n",
    "print(\"att_normalized\", K.int_shape(att_normalized))\n",
    "embedding_attention_result_layer = DotProduct([Transpose(embedding_clusters_layer), att_normalized])\n",
    "print(\"embedding_attention_result_layer\", K.int_shape(embedding_attention_result_layer))\n",
    "\n",
    "model_3 = tf.keras.models.Model(inputs=[context_input], outputs=embedding_attention_result_layer)\n",
    "\n",
    "res = model_3.predict([['Art-Painting','Science-Biology'],['Art-Sculpting','Science-Chemistry']])\n",
    "res.shape,res"
   ]
  },
  {
   "cell_type": "markdown",
   "id": "fdbc2e2e-6601-49e1-99be-cb9c4b2d0857",
   "metadata": {},
   "source": [
    "#### Prepare Neural Net"
   ]
  },
  {
   "cell_type": "code",
   "execution_count": 7,
   "id": "363bd125-d504-4ac6-84b9-3dcb02296139",
   "metadata": {},
   "outputs": [],
   "source": [
    "max_features = 10000\n",
    "sequence_length = 200\n",
    "\n",
    "vectorize_layer = tf.keras.layers.TextVectorization(\n",
    "    max_tokens=max_features,\n",
    "    output_mode='int',\n",
    "    output_sequence_length=sequence_length\n",
    ")\n",
    "\n",
    "with tf.device(\"/CPU:0\"):\n",
    "    vectorize_layer.adapt(x_train_text)"
   ]
  },
  {
   "cell_type": "code",
   "execution_count": 106,
   "id": "357262bc-5f84-46e1-9661-466c7f6ee751",
   "metadata": {
    "collapsed": true,
    "jupyter": {
     "outputs_hidden": true
    },
    "tags": []
   },
   "outputs": [
    {
     "name": "stdout",
     "output_type": "stream",
     "text": [
      "text_layer (None, 100)\n",
      "context_layer (None, 80)\n",
      "embedding_clusters_layer (78, 80)\n",
      "att_scores (78, None)\n",
      "att_normalized (78, None)\n",
      "embedding_attention_result_layer (80, None)\n",
      "concatenated (180, None)\n",
      "Model: \"model_49\"\n",
      "__________________________________________________________________________________________________\n",
      "Layer (type)                    Output Shape         Param #     Connected to                     \n",
      "==================================================================================================\n",
      "graph_input (InputLayer)        [(None, 1)]          0                                            \n",
      "__________________________________________________________________________________________________\n",
      "string_lookup_56 (StringLookup) (None, 80)           0           graph_input[0][0]                \n",
      "__________________________________________________________________________________________________\n",
      "lambda_181 (Lambda)             (78, 1280, 100)      0           string_lookup_56[0][0]           \n",
      "__________________________________________________________________________________________________\n",
      "conv1d_78 (Conv1D)              (78, 640, 1)         201         lambda_181[0][0]                 \n",
      "__________________________________________________________________________________________________\n",
      "input_35 (InputLayer)           [(None, 1)]          0                                            \n",
      "__________________________________________________________________________________________________\n",
      "max_pooling1d_78 (MaxPooling1D) (78, 320, 1)         0           conv1d_78[0][0]                  \n",
      "__________________________________________________________________________________________________\n",
      "text_vectorization_1 (TextVecto (None, 200)          0           input_35[0][0]                   \n",
      "__________________________________________________________________________________________________\n",
      "conv1d_79 (Conv1D)              (78, 160, 1)         3           max_pooling1d_78[0][0]           \n",
      "__________________________________________________________________________________________________\n",
      "embedding_33 (Embedding)        (None, 200, 100)     500100      text_vectorization_1[10][0]      \n",
      "__________________________________________________________________________________________________\n",
      "max_pooling1d_79 (MaxPooling1D) (78, 80, 1)          0           conv1d_79[0][0]                  \n",
      "__________________________________________________________________________________________________\n",
      "global_average_pooling1d_33 (Gl (None, 100)          0           embedding_33[0][0]               \n",
      "__________________________________________________________________________________________________\n",
      "lambda_179 (Lambda)             (78, 80)             0           max_pooling1d_79[0][0]           \n",
      "__________________________________________________________________________________________________\n",
      "lambda_180 (Lambda)             multiple             0           string_lookup_56[0][0]           \n",
      "                                                                 lambda_179[0][0]                 \n",
      "                                                                 global_average_pooling1d_33[0][0]\n",
      "                                                                 concatenate_30[0][0]             \n",
      "__________________________________________________________________________________________________\n",
      "lambda_177 (Lambda)             multiple             0           lambda_179[0][0]                 \n",
      "                                                                 lambda_180[0][0]                 \n",
      "                                                                 lambda_180[1][0]                 \n",
      "                                                                 entity_attention[0][0]           \n",
      "__________________________________________________________________________________________________\n",
      "entity_attention (Softmax)      (78, None)           0           lambda_177[0][0]                 \n",
      "__________________________________________________________________________________________________\n",
      "concatenate_30 (Concatenate)    (180, None)          0           lambda_180[2][0]                 \n",
      "                                                                 lambda_177[1][0]                 \n",
      "__________________________________________________________________________________________________\n",
      "dense_27 (Dense)                (None, 78)           14118       lambda_180[3][0]                 \n",
      "==================================================================================================\n",
      "Total params: 514,422\n",
      "Trainable params: 514,422\n",
      "Non-trainable params: 0\n",
      "__________________________________________________________________________________________________\n"
     ]
    }
   ],
   "source": [
    "MAX_TOKENS_NUM = 5000  # Maximum vocab size.\n",
    "EMBEDDING_DIMS = 100\n",
    "\n",
    "Avg = keras.layers.core.Lambda(lambda x: K.mean(x, axis=1))  # , output_shape=(KG_EMBEDDING_DIM, ))\n",
    "DotProduct = keras.layers.core.Lambda(lambda x: K.dot(x[0], x[1]))  # , output_shape=(KG_EMBEDDING_DIM, ))\n",
    "Sum = keras.layers.core.Lambda(lambda x: K.sum(x, axis=0))  # , output_shape=(KG_EMBEDDING_DIM, ))\n",
    "RemoveLastCol = keras.layers.core.Lambda(lambda x: K.sum(x, axis=-1))\n",
    "Transpose = keras.layers.core.Lambda(lambda x: K.transpose(x))\n",
    "FakeEmbeddingGroupsInput = keras.layers.core.Lambda(lambda x: np.asarray(embedding_groups), dtype='float32')\n",
    "# np.expand_dims(pd.DataFrame(embedding_groups).values,axis=2)\n",
    "# embedding_groups_tensor = K.variable(embedding_groups)\n",
    "\n",
    "cluster_names = unique_labels + ['None']\n",
    "\n",
    "# embedding_groups_input = pd.DataFrame([[0,1,2] for i in range(len(embedding_groups))]).values\n",
    "\n",
    "text_input = tf.keras.Input(shape=(1,), dtype=tf.string)\n",
    "\n",
    "text_layer = vectorize_layer(text_input)\n",
    "text_layer = tf.keras.layers.Embedding(MAX_TOKENS_NUM + 1, EMBEDDING_DIMS)(text_layer)\n",
    "text_layer = tf.keras.layers.GlobalAveragePooling1D()(text_layer)\n",
    "print(\"text_layer\", K.int_shape(text_layer))\n",
    "\n",
    "context_input = Input(shape=(1,), dtype='string', name='graph_input')                           \n",
    "context_layer = tf.keras.layers.StringLookup(vocabulary=cluster_names, output_mode='multi_hot')(context_input)\n",
    "# context_layer = Sum(context_layer)\n",
    "# context_layer = keras.layers.core.Lambda(lambda x: tf.expand_dims(x,axis=1))(context_layer)\n",
    "print(\"context_layer\", K.int_shape(context_layer))\n",
    "\n",
    "# get representation for entity clusters\n",
    "# embedding_groups_input = Input(tensor=embedding_groups_tensor,name='embedding_groups_input')\n",
    "embedding_groups_input = FakeEmbeddingGroupsInput(context_layer)\n",
    "l = Conv1D(filters=1, kernel_size=2, strides=2)(embedding_groups_input)\n",
    "l = MaxPooling1D(pool_size=2, strides=2)(l)\n",
    "l = Conv1D(filters=1, kernel_size=2, strides=2)(l)\n",
    "l = MaxPooling1D(pool_size=2, strides=2)(l)\n",
    "l = RemoveLastCol(l)\n",
    "print(\"embedding_clusters_layer\", K.int_shape(l))\n",
    "# embedding_clusters_layer = Reshape([80], name='entity_cluster_reps')(l)\n",
    "embedding_clusters_layer = l\n",
    "\n",
    "#attention over entities\n",
    "att_scores = DotProduct([embedding_clusters_layer, Transpose(context_layer)])\n",
    "print(\"att_scores\", K.int_shape(att_scores))\n",
    "att_normalized = Softmax(axis=-1, name='entity_attention')(att_scores)\n",
    "print(\"att_normalized\", K.int_shape(att_normalized))\n",
    "embedding_attention_result_layer = DotProduct([Transpose(embedding_clusters_layer), att_normalized])\n",
    "print(\"embedding_attention_result_layer\", K.int_shape(embedding_attention_result_layer))\n",
    "\n",
    "concatenated = Concatenate(axis=0)([Transpose(text_layer), embedding_attention_result_layer])\n",
    "print(\"concatenated\", K.int_shape(concatenated))\n",
    "final_output = Dense(units=len(unique_labels), activation='softmax')(Transpose(concatenated))\n",
    "\n",
    "model_3 = tf.keras.models.Model(inputs=[text_input, context_input], outputs=final_output)\n",
    "model_3.compile(loss=tf.keras.losses.SparseCategoricalCrossentropy(from_logits=True),\n",
    "              optimizer='adam',\n",
    "              metrics=tf.metrics.SparseCategoricalAccuracy())\n",
    "\n",
    "model_3.summary()"
   ]
  },
  {
   "cell_type": "code",
   "execution_count": 107,
   "id": "b55c76a9-3869-414f-b1ec-bc066f1cacf0",
   "metadata": {
    "collapsed": true,
    "jupyter": {
     "outputs_hidden": true
    },
    "tags": []
   },
   "outputs": [
    {
     "name": "stdout",
     "output_type": "stream",
     "text": [
      "Input shapes (4499, 1) (4499, 38) (4499, 1)\n",
      "Epoch 1/20\n",
      "WARNING:tensorflow:Model was constructed with shape (None, 1) for input KerasTensor(type_spec=TensorSpec(shape=(None, 1), dtype=tf.string, name='graph_input'), name='graph_input', description=\"created by layer 'graph_input'\"), but it was called on an input with incompatible shape (1, 38).\n"
     ]
    },
    {
     "name": "stderr",
     "output_type": "stream",
     "text": [
      "/home/cnytync/Dev/anaconda3/envs/Python36/lib/python3.6/site-packages/keras/backend.py:4907: UserWarning: \"`sparse_categorical_crossentropy` received `from_logits=True`, but the `output` argument was produced by a sigmoid or softmax activation and thus does not represent logits. Was this intended?\"\n",
      "  '\"`sparse_categorical_crossentropy` received `from_logits=True`, but '\n"
     ]
    },
    {
     "name": "stdout",
     "output_type": "stream",
     "text": [
      "WARNING:tensorflow:Model was constructed with shape (None, 1) for input KerasTensor(type_spec=TensorSpec(shape=(None, 1), dtype=tf.string, name='graph_input'), name='graph_input', description=\"created by layer 'graph_input'\"), but it was called on an input with incompatible shape (1, 38).\n",
      "4499/4499 [==============================] - 25s 5ms/step - loss: 4.4775 - sparse_categorical_accuracy: 0.0662\n",
      "Epoch 2/20\n",
      "4499/4499 [==============================] - 22s 5ms/step - loss: 3.0090 - sparse_categorical_accuracy: 0.2834\n",
      "Epoch 3/20\n",
      "4499/4499 [==============================] - 22s 5ms/step - loss: 2.1407 - sparse_categorical_accuracy: 0.4928\n",
      "Epoch 4/20\n",
      "4499/4499 [==============================] - 22s 5ms/step - loss: 1.5731 - sparse_categorical_accuracy: 0.6241\n",
      "Epoch 5/20\n",
      "4499/4499 [==============================] - 22s 5ms/step - loss: 1.2079 - sparse_categorical_accuracy: 0.7097\n",
      "Epoch 6/20\n",
      "4499/4499 [==============================] - 22s 5ms/step - loss: 0.9568 - sparse_categorical_accuracy: 0.7671\n",
      "Epoch 7/20\n",
      "4499/4499 [==============================] - 22s 5ms/step - loss: 0.7697 - sparse_categorical_accuracy: 0.8115\n",
      "Epoch 8/20\n",
      "4499/4499 [==============================] - 22s 5ms/step - loss: 0.6196 - sparse_categorical_accuracy: 0.8446\n",
      "Epoch 9/20\n",
      "4499/4499 [==============================] - 22s 5ms/step - loss: 0.5030 - sparse_categorical_accuracy: 0.8773\n",
      "Epoch 10/20\n",
      "4499/4499 [==============================] - 23s 5ms/step - loss: 0.4153 - sparse_categorical_accuracy: 0.8949\n",
      "Epoch 11/20\n",
      "4499/4499 [==============================] - 23s 5ms/step - loss: 0.3445 - sparse_categorical_accuracy: 0.9113\n",
      "Epoch 12/20\n",
      "4499/4499 [==============================] - 23s 5ms/step - loss: 0.3002 - sparse_categorical_accuracy: 0.9198\n",
      "Epoch 13/20\n",
      "4499/4499 [==============================] - 23s 5ms/step - loss: 0.2608 - sparse_categorical_accuracy: 0.9295\n",
      "Epoch 14/20\n",
      "4499/4499 [==============================] - 23s 5ms/step - loss: 0.2378 - sparse_categorical_accuracy: 0.9309\n",
      "Epoch 15/20\n",
      "4499/4499 [==============================] - 23s 5ms/step - loss: 0.2181 - sparse_categorical_accuracy: 0.9349\n",
      "Epoch 16/20\n",
      "4499/4499 [==============================] - 23s 5ms/step - loss: 0.2041 - sparse_categorical_accuracy: 0.9373\n",
      "Epoch 17/20\n",
      "4499/4499 [==============================] - 23s 5ms/step - loss: 0.1948 - sparse_categorical_accuracy: 0.9342\n",
      "Epoch 18/20\n",
      "4499/4499 [==============================] - 23s 5ms/step - loss: 0.1860 - sparse_categorical_accuracy: 0.9398\n",
      "Epoch 19/20\n",
      "4499/4499 [==============================] - 24s 5ms/step - loss: 0.1786 - sparse_categorical_accuracy: 0.9409\n",
      "Epoch 20/20\n",
      "4499/4499 [==============================] - 23s 5ms/step - loss: 0.1729 - sparse_categorical_accuracy: 0.9435\n"
     ]
    }
   ],
   "source": [
    "x_train_input = pd.DataFrame(x_train_text).values\n",
    "context_data_train_input = pd.DataFrame(x_train_context).values\n",
    "y_train_output = pd.DataFrame(y_train_int).values\n",
    "\n",
    "print('Input shapes',x_train_input.shape,context_data_train_input.shape,y_train_output.shape)\n",
    "for c in context_data_train_input:\n",
    "    for i,v in enumerate(c):\n",
    "        c[i] = 'Other' if not v else v \n",
    "\n",
    "epochs =  20\n",
    "history = model_3.fit(\n",
    "    [x_train_input,context_data_train_input],\n",
    "    y=y_train_output, batch_size=1,\n",
    "    epochs=epochs)"
   ]
  },
  {
   "cell_type": "code",
   "execution_count": 108,
   "id": "874865d0-31a6-44b4-97fd-6c6d59d2da98",
   "metadata": {
    "collapsed": true,
    "jupyter": {
     "outputs_hidden": true
    },
    "tags": []
   },
   "outputs": [
    {
     "data": {
      "image/png": "[encoded data removed]",
      "text/plain": [
       "<Figure size 432x288 with 1 Axes>"
      ]
     },
     "metadata": {
      "needs_background": "light"
     },
     "output_type": "display_data"
    },
    {
     "data": {
      "image/png": "[encoded data removed]",
      "text/plain": [
       "<Figure size 432x288 with 1 Axes>"
      ]
     },
     "metadata": {
      "needs_background": "light"
     },
     "output_type": "display_data"
    }
   ],
   "source": [
    "plt.plot(history.history['sparse_categorical_accuracy'])\n",
    "plt.show()\n",
    "plt.plot(history.history['loss'])\n",
    "plt.show()"
   ]
  },
  {
   "cell_type": "code",
   "execution_count": 110,
   "id": "77264c46-728b-4bdb-b098-5ba8d081ea3a",
   "metadata": {},
   "outputs": [
    {
     "name": "stdout",
     "output_type": "stream",
     "text": [
      "WARNING:tensorflow:Model was constructed with shape (None, 1) for input KerasTensor(type_spec=TensorSpec(shape=(None, 1), dtype=tf.string, name='graph_input'), name='graph_input', description=\"created by layer 'graph_input'\"), but it was called on an input with incompatible shape (None, 28).\n",
      "54/54 [==============================] - 3s 10ms/step - loss: 1.3994 - sparse_categorical_accuracy: 0.6564\n",
      "Test loss / test accuracy = 1.3994 / 0.6564\n"
     ]
    }
   ],
   "source": [
    "# Restore the best found model during validation\n",
    "# m.load_weights(tmpfn)\n",
    "\n",
    "x_test_input = pd.DataFrame(x_test_text).values\n",
    "context_data_test_input = pd.DataFrame(x_test_context).values\n",
    "y_test_output = pd.DataFrame(y_test_int).values\n",
    "\n",
    "for c in context_data_test_input:\n",
    "    for i,v in enumerate(c):\n",
    "        c[i] = 'Other' if not v else v \n",
    "        \n",
    "new_context_data_test_input = pd.DataFrame(new_context_data_test_input).values\n",
    "        \n",
    "loss, acc = model_3.evaluate([x_test_input,context_data_test_input], y_test_output)\n",
    "print('Test loss / test accuracy = {:.4f} / {:.4f}'.format(loss, acc))"
   ]
  },
  {
   "cell_type": "code",
   "execution_count": 111,
   "id": "575ced12-6aa0-4dec-948d-d81344dd2fca",
   "metadata": {
    "collapsed": true,
    "jupyter": {
     "outputs_hidden": true
    },
    "tags": []
   },
   "outputs": [
    {
     "name": "stdout",
     "output_type": "stream",
     "text": [
      "WARNING:tensorflow:Model was constructed with shape (None, 1) for input KerasTensor(type_spec=TensorSpec(shape=(None, 1), dtype=tf.string, name='graph_input'), name='graph_input', description=\"created by layer 'graph_input'\"), but it was called on an input with incompatible shape (1, 38).\n",
      "Accuracy score: 0.66\n",
      "                              precision    recall  f1-score   support\n",
      "\n",
      "                Architecture       1.00      0.89      0.94        27\n",
      "      Architecture-Structure       0.87      0.68      0.76        19\n",
      "                  Art-Cinema       0.66      0.76      0.70        25\n",
      "            Art-Cinema-Actor       0.20      0.12      0.15        26\n",
      "                   Art-Dance       0.86      0.67      0.75        18\n",
      "            Art-Dance-Dancer       0.70      0.64      0.67        25\n",
      "                 Art-Fashion       0.72      0.69      0.71        26\n",
      "        Art-Fashion-Designer       0.70      0.57      0.63        28\n",
      "           Art-Fashion-Model       1.00      0.50      0.67        10\n",
      "              Art-Literature       0.62      0.74      0.68        27\n",
      "       Art-Literature-Writer       0.52      0.62      0.57        24\n",
      "                   Art-Music       0.82      0.77      0.79        30\n",
      "        Art-Music-Instrument       0.94      0.67      0.78        24\n",
      "                Art-Painting       0.87      0.74      0.80        27\n",
      "         Art-Painting-Artist       0.62      0.64      0.63        28\n",
      "             Art-Photography       0.50      0.38      0.43         8\n",
      "Art-Photography-Photographer       0.58      0.73      0.64        26\n",
      "               Art-Sculpting       0.93      0.86      0.89        29\n",
      "        Art-Sculpting-Artist       0.77      0.71      0.74        28\n",
      "                 Art-Theatre       0.94      0.71      0.81        24\n",
      "           Art-Theatre-Actor       0.33      0.70      0.45        23\n",
      "                   Astronomy       0.65      0.69      0.67        16\n",
      "           Astronomy-Program       0.00      0.00      0.00         2\n",
      "                     Culture       0.32      0.30      0.31        20\n",
      "             Culture-Country       0.16      0.17      0.16        30\n",
      "   Culture-Historical Figure       0.76      0.59      0.67        27\n",
      "                       Media       0.65      0.61      0.63        28\n",
      "                 Media-Anime       0.70      0.61      0.66        31\n",
      "               Media-Cartoon       0.58      0.55      0.56        20\n",
      "           Media-Documentary       0.77      0.71      0.74        24\n",
      "                  Media-News       0.57      0.57      0.57        23\n",
      "     Media-TV Series & Shows       0.45      0.56      0.50        25\n",
      "                    Military       0.76      0.39      0.52        33\n",
      "           Military-Aviation       0.95      0.60      0.73        30\n",
      "               Military-Land       1.00      0.91      0.95        23\n",
      "              Military-Naval       0.77      0.91      0.83        22\n",
      "             Military-Weapon       0.82      0.82      0.82        17\n",
      "                   Mythology       0.04      0.04      0.04        23\n",
      "      Mythology-Supernatural       0.64      0.70      0.67        30\n",
      "               Nature-Animal       0.61      0.82      0.70        34\n",
      "                 Nature-Food       0.29      0.30      0.30        33\n",
      "        Nature-Microorganism       0.92      0.85      0.88        13\n",
      "                Nature-Plant       1.00      0.52      0.68        27\n",
      "                       Other       0.34      1.00      0.51        16\n",
      "                  Philosophy       0.27      0.39      0.32        18\n",
      "                    Religion       0.65      0.58      0.61        19\n",
      "         Science-Agriculture       1.00      0.81      0.89        26\n",
      "         Science-Antropology       0.60      0.67      0.63        18\n",
      "          Science-Archeology       0.71      1.00      0.83        24\n",
      "             Science-Biology       0.88      0.94      0.91        32\n",
      "           Science-Chemistry       0.87      0.69      0.77        29\n",
      "      Science-Earth Sciences       0.86      0.68      0.76        28\n",
      "           Science-Economics       0.66      0.76      0.70        25\n",
      "         Science-Mathematics       0.88      1.00      0.94        15\n",
      "            Science-Medicine       0.62      0.45      0.53        11\n",
      "         Science-Meteorology       0.92      0.67      0.77        18\n",
      "       Science-Paleonthology       0.93      0.78      0.85        18\n",
      "             Science-Physics       0.80      0.91      0.85        22\n",
      "            Science-Politics       0.67      0.67      0.67        21\n",
      "          Science-Psychology       0.80      0.44      0.57        27\n",
      "     Science-Social Sciences       0.54      0.30      0.39        23\n",
      "                      Sports       0.12      0.17      0.14        24\n",
      "Technology-Civil Engineering       0.76      0.80      0.78        20\n",
      " Technology-Computer Science       0.56      0.38      0.45        26\n",
      "      Technology-Electronics       0.60      0.72      0.65        25\n",
      "        Technology-Mechanics       0.47      0.68      0.56        25\n",
      "         Technology-Robotics       0.89      0.67      0.76        24\n",
      "       Technology-Video Game       0.50      0.88      0.64        32\n",
      "              Transportation       1.00      0.95      0.97        20\n",
      "     Transportation-Aviation       0.50      0.57      0.53        14\n",
      "         Transportation-Land       0.96      1.00      0.98        27\n",
      "        Transportation-Naval       0.96      0.90      0.93        30\n",
      "      Transportation-Railway       0.96      0.96      0.96        27\n",
      "\n",
      "                    accuracy                           0.66      1717\n",
      "                   macro avg       0.68      0.65      0.65      1717\n",
      "                weighted avg       0.69      0.66      0.66      1717\n",
      "\n"
     ]
    },
    {
     "name": "stderr",
     "output_type": "stream",
     "text": [
      "/home/cnytync/Dev/anaconda3/envs/Python36/lib/python3.6/site-packages/sklearn/metrics/_classification.py:1248: UndefinedMetricWarning: Precision and F-score are ill-defined and being set to 0.0 in labels with no predicted samples. Use `zero_division` parameter to control this behavior.\n",
      "  _warn_prf(average, modifier, msg_start, len(result))\n",
      "/home/cnytync/Dev/anaconda3/envs/Python36/lib/python3.6/site-packages/sklearn/metrics/_classification.py:1248: UndefinedMetricWarning: Precision and F-score are ill-defined and being set to 0.0 in labels with no predicted samples. Use `zero_division` parameter to control this behavior.\n",
      "  _warn_prf(average, modifier, msg_start, len(result))\n",
      "/home/cnytync/Dev/anaconda3/envs/Python36/lib/python3.6/site-packages/sklearn/metrics/_classification.py:1248: UndefinedMetricWarning: Precision and F-score are ill-defined and being set to 0.0 in labels with no predicted samples. Use `zero_division` parameter to control this behavior.\n",
      "  _warn_prf(average, modifier, msg_start, len(result))\n"
     ]
    }
   ],
   "source": [
    "results = model_3.predict([x_test_input,new_context_data_test_input], batch_size=1)\n",
    "def get_result_labels(results):\n",
    "    return [unique_labels[np.where(row==max(row))[0][0]] for row in results]\n",
    "\n",
    "result_labels = get_result_labels(results)\n",
    "print('Accuracy score: %.2f' % accuracy_score(result_labels, y_test))\n",
    "print(classification_report(y_test, result_labels))"
   ]
  },
  {
   "cell_type": "markdown",
   "id": "5892a6ac-7521-40a5-979e-09bad37c9f32",
   "metadata": {},
   "source": [
    "### SVM WITH CONTEXT"
   ]
  },
  {
   "cell_type": "code",
   "execution_count": 7,
   "id": "053c65d5-4258-429d-8ebc-17fb07d46d46",
   "metadata": {},
   "outputs": [],
   "source": [
    "import sys\n",
    "\n",
    "sys.path.append('../')\n",
    "\n",
    "import bz2\n",
    "import csv, logging, pickle5 as pickle, pandas as pd, re, random\n",
    "from dewiki.parser import Parser\n",
    "\n",
    "from wikitextprocessor import Wtp\n",
    "import seaborn as sns\n",
    "\n",
    "import requests\n",
    "import numpy as np\n",
    "import pandas as pd\n",
    "from sklearn.feature_extraction.text import TfidfVectorizer, CountVectorizer\n",
    "from sklearn.model_selection import train_test_split\n",
    "from sklearn.naive_bayes import MultinomialNB\n",
    "from sklearn.svm import LinearSVC\n",
    "from sklearn.tree import DecisionTreeClassifier\n",
    "from sklearn.neural_network import MLPClassifier\n",
    "from sklearn.pipeline import make_pipeline\n",
    "from sklearn.metrics import confusion_matrix, classification_report\n",
    "from sklearn.metrics import accuracy_score\n",
    "\n",
    "import requests, os\n",
    "\n",
    "\n",
    "def pickler(path, pkl_name, obj):\n",
    "    with open(os.path.join(path, pkl_name), 'wb') as f:\n",
    "        pickle.dump(obj, f, pickle.HIGHEST_PROTOCOL)\n",
    "\n",
    "\n",
    "def unpickler(path, pkl_name):\n",
    "    with open(os.path.join(path, pkl_name), 'rb') as f:\n",
    "        obj = pickle.load(f)\n",
    "    return obj\n"
   ]
  },
  {
   "cell_type": "code",
   "execution_count": 8,
   "id": "efed5b5c-ee70-4115-84a8-440f0df433b3",
   "metadata": {},
   "outputs": [
    {
     "data": {
      "text/plain": [
       "[('Art-Painting', 100), ('Art-Music-Instrument', 2), ('Nature-Plant', 2), ('Nature-Food', 1), ('Nature-Microorganism', 1), ('Culture-Country', 1)]"
      ]
     },
     "execution_count": 8,
     "metadata": {},
     "output_type": "execute_result"
    }
   ],
   "source": [
    "node_cluster_mapping_with_count['Mona Lisa']"
   ]
  },
  {
   "cell_type": "code",
   "execution_count": 9,
   "id": "dbfe46eb-03d4-48e5-8d84-bcd52074c93f",
   "metadata": {},
   "outputs": [
    {
     "name": "stderr",
     "output_type": "stream",
     "text": [
      "WARNING:tensorflow:Model was constructed with shape (None, 1) for input KerasTensor(type_spec=TensorSpec(shape=(None, 1), dtype=tf.string, name='graph_input'), name='graph_input', description=\"created by layer 'graph_input'\"), but it was called on an input with incompatible shape (None, 36).\n"
     ]
    }
   ],
   "source": [
    "cluster_names = unique_labels + ['None']\n",
    "\n",
    "context_input = Input(shape=(1,), dtype='string', name='graph_input')                           \n",
    "context_layer = tf.keras.layers.StringLookup(vocabulary=cluster_names, output_mode='multi_hot')(context_input)\n",
    "\n",
    "m = tf.keras.models.Model(inputs=[context_input], outputs=context_layer)\n",
    "\n",
    "context_data_train_input = pd.DataFrame(x_train_context).values\n",
    "\n",
    "for c in context_data_train_input:\n",
    "    for i, v in enumerate(c):\n",
    "        c[i] = 'Other' if not v else v\n",
    "\n",
    "context_train_encodings = m.predict(context_data_train_input)\n",
    "\n",
    "for encoding in context_train_encodings:\n",
    "    encoding[78] = 0.0\n",
    "    \n",
    "context_data_test_input = pd.DataFrame(x_test_context).values\n",
    "\n",
    "for c in context_data_test_input:\n",
    "    for i,v in enumerate(c):\n",
    "        c[i] = 'Other' if not v else v \n",
    "\n",
    "context_test_encodings = m.predict(context_data_test_input)\n",
    "\n",
    "for encoding in context_test_encodings:\n",
    "    encoding[78] = 0.0"
   ]
  },
  {
   "cell_type": "code",
   "execution_count": 10,
   "id": "e3bd0e49-23cb-48f7-bc10-07a530f87f29",
   "metadata": {
    "tags": []
   },
   "outputs": [
    {
     "data": {
      "text/plain": [
       "{'name': 'Levharti Chomutov', 'dbpedia_uri': 'http://dbpedia.org/resource/Levharti_Chomutov', 'text': '\\n\\n_\\n\\nExternal links\\n*[http://www.bk-chomutov.cz/ Official Site] \\n*[http://basketball.eurobasket.com/team/Levharti_Chomutov/1797 Eurobasket.com Team Page]\\n\\n\\n\\n\\n\\n\\n', 'context_graph': {'nodes': ['Levharti Chomutov', 'BasketballTeam', 'National Basketball League (Czech Republic)'], 'edges': [{'source': 'Levharti Chomutov', 'target': 'BasketballTeam'}, {'source': 'Levharti Chomutov', 'target': 'National Basketball League (Czech Republic)'}], 'edge_types': ['http://www.w3.org/1999/02/22-rdf-syntax-ns#type', 'http://dbpedia.org/property/league']}, 'graph': {'nodes': ['Levharti Chomutov', 'BasketballTeam', 'SportsTeam', 'National Basketball League (Czech Republic)', 'http://www.w3.org/2002/07/owl#Thing', 'Czech Republic', 'Basketball Nymburk', 'FIBA Europe', 'Czech Republic Basketball Cup', 'Sports league', 'Basketball', 'Czech Basketball Federation'], 'edges': [{'source': 'Levharti Chomutov', 'target': 'BasketballTeam'}, {'source': 'BasketballTeam', 'target': 'SportsTeam'}, {'source': 'Levharti Chomutov', 'target': 'National Basketball League (Czech Republic)'}, {'source': 'National Basketball League (Czech Republic)', 'target': 'http://www.w3.org/2002/07/owl#Thing'}, {'source': 'National Basketball League (Czech Republic)', 'target': 'Czech Republic'}, {'source': 'National Basketball League (Czech Republic)', 'target': 'Basketball Nymburk'}, {'source': 'National Basketball League (Czech Republic)', 'target': 'FIBA Europe'}, {'source': 'National Basketball League (Czech Republic)', 'target': 'Czech Republic Basketball Cup'}, {'source': 'National Basketball League (Czech Republic)', 'target': 'Sports league'}, {'source': 'National Basketball League (Czech Republic)', 'target': 'Basketball'}, {'source': 'National Basketball League (Czech Republic)', 'target': 'Czech Basketball Federation'}], 'edge_types': ['http://www.w3.org/1999/02/22-rdf-syntax-ns#type', 'http://www.w3.org/2000/01/rdf-schema#subClassOf', 'http://dbpedia.org/property/league', 'http://www.w3.org/1999/02/22-rdf-syntax-ns#type', 'http://dbpedia.org/property/country', 'http://dbpedia.org/property/champions', 'http://dbpedia.org/property/confed', 'http://dbpedia.org/property/domestCup', 'https://www.wikidata.org/wiki/Property:P31', 'https://www.wikidata.org/wiki/Property:P641', 'https://www.wikidata.org/wiki/Property:P664']}, 'context_data': ['Religion', 'Sports', 'Art-Literature-Writer']}"
      ]
     },
     "execution_count": 10,
     "metadata": {},
     "output_type": "execute_result"
    }
   ],
   "source": [
    "data[66]['data'][5]"
   ]
  },
  {
   "cell_type": "code",
   "execution_count": 13,
   "id": "da763092-93bb-4fd5-9bba-134199dbc1bc",
   "metadata": {
    "tags": []
   },
   "outputs": [
    {
     "name": "stdout",
     "output_type": "stream",
     "text": [
      "Accuracy score: 0.78\n"
     ]
    },
    {
     "name": "stderr",
     "output_type": "stream",
     "text": [
      "/home/cnytync/Dev/anaconda3/envs/Python36/lib/python3.6/site-packages/sklearn/metrics/_classification.py:1248: UndefinedMetricWarning: Precision and F-score are ill-defined and being set to 0.0 in labels with no predicted samples. Use `zero_division` parameter to control this behavior.\n",
      "  _warn_prf(average, modifier, msg_start, len(result))\n",
      "/home/cnytync/Dev/anaconda3/envs/Python36/lib/python3.6/site-packages/sklearn/metrics/_classification.py:1248: UndefinedMetricWarning: Precision and F-score are ill-defined and being set to 0.0 in labels with no predicted samples. Use `zero_division` parameter to control this behavior.\n",
      "  _warn_prf(average, modifier, msg_start, len(result))\n",
      "/home/cnytync/Dev/anaconda3/envs/Python36/lib/python3.6/site-packages/sklearn/metrics/_classification.py:1248: UndefinedMetricWarning: Precision and F-score are ill-defined and being set to 0.0 in labels with no predicted samples. Use `zero_division` parameter to control this behavior.\n",
      "  _warn_prf(average, modifier, msg_start, len(result))\n"
     ]
    },
    {
     "name": "stdout",
     "output_type": "stream",
     "text": [
      "                              precision    recall  f1-score   support\n",
      "\n",
      "                Architecture       0.93      1.00      0.96        25\n",
      "      Architecture-Structure       0.93      1.00      0.96        26\n",
      "                  Art-Cinema       0.87      0.83      0.85        24\n",
      "            Art-Cinema-Actor       0.39      0.39      0.39        23\n",
      "                   Art-Dance       1.00      0.76      0.86        21\n",
      "            Art-Dance-Dancer       0.71      0.91      0.80        22\n",
      "                 Art-Fashion       0.91      0.88      0.89        24\n",
      "        Art-Fashion-Designer       0.80      0.83      0.82        24\n",
      "           Art-Fashion-Model       1.00      0.82      0.90        11\n",
      "              Art-Literature       0.84      0.93      0.88        28\n",
      "       Art-Literature-Writer       0.79      0.73      0.76        30\n",
      "                   Art-Music       0.83      0.97      0.90        31\n",
      "        Art-Music-Instrument       0.86      1.00      0.93        25\n",
      "                Art-Painting       0.89      0.86      0.87        28\n",
      "         Art-Painting-Artist       0.41      0.57      0.48        28\n",
      "             Art-Photography       1.00      1.00      1.00         5\n",
      "Art-Photography-Photographer       0.65      0.59      0.62        29\n",
      "               Art-Sculpting       0.92      0.76      0.83        29\n",
      "        Art-Sculpting-Artist       0.62      0.69      0.66        29\n",
      "                 Art-Theatre       0.81      0.92      0.86        24\n",
      "           Art-Theatre-Actor       0.41      0.39      0.40        23\n",
      "                   Astronomy       0.89      0.73      0.80        22\n",
      "           Astronomy-Program       1.00      1.00      1.00         3\n",
      "                     Culture       0.69      0.55      0.61        20\n",
      "             Culture-Country       0.26      0.25      0.25        28\n",
      "   Culture-Historical Figure       0.79      0.94      0.86        16\n",
      "                       Media       1.00      0.79      0.88        24\n",
      "                 Media-Anime       0.84      0.88      0.86        24\n",
      "               Media-Cartoon       0.89      0.83      0.86        29\n",
      "           Media-Documentary       0.68      0.74      0.71        23\n",
      "                  Media-News       0.67      0.88      0.76        16\n",
      "     Media-TV Series & Shows       0.77      1.00      0.87        24\n",
      "                    Military       0.64      0.26      0.37        27\n",
      "           Military-Aviation       0.80      0.92      0.86        26\n",
      "               Military-Land       0.86      1.00      0.92        24\n",
      "              Military-Naval       0.81      0.91      0.86        23\n",
      "             Military-Weapon       0.91      0.80      0.85        25\n",
      "                   Mythology       0.59      0.71      0.64        24\n",
      "      Mythology-Supernatural       0.81      0.59      0.68        29\n",
      "               Nature-Animal       0.70      0.78      0.74        27\n",
      "                 Nature-Food       0.05      0.04      0.04        24\n",
      "        Nature-Microorganism       0.75      0.60      0.67        15\n",
      "                Nature-Plant       0.80      0.80      0.80        30\n",
      "                       Other       1.00      1.00      1.00        26\n",
      "                  Philosophy       0.53      0.34      0.42        29\n",
      "                    Religion       0.70      0.79      0.75        24\n",
      "         Science-Agriculture       0.96      0.85      0.90        26\n",
      "         Science-Antropology       0.57      0.68      0.62        19\n",
      "          Science-Archeology       0.96      1.00      0.98        26\n",
      "             Science-Biology       0.82      1.00      0.90        23\n",
      "           Science-Chemistry       0.81      0.81      0.81        26\n",
      "      Science-Earth Sciences       0.88      0.96      0.92        23\n",
      "           Science-Economics       0.73      0.70      0.72        27\n",
      "         Science-Mathematics       1.00      1.00      1.00        16\n",
      "            Science-Medicine       0.83      0.83      0.83        12\n",
      "         Science-Meteorology       0.95      0.83      0.89        24\n",
      "       Science-Paleonthology       0.90      0.90      0.90        20\n",
      "             Science-Physics       0.78      0.91      0.84        23\n",
      "            Science-Politics       0.70      0.76      0.73        21\n",
      "          Science-Psychology       0.82      0.50      0.62        28\n",
      "     Science-Social Sciences       0.46      0.61      0.52        28\n",
      "                      Sports       1.00      0.96      0.98        24\n",
      "Technology-Civil Engineering       0.90      0.83      0.86        23\n",
      " Technology-Computer Science       0.68      0.59      0.63        22\n",
      "      Technology-Electronics       0.70      0.70      0.70        27\n",
      "        Technology-Mechanics       0.62      0.67      0.65        15\n",
      "     Technology-Mechatronics       0.00      0.00      0.00         1\n",
      "         Technology-Robotics       0.86      0.90      0.88        21\n",
      "       Technology-Video Game       0.97      0.90      0.93        31\n",
      "              Transportation       1.00      1.00      1.00        29\n",
      "     Transportation-Aviation       0.67      0.40      0.50        10\n",
      "         Transportation-Land       0.96      0.96      0.96        27\n",
      "        Transportation-Naval       0.93      0.96      0.94        26\n",
      "      Transportation-Railway       0.96      0.96      0.96        24\n",
      "\n",
      "                    accuracy                           0.78      1713\n",
      "                   macro avg       0.78      0.77      0.77      1713\n",
      "                weighted avg       0.78      0.78      0.77      1713\n",
      "\n"
     ]
    }
   ],
   "source": [
    "vectorizer = TfidfVectorizer(max_features=10000)\n",
    "tfidf = vectorizer.fit(x_train_text)\n",
    "x_train_vectors = tfidf.transform(x_train_text)\n",
    "x_test_vectors = tfidf.transform(x_test_text)\n",
    "\n",
    "model = LinearSVC()\n",
    "\n",
    "x_train_svc = np.concatenate((x_train_vectors.toarray(),context_train_encodings),axis=1)\n",
    "x_test_svc = np.concatenate((x_test_vectors.toarray(),context_test_encodings),axis=1)\n",
    "\n",
    "model.fit(x_train_svc, y=y_train)\n",
    "result_labels = model.predict(x_test_svc)\n",
    "\n",
    "mat = confusion_matrix(y_test, result_labels)\n",
    "\n",
    "# sns.heatmap(mat.T, square=True, annot=True, fmt='d', cbar=False,\n",
    "#             xticklabels=get_labels(data), yticklabels=get_labels(data), linewidths=.5)\n",
    "\n",
    "print('Accuracy score: %.2f' % accuracy_score(result_labels, y_test))\n",
    "print(classification_report(y_test, result_labels))\n",
    "# print(mat)"
   ]
  },
  {
   "cell_type": "code",
   "execution_count": null,
   "id": "f8f868f4-03ed-48c0-8300-5028ad23ee4c",
   "metadata": {},
   "outputs": [],
   "source": []
  }
 ],
 "metadata": {
  "kernelspec": {
   "display_name": "Python [conda env:Python36]",
   "language": "python",
   "name": "conda-env-Python36-py"
  },
  "language_info": {
   "codemirror_mode": {
    "name": "ipython",
    "version": 3
   },
   "file_extension": ".py",
   "mimetype": "text/x-python",
   "name": "python",
   "nbconvert_exporter": "python",
   "pygments_lexer": "ipython3",
   "version": "3.6.15"
  }
 },
 "nbformat": 4,
 "nbformat_minor": 5
}

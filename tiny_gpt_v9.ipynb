{
 "cells": [
  {
   "cell_type": "code",
   "execution_count": 1,
   "id": "d2424ed0-4ebc-4c6d-bff7-beaffeea95d2",
   "metadata": {},
   "outputs": [
    {
     "name": "stdout",
     "output_type": "stream",
     "text": [
      "Tensorflow verions: 2.4.0\n",
      "Available GPUs: [PhysicalDevice(name='/physical_device:GPU:0', device_type='GPU')]\n"
     ]
    }
   ],
   "source": [
    "%matplotlib inline\n",
    "\n",
    "import os\n",
    "\n",
    "os.environ[\"KERAS_BACKEND\"] = \"tensorflow\"\n",
    "\n",
    "import tensorflow.keras as keras\n",
    "from tensorflow.keras import layers\n",
    "# from tensorflow.keras import ops\n",
    "from tensorflow.keras.layers.experimental.preprocessing import TextVectorization\n",
    "import numpy as np\n",
    "import os\n",
    "import string\n",
    "import random\n",
    "import tensorflow as tf\n",
    "import tensorflow.data as tf_data\n",
    "import tensorflow.strings as tf_strings\n",
    "\n",
    "from stellargraph.data import BiasedRandomWalk\n",
    "from stellargraph import StellarGraph, IndexedArray\n",
    "from gensim.models import Word2Vec\n",
    "import pandas as pd\n",
    "import matplotlib.pyplot as plt\n",
    "from mpl_toolkits import mplot3d\n",
    "\n",
    "from stellargraph.mapper import AdjacencyPowerGenerator\n",
    "from stellargraph.layer import WatchYourStep\n",
    "from stellargraph import datasets, utils\n",
    "from tensorflow.keras import callbacks, optimizers, losses, metrics, regularizers, Model\n",
    "\n",
    "from stellargraph.mapper import KGTripleGenerator\n",
    "from stellargraph.layer import ComplEx\n",
    "\n",
    "from IPython.display import HTML\n",
    "\n",
    "from graph_visualization import GraphVisualization\n",
    "\n",
    "print(\"Tensorflow verions:\", tf.__version__)\n",
    "print('Available GPUs:', tf.config.experimental.list_physical_devices('GPU'))"
   ]
  },
  {
   "cell_type": "code",
   "execution_count": 2,
   "id": "d675e3fb-95f2-48da-8c64-16479f68adcc",
   "metadata": {
    "jupyter": {
     "source_hidden": true
    }
   },
   "outputs": [
    {
     "name": "stdout",
     "output_type": "stream",
     "text": [
      "TensorShape([32, 2, 10, 10])\n",
      "(32, 2, 10, 10)\n"
     ]
    }
   ],
   "source": [
    "\n",
    "def causal_attention_mask(batch_size, n_dest, n_src, num_vectors, dtype):\n",
    "    \"\"\"\n",
    "    Mask the upper half of the dot product matrix in self attention.\n",
    "    This prevents flow of information from future tokens to current token.\n",
    "    1's in the lower triangle, counting from the lower right corner.\n",
    "    \"\"\"\n",
    "    i = tf.range(n_dest)[:, None]\n",
    "    j = tf.range(n_src)\n",
    "    m = i >= j - n_src + n_dest\n",
    "    mask = tf.cast(m, dtype)\n",
    "    mask = tf.reshape(mask, [1, 1, n_dest, n_src])\n",
    "    mult = tf.concat(\n",
    "        [tf.expand_dims(batch_size, -1), tf.convert_to_tensor([num_vectors, 1, 1])], 0\n",
    "    )\n",
    "    tiled = tf.tile(mask, mult)\n",
    "    # tiled = tf.transpose(tiled, perm=[3,2,1,0])\n",
    "    tf.print(tiled.shape)\n",
    "    return tiled\n",
    "\n",
    "# Example usage\n",
    "batch_size = 32\n",
    "n_dest = 10\n",
    "n_src = 10\n",
    "num_vectors = 2\n",
    "dtype = tf.float32\n",
    "\n",
    "mask = causal_attention_mask(batch_size, n_dest, n_src, num_vectors, dtype)\n",
    "print(mask.shape)"
   ]
  },
  {
   "cell_type": "code",
   "execution_count": 34,
   "id": "93b860e0-b6d6-49cc-8275-1d6b9beeb305",
   "metadata": {},
   "outputs": [],
   "source": [
    "def causal_attention_mask(batch_size, n_dest, n_src, num_vectors, dtype):\n",
    "    \"\"\"\n",
    "    Mask the upper half of the dot product matrix in self attention.\n",
    "    This prevents flow of information from future tokens to current token.\n",
    "    1's in the lower triangle, counting from the lower right corner.\n",
    "    \"\"\"\n",
    "    i = tf.range(n_dest)[:, None]\n",
    "    j = tf.range(n_src)\n",
    "    m = i >= j - n_src + n_dest\n",
    "    mask = tf.cast(m, dtype)\n",
    "    mask = tf.reshape(mask, [1, 1, 1, n_dest, n_src])  # Adjust shape for broadcasting\n",
    "    mult = tf.concat(\n",
    "        [tf.expand_dims(batch_size, -1), tf.convert_to_tensor([1, 2, 1, 1])], 0\n",
    "    )\n",
    "    # return tf.transpose(tf.tile(mask, mult), perm=[0, 3, 1, 4, 2])\n",
    "    \n",
    "\n",
    "class TransformerBlock(layers.Layer):\n",
    "    def __init__(self, embed_dim, num_heads, ff_dim, rate=0.1, **kwargs):\n",
    "        super().__init__(**kwargs)\n",
    "        self.att = layers.MultiHeadAttention(num_heads, embed_dim, attention_axes=[1, 2])\n",
    "        self.ffn = keras.Sequential(\n",
    "            [\n",
    "                layers.Dense(ff_dim, activation=\"relu\"),\n",
    "                layers.Dense(embed_dim),\n",
    "            ]\n",
    "        )\n",
    "        self.layernorm1 = layers.LayerNormalization(epsilon=1e-6)\n",
    "        self.layernorm2 = layers.LayerNormalization(epsilon=1e-6)\n",
    "        self.dropout1 = layers.Dropout(rate)\n",
    "        self.dropout2 = layers.Dropout(rate)\n",
    "\n",
    "    def call(self, inputs):\n",
    "        input_shape = tf.shape(inputs)\n",
    "        batch_size = input_shape[0]\n",
    "        seq_len = input_shape[1]\n",
    "        causal_mask = causal_attention_mask(batch_size, seq_len, seq_len, 2, \"bool\")\n",
    "        attention_output = self.att(inputs, inputs, attention_mask=causal_mask)\n",
    "        attention_output = self.dropout1(attention_output)\n",
    "        out1 = self.layernorm1(inputs + attention_output)\n",
    "        ffn_output = self.ffn(out1)\n",
    "        ffn_output = self.dropout2(ffn_output)\n",
    "        return self.layernorm2(out1 + ffn_output)\n",
    "\n",
    "    def get_weights(self):\n",
    "        return [self.att.get_weights(), self.ffn.layers[0].get_weights(), self.ffn.layers[1].get_weights()]\n",
    "\n",
    "    def set_weights(self, weights):\n",
    "        self.att.set_weights(weights[0])\n",
    "        self.ffn.layers[0].set_weights(weights[1])\n",
    "        self.ffn.layers[1].set_weights(weights[2])"
   ]
  },
  {
   "cell_type": "code",
   "execution_count": 4,
   "id": "a0ae20fa-e191-4b5f-92e7-7fd3d05d971b",
   "metadata": {
    "jupyter": {
     "source_hidden": true
    },
    "scrolled": true
   },
   "outputs": [
    {
     "name": "stdout",
     "output_type": "stream",
     "text": [
      "3 files\n"
     ]
    }
   ],
   "source": [
    "vocab_size = 30  # Only consider the top 20k words\n",
    "maxlen = 10  # Max sequence size\n",
    "batch_size = 128\n",
    "\n",
    "# The dataset contains each review in a separate text file\n",
    "# The text files are present in four different folders\n",
    "# Create a list all files\n",
    "filenames = []\n",
    "directories = [\n",
    "    \"gpt-dataset/custom-2.6\"\n",
    "]\n",
    "for dir in directories:\n",
    "    for f in os.listdir(dir):\n",
    "        filenames.append(os.path.join(dir, f))\n",
    "\n",
    "# filenames = filenames[:10000]\n",
    "\n",
    "print(f\"{len(filenames)} files\")\n",
    "\n",
    "# Create a dataset from text files\n",
    "random.shuffle(filenames)\n",
    "text_ds = tf_data.TextLineDataset(filenames)\n",
    "\n",
    "def custom_standardization(input_string):\n",
    "    \"\"\"Remove html line-break tags and handle punctuation\"\"\"\n",
    "    lowercased = tf_strings.lower(input_string)\n",
    "    stripped_html = tf_strings.regex_replace(lowercased, \"<br />\", \" \")\n",
    "    return tf_strings.regex_replace(stripped_html, f\"([{string.punctuation}])\", r\" \\1\")\n",
    "\n",
    "\n",
    "# Create a vectorization layer and adapt it to the text\n",
    "vectorize_layer = TextVectorization(\n",
    "    standardize=custom_standardization,\n",
    "    max_tokens=vocab_size - 1,\n",
    "    output_mode=\"int\",\n",
    "    output_sequence_length=maxlen + 1,\n",
    ")\n",
    "vectorize_layer.adapt(text_ds)\n",
    "vocab = vectorize_layer.get_vocabulary()  # To get words back from token indices\n",
    "\n",
    "from sklearn.feature_extraction.text import CountVectorizer\n",
    "def count_occurences(text_ds):\n",
    "\n",
    "    def preprocess_text(text):\n",
    "        # Custom text preprocessing\n",
    "        # For example, you can perform lowercasing, punctuation removal, etc.\n",
    "        return text.lower()\n",
    "    \n",
    "    # Preprocess the text data and convert it to a list\n",
    "    preprocessed_texts = [preprocess_text(str(text.numpy())) for text in text_ds]\n",
    "    # Initialize CountVectorizer\n",
    "    vectorizer = CountVectorizer()\n",
    "    # Fit CountVectorizer on preprocessed text data and transform it into token counts\n",
    "    token_counts = vectorizer.fit_transform(preprocessed_texts)\n",
    "    # Get the vocabulary and token counts\n",
    "    vocab = vectorizer.get_feature_names_out()\n",
    "    counts = token_counts.toarray().sum(axis=0)\n",
    "    # Create a dictionary to store token counts\n",
    "    token_counts_dict = dict(zip(vocab, counts))\n",
    "\n",
    "    token_counts_dict = sorted(token_counts_dict.items(), key=lambda item: item[1], reverse=True)\n",
    "    \n",
    "    print(token_counts_dict)\n",
    "\n",
    "# count_occurences(text_ds)\n",
    "\n",
    "def filter_dataset(line):\n",
    "    return not tf.strings.regex_full_match(line, \".*\\\\bpiano\\\\b.*\") and not tf.strings.regex_full_match(line, \".*\\\\bcar\\\\b.*\") and not tf.strings.regex_full_match(line, \".*\\\\btruck\\\\b.*\")\n",
    "\n",
    "text_ds = text_ds.filter(lambda line: filter_dataset(line))\n",
    "\n",
    "text_ds = text_ds.shuffle(buffer_size=256)\n",
    "text_ds = text_ds.batch(batch_size)\n",
    "\n",
    "# for text in text_ds:\n",
    "#     print(str(text.numpy()))"
   ]
  },
  {
   "cell_type": "code",
   "execution_count": 5,
   "id": "2d95d8db-170b-4421-b463-760d5355fe51",
   "metadata": {
    "jupyter": {
     "source_hidden": true
    }
   },
   "outputs": [],
   "source": [
    "def prepare_lm_inputs_labels(text):\n",
    "    \"\"\"\n",
    "    Shift word sequences by 1 position so that the target for position (i) is\n",
    "    word at position (i+1). The model will use all words up till position (i)\n",
    "    to predict the next word.\n",
    "    \"\"\"\n",
    "    text = tf.expand_dims(text, -1)\n",
    "    tokenized_sentences = vectorize_layer(text)\n",
    "    x = tokenized_sentences[:, :-1]\n",
    "    y = tokenized_sentences[:, 1:]\n",
    "\n",
    "    # zeros_column = tf.zeros_like(y[:, :1])  # Create a column of zeros with the same shape as the first column of y\n",
    "    # y = tf.concat([zeros_column, y], axis=1)  # Concatenate the zeros column with y along the column axis\n",
    "\n",
    "    return x, y\n",
    "\n",
    "text_ds = text_ds.map(prepare_lm_inputs_labels, num_parallel_calls=tf_data.AUTOTUNE)\n",
    "text_ds = text_ds.prefetch(tf_data.AUTOTUNE)\n",
    "\n",
    "def prepare_node_vector_outputs(text_ds, node_embeddings):\n",
    "    def process(x,y):\n",
    "        return x, tf.gather(node_embeddings, y)\n",
    "        \n",
    "    return text_ds.map(process, num_parallel_calls=tf_data.AUTOTUNE)"
   ]
  },
  {
   "cell_type": "code",
   "execution_count": 6,
   "id": "046753c0-b525-48c4-9b59-b6e6e5948c5c",
   "metadata": {
    "jupyter": {
     "source_hidden": true
    },
    "scrolled": true
   },
   "outputs": [],
   "source": [
    "sources = ['guitar', 'guitar', 'guitar', 'violin', 'violin', 'violin', 'piano', 'piano', 'piano', \n",
    "           'car', 'car', 'car', 'truck', 'truck', 'truck', 'neck', 'strings', 'keys', 'pedals', \n",
    "           'wheels', 'baggage', 'trunk', 'instrument', 'vehicle', 'trombone', 'trombone', 'trombone', 'bell', 'slide']\n",
    "labels = ['is', 'has', 'has', 'is', 'has', 'has', 'is', 'has', 'has', 'is', 'has', 'has', 'is',\n",
    "          'has', 'has', 'is', 'is', 'is', 'is', 'is', 'is', 'is', 'has', 'has', 'is', 'has', 'has', 'is', 'is']\n",
    "targets = ['instrument', 'neck', 'strings', 'instrument', 'neck', 'strings', 'instrument', 'keys', \n",
    "           'pedals', 'vehicle', 'wheels', 'baggage', 'vehicle', 'wheels', 'trunk', 'part', 'part', \n",
    "           'part', 'part', 'part', 'part', 'part', 'part', 'part', 'instrument', 'bell', 'slide', 'part', 'part']\n",
    "\n",
    "sources.extend(['organ', 'organ', 'organ'])\n",
    "labels.extend(['is', 'has', 'has'])\n",
    "targets.extend(['instrument', 'keys', 'pedals'])\n",
    "\n",
    "graph_data = pd.DataFrame({'source': sources, 'label': labels, 'target': targets})\n",
    "\n",
    "rel_graphs = {}\n",
    "for index, row in graph_data.iterrows():\n",
    "    df = rel_graphs.get(row['label'], pd.DataFrame({'source': [], 'label': [], 'target': []}))\n",
    "    df = df.append({'source': row['source'], 'label': row['label'], 'target': row['target']}, ignore_index=True)\n",
    "    rel_graphs[row['label']] = df\n",
    "    \n",
    "# graph_data"
   ]
  },
  {
   "cell_type": "code",
   "execution_count": 7,
   "id": "96655133-7e51-43fd-a1a6-ac4abcc7d9ae",
   "metadata": {
    "jupyter": {
     "source_hidden": true
    },
    "scrolled": true
   },
   "outputs": [],
   "source": [
    "graph_embedding_size = 10\n",
    "\n",
    "def node2vec(G):\n",
    "        walk_length = 100\n",
    "        rw = BiasedRandomWalk(G)\n",
    "        walks = rw.run(\n",
    "            nodes=G.nodes(),  # root nodes\n",
    "            length=walk_length,  # maximum length of a random walk\n",
    "            n=10,  # number of random walks per root node\n",
    "            p=0.5,  # Defines (unormalised) probability, 1/p, of returning to source node\n",
    "            q=2.0,  # Defines (unormalised) probability, 1/q, for moving away from source node\n",
    "            weighted=False,  # for weighted random walks\n",
    "            seed=42,  # random seed fixed for reproducibility\n",
    "        )\n",
    "\n",
    "        model = Word2Vec(\n",
    "            walks,  vector_size=graph_embedding_size, window=5, min_count=0, sg=1, workers=1\n",
    "        )\n",
    "\n",
    "        return pd.DataFrame([(key, vector) for key,vector in zip(model.wv.index_to_key, model.wv.vectors)], columns=['node', 'embedding'])\n",
    "\n",
    "def fill_graph(graph, vocab):\n",
    "    for word in vocab:\n",
    "        graph['nodes'].append(word) if word not in graph['nodes'] else None\n",
    "\n",
    "    return graph\n",
    "    \n",
    "def get_graph(graph_data):\n",
    "    nodes, edges, edge_types = [], [], []\n",
    "\n",
    "    for word in graph_data['source'].unique():\n",
    "        nodes.append(word)\n",
    "\n",
    "    for word in graph_data['target'].unique():\n",
    "        nodes.append(word) if word not in nodes else None\n",
    "\n",
    "    for index, row in graph_data.iterrows():\n",
    "        edges.append({'source': row['source'], 'target': row['target']})\n",
    "        edge_types.append(row['label'])\n",
    "\n",
    "    graph = {'nodes':nodes, 'edges': edges, 'edge_types': edge_types}\n",
    "\n",
    "    graph = fill_graph(graph, vocab)\n",
    "    \n",
    "    edges_ = pd.DataFrame({\n",
    "            'source': [e['source'] for e in graph['edges']],\n",
    "            'target': [e['target'] for e in graph['edges']],\n",
    "            'type': graph['edge_types']\n",
    "        })\n",
    "\n",
    "    G = StellarGraph(IndexedArray(index=graph['nodes']), edges_, edge_type_column=\"type\")\n",
    "    \n",
    "    return graph, G\n",
    "\n",
    "def get_embeddings(G):\n",
    "    node_embeddings = complex_embeddings(G, conceptnet_data[['source','label','target']])\n",
    "        \n",
    "    return node_embeddings\n",
    "    \n",
    "graph, G = get_graph(graph_data)\n",
    "full_embeddings = node2vec(G)\n",
    "\n",
    "tmp = []\n",
    "for i,word in enumerate(vocab):\n",
    "    lower_nodes = list(map(lambda k: k.lower(), full_embeddings['node']))\n",
    "    index = lower_nodes.index(word.lower()) if word.lower() in lower_nodes else -1\n",
    "    if index != -1:\n",
    "        tmp.append(full_embeddings.iloc[index][1])\n",
    "    else:\n",
    "        tmp.append(np.ones(graph_embedding_size) * -10)\n",
    "\n",
    "full_embeddings = np.array(tmp)\n",
    "\n",
    "graphs, node_embeddings = [], []\n",
    "for key, _graph_data in rel_graphs.items():\n",
    "    _graph, G = get_graph(_graph_data)\n",
    "    graphs.append(_graph)\n",
    "    node_embeddings.append(node2vec(G))\n",
    "\n",
    "for j, emb in enumerate(node_embeddings):\n",
    "    tmp = []\n",
    "    lower_nodes = list(map(lambda k: k.lower(), emb['node']))\n",
    "    for i,word in enumerate(vocab):\n",
    "        index = lower_nodes.index(word.lower()) if word.lower() in lower_nodes else -1\n",
    "        if index != -1:\n",
    "            tmp.append(emb.iloc[index][1])\n",
    "        else:\n",
    "            tmp.append(np.ones(graph_embedding_size) * -10)\n",
    "    \n",
    "    node_embeddings[j] = np.array(tmp).tolist()\n",
    "\n",
    "node_embeddings = np.array(node_embeddings)"
   ]
  },
  {
   "cell_type": "code",
   "execution_count": 8,
   "id": "81deed0a-d102-43b0-a6b8-2410723048d0",
   "metadata": {
    "jupyter": {
     "source_hidden": true
    }
   },
   "outputs": [
    {
     "data": {
      "text/plain": [
       "(27, 20)"
      ]
     },
     "execution_count": 8,
     "metadata": {},
     "output_type": "execute_result"
    }
   ],
   "source": [
    "final_embeddings = None\n",
    "for i in range(0, node_embeddings.shape[0] - 1):\n",
    "    embeddings =  np.concatenate((node_embeddings[i], node_embeddings[i + 1]), axis=1)\n",
    "    final_embeddings = embeddings if not final_embeddings else np.concatenate((final_embeddings, embeddings), axis = 1) \n",
    "\n",
    "# final_embeddings = node_embeddings[0]\n",
    "# final_embeddings = node_embeddings[0]\n",
    "# final_embeddings = np.concatenate((final_embeddings, full_embeddings), axis=1)\n",
    "final_embeddings.shape"
   ]
  },
  {
   "cell_type": "code",
   "execution_count": 9,
   "id": "79869c49-e29b-4383-a3af-5049fcb5539d",
   "metadata": {
    "jupyter": {
     "source_hidden": true
    }
   },
   "outputs": [
    {
     "data": {
      "text/plain": [
       "(27, 2, 10)"
      ]
     },
     "execution_count": 9,
     "metadata": {},
     "output_type": "execute_result"
    }
   ],
   "source": [
    "tmp = np.expand_dims(node_embeddings, axis=2)\n",
    "final_embeddings = None\n",
    "for i in range(0, node_embeddings.shape[0] - 1):\n",
    "    embeddings =  np.concatenate((tmp[0], tmp[1]), axis=1)\n",
    "    final_embeddings = embeddings if not final_embeddings else np.concatenate((final_embeddings, embeddings), axis = 1) \n",
    "\n",
    "# final_embeddings = node_embeddings[0]\n",
    "# final_embeddings = node_embeddings[0]\n",
    "# final_embeddings = np.concatenate((final_embeddings, full_embeddings), axis=1)\n",
    "final_embeddings.shape"
   ]
  },
  {
   "cell_type": "code",
   "execution_count": 10,
   "id": "5c32efc5-96d2-44e4-8816-76e0efb7fae9",
   "metadata": {
    "jupyter": {
     "source_hidden": true
    }
   },
   "outputs": [
    {
     "data": {
      "image/png": "[encoded data removed]",
      "text/plain": [
       "<Figure size 640x480 with 1 Axes>"
      ]
     },
     "metadata": {},
     "output_type": "display_data"
    }
   ],
   "source": [
    "_graph = graph\n",
    "# _graph = graphs[0]\n",
    "index = 0\n",
    "vis = GraphVisualization()\n",
    "for edge in _graph['edges'][index:]:\n",
    "    vis.addEdge(edge['source'], edge['target'])\n",
    "vis.visualize()"
   ]
  },
  {
   "cell_type": "code",
   "execution_count": 11,
   "id": "b6dd4d40-79b8-4a82-9202-3b172a79bbcb",
   "metadata": {
    "jupyter": {
     "source_hidden": true
    }
   },
   "outputs": [],
   "source": [
    "from numpy.linalg import norm\n",
    "\n",
    "def cosine_sim(A,B):\n",
    "    return np.dot(A,B)/(norm(A)*norm(B))\n",
    "\n",
    "def euclidean_distance(vector1, vector2):\n",
    "    \"\"\"Calculate the Euclidean distance between two vectors.\"\"\"\n",
    "    # Ensure both vectors are NumPy arrays\n",
    "    vector1 = np.array(vector1)\n",
    "    vector2 = np.array(vector2)\n",
    "    \n",
    "    # Calculate the squared differences between corresponding elements\n",
    "    squared_diff = np.square(vector1 - vector2)\n",
    "    \n",
    "    # Sum the squared differences and take the square root\n",
    "    distance = np.sqrt(np.sum(squared_diff))\n",
    "    \n",
    "    return distance"
   ]
  },
  {
   "cell_type": "code",
   "execution_count": 12,
   "id": "1a45ad26-9e27-4006-877c-2a722c625092",
   "metadata": {
    "jupyter": {
     "source_hidden": true
    }
   },
   "outputs": [],
   "source": [
    "# index_A = vocab.index('guitar')\n",
    "# index_B = vocab.index('neck')\n",
    "# index_C = vocab.index('piano')\n",
    "# index_D = vocab.index('keys')\n",
    "# index_E = vocab.index('trombone')\n",
    "# index_F = vocab.index('bell')\n",
    "# index_G = vocab.index('instrument')\n",
    "\n",
    "# # embeddings = node_embeddings[0]\n",
    "# embeddings = final_embeddings\n",
    "# A,B,C,D,E,F,G = embeddings[index_A], embeddings[index_B], embeddings[index_C], embeddings[index_D], embeddings[index_E], embeddings[index_F], embeddings[index_G]\n",
    "# # print('Cosine Similarities: ')\n",
    "# print('A, B: ', cosine_sim(A,B), '\\nA, C: ', cosine_sim(A,C), '\\nA, D: ', cosine_sim(A,D), \n",
    "#       '\\nB, C: ',cosine_sim(B,C), '\\nB, D: ', cosine_sim(B,D), '\\nC, D: ', cosine_sim(C,D),\n",
    "#       '\\nA, E: ',cosine_sim(A,E), '\\nB, E: ', cosine_sim(B,E), '\\nE, F: ', cosine_sim(E,F),\n",
    "#       '\\nC, F: ',cosine_sim(C,F), '\\nD, F: ', cosine_sim(D,F), '\\nA, G: ', cosine_sim(A,G),\n",
    "#       '\\nB, G: ', cosine_sim(B,G), '\\nE, G: ', cosine_sim(E,G))\n",
    "# print('Euclidean Distances: ')\n",
    "# print('A, B: ', euclidean_distance(A,B), '\\nA, C: ', euclidean_distance(A,C), '\\nA, D: ', euclidean_distance(A,D), \n",
    "#       '\\nB, C: ',euclidean_distance(B,C), '\\nB, D: ', euclidean_distance(B,D), '\\nC, D: ', euclidean_distance(C,D),\n",
    "#       '\\nA, E: ',euclidean_distance(A,E), '\\nB, E: ', euclidean_distance(B,E), '\\nE, F: ', euclidean_distance(E,F),\n",
    "#       '\\nC, F: ',euclidean_distance(C,F), '\\nD, F: ', euclidean_distance(D,F), '\\nA, G: ', euclidean_distance(A,G),\n",
    "#       '\\nB, G: ', euclidean_distance(B,G), '\\nC, G: ', euclidean_distance(C,G), '\\nD, G: ', euclidean_distance(D,G),\n",
    "#       '\\nE, G: ', euclidean_distance(E,G), '\\nF, G: ', euclidean_distance(F,G))"
   ]
  },
  {
   "cell_type": "code",
   "execution_count": 13,
   "id": "4bc9fc97-599e-49da-aca6-d60416d0c604",
   "metadata": {
    "jupyter": {
     "source_hidden": true
    }
   },
   "outputs": [],
   "source": [
    "# index_A = vocab.index('guitar')\n",
    "# index_B = vocab.index('neck')\n",
    "# index_C = vocab.index('piano')\n",
    "# index_D = vocab.index('keys')\n",
    "# index_E = vocab.index('trombone')\n",
    "# index_F = vocab.index('bell')\n",
    "\n",
    "# from sklearn.manifold import TSNE\n",
    "\n",
    "# transform = TSNE(n_components=3)\n",
    "# transformed_embeddings = transform.fit_transform(embeddings)\n",
    "# print(transformed_embeddings.shape)\n",
    "\n",
    "# A,B,C,D,E,F = transformed_embeddings[index_A], transformed_embeddings[index_B], transformed_embeddings[index_C], transformed_embeddings[index_D], transformed_embeddings[index_E], transformed_embeddings[index_F]\n",
    "\n",
    "# # print(A, B, C, D, E, F)\n",
    "\n",
    "# # Create a 3D axis\n",
    "# fig = plt.figure()\n",
    "# ax = plt.axes(projection='3d')\n",
    "\n",
    "# x = [A[0], B[0]]\n",
    "# y = [A[1], B[1]]\n",
    "# z = [A[2], B[2]]\n",
    "\n",
    "# ax.plot3D(x, y, z, 'gray')\n",
    "\n",
    "# x = [C[0], D[0]]\n",
    "# y = [C[1], D[1]]\n",
    "# z = [C[2], D[2]]\n",
    "\n",
    "# ax.plot3D(x, y, z, 'gray')\n",
    "\n",
    "# x = [E[0], F[0]]\n",
    "# y = [E[1], F[1]]\n",
    "# z = [E[2], F[2]]\n",
    "\n",
    "# ax.plot3D(x, y, z, 'gray')\n",
    "\n",
    "# # Set labels and title\n",
    "# ax.set_xlabel('X')\n",
    "# ax.set_ylabel('Y')\n",
    "# ax.set_zlabel('Z')\n",
    "# ax.set_title('3D Line Plot')\n",
    "\n",
    "# # Show plot\n",
    "# plt.show()"
   ]
  },
  {
   "cell_type": "code",
   "execution_count": 14,
   "id": "d7065158-ddea-4d4d-ae99-04e59c540903",
   "metadata": {},
   "outputs": [],
   "source": [
    "graph_ds = prepare_node_vector_outputs(text_ds, final_embeddings)\n",
    "graph_ds = graph_ds.prefetch(tf_data.AUTOTUNE)"
   ]
  },
  {
   "cell_type": "code",
   "execution_count": 15,
   "id": "6930c678-79a1-4f5d-95f2-88493276a45f",
   "metadata": {},
   "outputs": [
    {
     "data": {
      "text/plain": [
       "(<PrefetchDataset shapes: ((None, 10), (None, 10, 2, 10)), types: (tf.int64, tf.float64)>,\n",
       " <PrefetchDataset shapes: ((None, 10), (None, 10)), types: (tf.int64, tf.int64)>)"
      ]
     },
     "execution_count": 15,
     "metadata": {},
     "output_type": "execute_result"
    }
   ],
   "source": [
    "graph_ds, text_ds"
   ]
  },
  {
   "cell_type": "code",
   "execution_count": 16,
   "id": "c8823209-4d3f-4a41-978a-3de62eabef51",
   "metadata": {
    "scrolled": true
   },
   "outputs": [],
   "source": [
    "# [(word, emb) for word, emb in zip(vocab, final_embeddings)]"
   ]
  },
  {
   "cell_type": "code",
   "execution_count": 17,
   "id": "e8c11b74-deca-4d52-b442-1b4ae002ed4b",
   "metadata": {},
   "outputs": [
    {
     "data": {
      "text/plain": [
       "TensorShape([27, 2, 10])"
      ]
     },
     "execution_count": 17,
     "metadata": {},
     "output_type": "execute_result"
    }
   ],
   "source": [
    "tf.tile(tf.reshape([[0, 1,2,3,4,5,6,7,8,9], [10,11,12,13,14,15,16,17,18,19]],(1, 2, 10)), [final_embeddings.shape[0], 1, 1]).shape\n",
    "# tf.reshape([[0, 1,2,3,4,5,6,7,8,9], [10,11,12,13,14,15,16,17,18,19]],(1, 2, 10)).shape"
   ]
  },
  {
   "cell_type": "code",
   "execution_count": 20,
   "id": "ffa7b441-9e76-41c3-af92-55bc9c7b1b80",
   "metadata": {
    "jupyter": {
     "source_hidden": true
    }
   },
   "outputs": [],
   "source": [
    "class TextGenerator(tf.keras.callbacks.Callback):\n",
    "    \"\"\"A callback to generate text from a trained model.\n",
    "    1. Feed some starting prompt to the model\n",
    "    2. Predict probabilities for the next token\n",
    "    3. Sample the next token and add it to the next input\n",
    "\n",
    "    Arguments:\n",
    "        max_tokens: Integer, the number of tokens to be generated after prompt.\n",
    "        start_tokens: List of integers, the token indices for the starting prompt.\n",
    "        index_to_word: List of strings, obtained from the TextVectorization layer.\n",
    "        top_k: Integer, sample from the `top_k` token predictions.\n",
    "        print_every: Integer, print after this many epochs.\n",
    "    \"\"\"\n",
    "\n",
    "    def __init__(\n",
    "        self, max_tokens, start_tokens, index_to_word, node_embeddings, model = None, top_k=10, print_every=1, method='euclidean'\n",
    "    ):\n",
    "        self.max_tokens = max_tokens\n",
    "        self.start_tokens = start_tokens\n",
    "        self.index_to_word = index_to_word\n",
    "        self.print_every = print_every\n",
    "        self.k = top_k\n",
    "        if model: self.model = model\n",
    "        self.yes_count = 0\n",
    "        self.no_count = 0\n",
    "        self.activation_outputs = []\n",
    "        self.gradients = []\n",
    "        self.node_embeddings = node_embeddings\n",
    "        self.normalized_node_embeddings = tf.nn.l2_normalize(tf.constant(node_embeddings, dtype=tf.float32), axis=1)\n",
    "        self.method = method\n",
    "\n",
    "    def sample_from(self, logits):\n",
    "        logits, indices = tf.math.top_k(logits, k=self.k, sorted=True)\n",
    "        indices = tf.convert_to_tensor(indices, dtype=tf.int32)\n",
    "        preds = tf.keras.activations.softmax(tf.expand_dims(logits, 0))[0]\n",
    "        preds = tf.convert_to_tensor(preds, dtype=tf.float32)\n",
    "  \n",
    "        # Reshape logits to a matrix\n",
    "        logits_matrix = tf.reshape(logits, (1, -1))\n",
    "   \n",
    "        # Sample from the softmax probabilities\n",
    "        sampled_index = tf.random.categorical(tf.math.log(preds)[tf.newaxis, :], num_samples=1)\n",
    "\n",
    "        # Return the sampled index\n",
    "        return indices[sampled_index[0, 0]]\n",
    "\n",
    "    def detokenize(self, number):\n",
    "        return self.index_to_word[number] if number < len(self.index_to_word) else '---'\n",
    "\n",
    "    def euclidean_distance(self, y):\n",
    "        t_1 = tf.cast(self.node_embeddings, dtype=tf.float32)\n",
    "        t_2 = tf.cast(tf.tile(tf.reshape(y,(1, 2, graph_embedding_size)), [self.node_embeddings.shape[0], 1, 1]), dtype=tf.float32)\n",
    "        squared_diff = tf.square(t_1 - t_2)\n",
    "        \n",
    "        # Sum the squared differences along the appropriate axis\n",
    "        distances = tf.sqrt(tf.reduce_sum(squared_diff, axis=-1))\n",
    "        distances = tf.transpose(distances) \n",
    "        distances = tf.reduce_sum(distances, axis=0)\n",
    "\n",
    "        # distances, indices = tf.math.top_k(tf.negative(distances), k=self.k, sorted=True)\n",
    "        # preds = tf.keras.activations.softmax(tf.expand_dims(distances,0))[0]\n",
    "        # preds = tf.convert_to_tensor(preds, dtype=tf.float32)\n",
    "\n",
    "        # sampled_index = tf.random.categorical(tf.negative(tf.math.log(preds))[tf.newaxis, :], num_samples=1)\n",
    "    \n",
    "        return distances, tf.argmin(distances)\n",
    "    \n",
    "    def cosine_similarity(self, y):\n",
    "  \n",
    "        # Calculate the dot product of the matrix and the vector\n",
    "        dot_product = tf.reduce_sum(self.node_embeddings * y, axis=-1)\n",
    "        \n",
    "        # Calculate the magnitudes of the matrix and the vector\n",
    "        matrix_magnitude = tf.norm(self.node_embeddings, axis=-1)\n",
    "        vector_magnitude = tf.norm(y)\n",
    "        \n",
    "        # Calculate the cosine similarity\n",
    "        cosine_similarity = dot_product / (matrix_magnitude * vector_magnitude)\n",
    "                \n",
    "        # similarities, indices = tf.math.top_k(similarities, k=self.k, sorted=True)\n",
    "        # preds = tf.keras.activations.softmax(similarities)[0]\n",
    "        # preds = tf.convert_to_tensor(preds, dtype=tf.float32)\n",
    "\n",
    "        # indices = indices[0]\n",
    "\n",
    "        # sampled_index = tf.random.categorical(tf.math.log(preds), num_samples=1)\n",
    "        \n",
    "        # Return the sampled index\n",
    "        return cosine_similarity, tf.argmax(cosine_similarity)\n",
    "        \n",
    "    def generate_token(self, start_tokens, tokens_generated):\n",
    "        pad_len = maxlen - len(start_tokens)\n",
    "        sample_index = len(start_tokens) - 1\n",
    "        if pad_len < 0:\n",
    "            x = start_tokens[:maxlen]\n",
    "            sample_index = maxlen - 1\n",
    "        elif pad_len > 0:\n",
    "            x = start_tokens + [0] * pad_len\n",
    "        else:\n",
    "            x = start_tokens\n",
    "        x = np.array([x])\n",
    "        y = self.model.predict(x, verbose=0)\n",
    "        measurements, sample_token = self.euclidean_distance(y[0][sample_index]) if self.method == 'euclidean' else self.cosine_similarity(y[0][sample_index])\n",
    "        tokens_generated.append(sample_token)\n",
    "        start_tokens.append(sample_token)\n",
    "        num_tokens_generated = len(tokens_generated)\n",
    "\n",
    "        return start_tokens, tokens_generated, num_tokens_generated, y, measurements\n",
    "\n",
    "    def get_generated_text(self, tokens_generated):\n",
    "        return \" \".join(\n",
    "            [self.detokenize(_) for _ in tokens_generated])\n",
    "        \n",
    "    def get_text(self, tokens_generated):\n",
    "        return \" \".join(\n",
    "            [self.detokenize(_) for _ in self.start_tokens + tokens_generated])\n",
    "        \n",
    "    def on_epoch_end(self, epoch, logs=None):\n",
    "        start_tokens = [_ for _ in self.start_tokens]\n",
    "        if (epoch + 1) % self.print_every != 0:\n",
    "            return\n",
    "        num_tokens_generated = 0\n",
    "        tokens_generated = []\n",
    "        raw_outputs = []\n",
    "        while num_tokens_generated <= self.max_tokens:\n",
    "            start_tokens, tokens_generated, num_tokens_generated, raw_output, measurements = self.generate_token(start_tokens, tokens_generated)\n",
    "            raw_outputs.append(raw_output)\n",
    "            \n",
    "        txt = self.get_text(tokens_generated)\n",
    "        print(f\"generated text:\\n{txt}\\n\")\n",
    "\n",
    "        self.yes_count += 1 if 'yes' in txt else 0\n",
    "        self.no_count += 1 if 'no' in txt else 0\n",
    "\n",
    "        return txt, raw_outputs\n",
    "    \n",
    "    def generate(self):\n",
    "        return self.on_epoc_end(1)\n",
    "\n",
    "# Tokenize starting prompt\n",
    "word_to_index = {}\n",
    "for index, word in enumerate(vocab):\n",
    "    word_to_index[word] = index\n",
    "\n",
    "def callback(start_prompt, model=None, top_k=10, method='euclidean'):\n",
    "    start_tokens = [word_to_index.get(_, 1) for _ in start_prompt.split()]\n",
    "    num_tokens_generated = 10\n",
    "    return TextGenerator(num_tokens_generated, start_tokens, vocab, final_embeddings, top_k=top_k, method=method) if not model else TextGenerator(num_tokens_generated, start_tokens, vocab, final_embeddings, model, top_k, method=method)"
   ]
  },
  {
   "cell_type": "code",
   "execution_count": 21,
   "id": "643dd0da-acfd-4966-aa28-9841f6395271",
   "metadata": {
    "jupyter": {
     "source_hidden": true
    }
   },
   "outputs": [],
   "source": [
    "class TokenAndPositionEmbedding(layers.Layer):\n",
    "    def __init__(self, maxlen, vocab_size, embed_dim, **kwargs):\n",
    "        super().__init__(**kwargs)\n",
    "        self.token_emb = layers.Embedding(input_dim=vocab_size, output_dim=embed_dim)\n",
    "        self.pos_emb = layers.Embedding(input_dim=maxlen, output_dim=embed_dim)\n",
    "\n",
    "    def call(self, x):\n",
    "        maxlen = tf.shape(x)[-1]  # Modified line\n",
    "        positions = tf.range(0, maxlen, 1)  # Modified line\n",
    "        positions = self.pos_emb(positions)\n",
    "        x = self.token_emb(x)\n",
    "        return x + positions"
   ]
  },
  {
   "cell_type": "code",
   "execution_count": 22,
   "id": "7146048c-63e5-4c02-956a-9990a8c75fed",
   "metadata": {
    "jupyter": {
     "source_hidden": true
    }
   },
   "outputs": [],
   "source": [
    "class NodeEmbedding(layers.Layer):\n",
    "    def __init__(self, node_embed_dim, node_embeddings, **kwargs):\n",
    "        super().__init__(**kwargs)\n",
    "        self.node_embeddings = tf.constant(node_embeddings, dtype=tf.float32)\n",
    "        self.dense = layers.Dense(node_embed_dim)\n",
    "\n",
    "    def call(self, x):\n",
    "         # Reshape x to add a new dimension for embedding\n",
    "        node_indices = tf.cast(tf.math.round(x), tf.int32)\n",
    "        node_emb = tf.gather(self.node_embeddings, node_indices)\n",
    "        node_emb = self.dense(node_emb)  # Apply dense layer to each token embedding\n",
    "        return node_emb"
   ]
  },
  {
   "cell_type": "code",
   "execution_count": 23,
   "id": "5bffb5b8-3ee3-406f-83aa-4780955d4da3",
   "metadata": {},
   "outputs": [],
   "source": [
    "print_output = False"
   ]
  },
  {
   "cell_type": "code",
   "execution_count": 35,
   "id": "55a846ea-5ac4-4567-87ec-f8fa941def77",
   "metadata": {},
   "outputs": [
    {
     "name": "stdout",
     "output_type": "stream",
     "text": [
      "Model: \"model_2\"\n",
      "_________________________________________________________________\n",
      "Layer (type)                 Output Shape              Param #   \n",
      "=================================================================\n",
      "input_4 (InputLayer)         [(None, 10)]              0         \n",
      "_________________________________________________________________\n",
      "node_embedding_layer (NodeEm (None, 10, 2, 256)        2816      \n",
      "_________________________________________________________________\n",
      "node_transformer_layer (Tran (None, 10, 2, 256)        658688    \n",
      "_________________________________________________________________\n",
      "graph_embedding_output (Dens (None, 10, 2, 10)         2570      \n",
      "=================================================================\n",
      "Total params: 664,074\n",
      "Trainable params: 664,074\n",
      "Non-trainable params: 0\n",
      "_________________________________________________________________\n"
     ]
    }
   ],
   "source": [
    "embed_dim = 256  # Embedding size for each token\n",
    "num_heads = 2  # Number of attention heads\n",
    "feed_forward_dim = 256  # Hidden layer size in feed forward network inside transformer\n",
    "node_embedding_dim = graph_embedding_size * 2\n",
    "\n",
    "def get_node_embedding_weights(model):\n",
    "    return model.get_layer('node_embedding_layer').get_weights()\n",
    "\n",
    "def set_node_embedding_weights(model, weights):\n",
    "    return model.get_layer('node_embedding_layer').set_weights(weights)\n",
    "\n",
    "def get_transformer_weights(model, transformer_name, output_name):\n",
    "    weights = []\n",
    "    weights.append(model.get_layer(transformer_name).get_weights())\n",
    "    weights.append(model.get_layer(output_name).get_weights())\n",
    "    return weights\n",
    "    \n",
    "def set_transformer_weights(model, transformer_name, output_name, weights):\n",
    "    model.get_layer(transformer_name).set_weights(weights[0])\n",
    "    model.get_layer(output_name).set_weights(weights[1])\n",
    "\n",
    "def cosine_similarity_loss(y_true, y_pred):\n",
    "    # Normalize the vectors\n",
    "    y_true_normalized = tf.nn.l2_normalize(y_true, axis=-1)\n",
    "    y_pred_normalized = tf.nn.l2_normalize(y_pred, axis=-1)\n",
    "    \n",
    "    # Calculate cosine similarity\n",
    "    cosine_similarities = tf.reduce_sum(tf.multiply(y_true_normalized, y_pred_normalized), axis=-1)\n",
    "\n",
    "    # if print_output:\n",
    "    # tf.print(1 - cosine_similarities, summarize=-1)\n",
    "    \n",
    "    # Return 1 - cosine similarity as the loss\n",
    "    return 1 - cosine_similarities\n",
    "\n",
    "xyz = []\n",
    "def euclidean_distance_loss(y_true, y_pred):\n",
    "    # y_p, y_t = y_pred[0][0], y_true[0][0]\n",
    "\n",
    "    # # # Create a 3D axis\n",
    "        \n",
    "    # x = [y_p[0], y_t[0]]\n",
    "    # y = [y_p[1], y_t[1]]\n",
    "    # z = [y_p[2], y_t[2]]\n",
    "    # xyz.append([x,y,z])\n",
    "    \n",
    "    # Calculate the squared differences between corresponding elements\n",
    "    squared_diff = tf.square(y_true - y_pred)\n",
    "    \n",
    "    # Sum the squared differences along the appropriate axis\n",
    "    loss = tf.reduce_sum(squared_diff, axis=-1)\n",
    "\n",
    "    return loss\n",
    "\n",
    "tf.config.run_functions_eagerly(True)\n",
    "\n",
    "def create_model():\n",
    "    inputs = layers.Input(shape=(maxlen,), dtype=\"float32\")\n",
    "    \n",
    "    # embedding_layer = TokenAndPositionEmbedding(maxlen, vocab_size, embed_dim, name='embedding_layer')\n",
    "    # x = embedding_layer(inputs)\n",
    "    # transformer_block = TransformerBlock(embed_dim, num_heads, feed_forward_dim, name='transformer_layer')\n",
    "    # x = transformer_block(x)\n",
    "\n",
    "    # outputs_1 = layers.Dense(vocab_size, name='text_output')(x)\n",
    "\n",
    "    node_embedding_layer = NodeEmbedding(embed_dim, final_embeddings, name='node_embedding_layer')\n",
    "    x2 = node_embedding_layer(inputs)\n",
    "    # x2 = tf.transpose(x2, perm=[0, 2, 1, 3])  # (batch_size, vector_count, seq_len, vector_dim)\n",
    "    transformer_block = TransformerBlock(embed_dim, num_heads, feed_forward_dim, name='node_transformer_layer')\n",
    "    x2 = transformer_block(x2)\n",
    "\n",
    "    # Calculate final output node embeddings\n",
    "    outputs_2 = layers.Dense(node_embedding_dim / 2, name='graph_embedding_output')(x2)\n",
    "    \n",
    "    # Concatenate outputs of both branches\n",
    "    # outputs = layers.Average()([outputs_1, outputs_2])\n",
    "\n",
    "    outputs = outputs_2\n",
    "\n",
    "    # Softmax layer\n",
    "    # softmax_output = layers.Softmax()(outputs)\n",
    "    \n",
    "    model = tf.keras.Model(inputs=inputs, outputs=[outputs])\n",
    "    # loss_fn = tf.keras.losses.SparseCategoricalCrossentropy(from_logits=True)\n",
    "    model.compile(\n",
    "        optimizer=keras.optimizers.Adam(0.001),\n",
    "        loss=[euclidean_distance_loss],\n",
    "        metrics=['mse']\n",
    "    )  # No loss and optimization based on word embeddings from transformer block\n",
    "    return model\n",
    "\n",
    "model = create_model()\n",
    "model.summary()"
   ]
  },
  {
   "cell_type": "code",
   "execution_count": 38,
   "id": "1cce73d0-6f9a-4586-bc1c-b9087b379b6c",
   "metadata": {},
   "outputs": [],
   "source": [
    "history = model.fit(graph_ds, verbose=0, epochs=1, callbacks=[])"
   ]
  },
  {
   "cell_type": "code",
   "execution_count": 39,
   "id": "0ebde436-727e-4250-beb3-17f2fc256281",
   "metadata": {},
   "outputs": [
    {
     "data": {
      "image/png": "[encoded data removed]",
      "text/plain": [
       "<Figure size 640x480 with 1 Axes>"
      ]
     },
     "metadata": {},
     "output_type": "display_data"
    }
   ],
   "source": [
    "# plt.plot(history.history['mse'])\n",
    "plt.plot(history.history['loss'])\n",
    "plt.title('Model Results')\n",
    "plt.ylabel('loss')\n",
    "plt.xlabel('epoch')\n",
    "# plt.legend(['mse', 'loss'], loc='upper right')\n",
    "plt.show()"
   ]
  },
  {
   "cell_type": "code",
   "execution_count": 2,
   "id": "9c090925-616c-42c6-85b2-389cd5a5b5e4",
   "metadata": {},
   "outputs": [
    {
     "ename": "NameError",
     "evalue": "name 'final_embeddings' is not defined",
     "output_type": "error",
     "traceback": [
      "\u001b[1;31m---------------------------------------------------------------------------\u001b[0m",
      "\u001b[1;31mNameError\u001b[0m                                 Traceback (most recent call last)",
      "\u001b[1;32m~\\AppData\\Local\\Temp\\ipykernel_6448\\762397203.py\u001b[0m in \u001b[0;36m<module>\u001b[1;34m\u001b[0m\n\u001b[1;32m----> 1\u001b[1;33m \u001b[0memb\u001b[0m \u001b[1;33m=\u001b[0m  \u001b[0mfinal_embeddings\u001b[0m\u001b[1;33m[\u001b[0m\u001b[0mvocab\u001b[0m\u001b[1;33m.\u001b[0m\u001b[0mindex\u001b[0m\u001b[1;33m(\u001b[0m\u001b[1;34m'organ'\u001b[0m\u001b[1;33m)\u001b[0m\u001b[1;33m]\u001b[0m\u001b[1;33m\u001b[0m\u001b[1;33m\u001b[0m\u001b[0m\n\u001b[0m\u001b[0;32m      2\u001b[0m \u001b[0myy\u001b[0m \u001b[1;33m=\u001b[0m \u001b[0mfinal_embeddings\u001b[0m\u001b[1;33m[\u001b[0m\u001b[0mvocab\u001b[0m\u001b[1;33m.\u001b[0m\u001b[0mindex\u001b[0m\u001b[1;33m(\u001b[0m\u001b[1;34m'piano'\u001b[0m\u001b[1;33m)\u001b[0m\u001b[1;33m]\u001b[0m\u001b[1;33m\u001b[0m\u001b[1;33m\u001b[0m\u001b[0m\n\u001b[0;32m      3\u001b[0m \u001b[0memb\u001b[0m\u001b[1;33m,\u001b[0m \u001b[0myy\u001b[0m\u001b[1;33m,\u001b[0m \u001b[0meuclidean_distance\u001b[0m\u001b[1;33m(\u001b[0m\u001b[0memb\u001b[0m\u001b[1;33m,\u001b[0m\u001b[0myy\u001b[0m\u001b[1;33m)\u001b[0m\u001b[1;33m\u001b[0m\u001b[1;33m\u001b[0m\u001b[0m\n",
      "\u001b[1;31mNameError\u001b[0m: name 'final_embeddings' is not defined"
     ]
    }
   ],
   "source": [
    "emb =  final_embeddings[vocab.index('organ')]\n",
    "yy = final_embeddings[vocab.index('piano')]\n",
    "emb, yy, euclidean_distance(emb,yy)"
   ]
  },
  {
   "cell_type": "code",
   "execution_count": 324,
   "id": "76b301e7-6244-4849-b12d-494c12f42a08",
   "metadata": {},
   "outputs": [
    {
     "data": {
      "text/plain": [
       "([-0.21549219, 0.09164345, 0.1297471, 0.14354843],\n",
       " [-0.5062725, 0.06012138, 1.0717416, 1.781855],\n",
       " 0.7833428784823357,\n",
       " 1.9123150590099414,\n",
       " array([8.45531887e-02, 9.93640897e-04, 8.87353638e-01, 2.68404842e+00]),\n",
       " 1.9123150590099414)"
      ]
     },
     "execution_count": 324,
     "metadata": {},
     "output_type": "execute_result"
    }
   ],
   "source": [
    "emb =  [-0.21549219,  0.09164345,  0.1297471,   0.14354843]\n",
    "yy = [-0.5062725,   0.06012138,  1.0717416,   1.781855]\n",
    "emb, yy, euclidean_distance(emb,yy)"
   ]
  },
  {
   "cell_type": "code",
   "execution_count": 54,
   "id": "35e7f1f5-a14d-4168-a7c4-922e4626a92d",
   "metadata": {
    "scrolled": true
   },
   "outputs": [
    {
     "ename": "TypeError",
     "evalue": "only integer scalar arrays can be converted to a scalar index",
     "output_type": "error",
     "traceback": [
      "\u001b[1;31m---------------------------------------------------------------------------\u001b[0m",
      "\u001b[1;31mTypeError\u001b[0m                                 Traceback (most recent call last)",
      "\u001b[1;32m~\\AppData\\Local\\Temp\\ipykernel_6448\\208549103.py\u001b[0m in \u001b[0;36m<module>\u001b[1;34m\u001b[0m\n\u001b[0;32m      1\u001b[0m \u001b[0mresult\u001b[0m \u001b[1;33m=\u001b[0m \u001b[0mgenerator\u001b[0m\u001b[1;33m.\u001b[0m\u001b[0mmodel\u001b[0m\u001b[1;33m.\u001b[0m\u001b[0mpredict\u001b[0m\u001b[1;33m(\u001b[0m\u001b[1;33m[\u001b[0m\u001b[1;33m[\u001b[0m\u001b[1;36m2\u001b[0m\u001b[1;33m,\u001b[0m \u001b[1;36m4\u001b[0m\u001b[1;33m,\u001b[0m \u001b[1;36m5\u001b[0m\u001b[1;33m,\u001b[0m \u001b[1;36m21\u001b[0m\u001b[1;33m,\u001b[0m \u001b[1;36m3\u001b[0m\u001b[1;33m,\u001b[0m \u001b[1;36m6\u001b[0m\u001b[1;33m,\u001b[0m \u001b[1;36m23\u001b[0m\u001b[1;33m,\u001b[0m \u001b[1;36m0\u001b[0m\u001b[1;33m,\u001b[0m \u001b[1;36m0\u001b[0m\u001b[1;33m,\u001b[0m \u001b[1;36m0\u001b[0m\u001b[1;33m]\u001b[0m\u001b[1;33m]\u001b[0m\u001b[1;33m)\u001b[0m\u001b[1;33m\u001b[0m\u001b[1;33m\u001b[0m\u001b[0m\n\u001b[0;32m      2\u001b[0m \u001b[0m_\u001b[0m\u001b[1;33m,\u001b[0m \u001b[0mtoken\u001b[0m \u001b[1;33m=\u001b[0m \u001b[0mgenerator\u001b[0m\u001b[1;33m.\u001b[0m\u001b[0meuclidean_distance\u001b[0m\u001b[1;33m(\u001b[0m\u001b[0mresult\u001b[0m\u001b[1;33m[\u001b[0m\u001b[1;36m0\u001b[0m\u001b[1;33m]\u001b[0m\u001b[1;33m[\u001b[0m\u001b[1;36m5\u001b[0m\u001b[1;33m]\u001b[0m\u001b[1;33m)\u001b[0m\u001b[1;33m\u001b[0m\u001b[1;33m\u001b[0m\u001b[0m\n\u001b[1;32m----> 3\u001b[1;33m \u001b[0mvocab\u001b[0m\u001b[1;33m[\u001b[0m\u001b[0mtoken\u001b[0m\u001b[1;33m]\u001b[0m\u001b[1;33m\u001b[0m\u001b[1;33m\u001b[0m\u001b[0m\n\u001b[0m",
      "\u001b[1;32mD:\\Programs\\miniconda3\\envs\\tf-37\\lib\\site-packages\\tensorflow\\python\\framework\\ops.py\u001b[0m in \u001b[0;36m__index__\u001b[1;34m(self)\u001b[0m\n\u001b[0;32m    987\u001b[0m \u001b[1;33m\u001b[0m\u001b[0m\n\u001b[0;32m    988\u001b[0m   \u001b[1;32mdef\u001b[0m \u001b[0m__index__\u001b[0m\u001b[1;33m(\u001b[0m\u001b[0mself\u001b[0m\u001b[1;33m)\u001b[0m\u001b[1;33m:\u001b[0m\u001b[1;33m\u001b[0m\u001b[1;33m\u001b[0m\u001b[0m\n\u001b[1;32m--> 989\u001b[1;33m     \u001b[1;32mreturn\u001b[0m \u001b[0mself\u001b[0m\u001b[1;33m.\u001b[0m\u001b[0m_numpy\u001b[0m\u001b[1;33m(\u001b[0m\u001b[1;33m)\u001b[0m\u001b[1;33m.\u001b[0m\u001b[0m__index__\u001b[0m\u001b[1;33m(\u001b[0m\u001b[1;33m)\u001b[0m\u001b[1;33m\u001b[0m\u001b[1;33m\u001b[0m\u001b[0m\n\u001b[0m\u001b[0;32m    990\u001b[0m \u001b[1;33m\u001b[0m\u001b[0m\n\u001b[0;32m    991\u001b[0m   \u001b[1;32mdef\u001b[0m \u001b[0m__bool__\u001b[0m\u001b[1;33m(\u001b[0m\u001b[0mself\u001b[0m\u001b[1;33m)\u001b[0m\u001b[1;33m:\u001b[0m\u001b[1;33m\u001b[0m\u001b[1;33m\u001b[0m\u001b[0m\n",
      "\u001b[1;31mTypeError\u001b[0m: only integer scalar arrays can be converted to a scalar index"
     ]
    }
   ],
   "source": [
    "result = generator.model.predict([[2, 4, 5, 21, 3, 6, 23, 0, 0, 0]])\n",
    "_, token = generator.euclidean_distance(result[0][5])\n",
    "vocab[token]"
   ]
  },
  {
   "cell_type": "code",
   "execution_count": 45,
   "id": "1c4a5f37-eb02-402f-a397-98915cf43202",
   "metadata": {
    "scrolled": true
   },
   "outputs": [
    {
     "name": "stdout",
     "output_type": "stream",
     "text": [
      "generated text:\n",
      "what does a car have ? strings .         \n",
      "\n"
     ]
    }
   ],
   "source": [
    "generator = callback('what does a piano have ?', model, 1)\n",
    "output = generator.on_epoch_end(0)"
   ]
  },
  {
   "cell_type": "code",
   "execution_count": 47,
   "id": "38a17fcb-d0d3-4944-9852-5cfa23c1eafb",
   "metadata": {
    "scrolled": true
   },
   "outputs": [
    {
     "name": "stdout",
     "output_type": "stream",
     "text": [
      "0  3.341709829859696\n",
      "1 [UNK] 3.4283848717422276\n",
      "2 what 3.3451431164689835\n",
      "3 have 3.51723526526869\n",
      "4 does 3.4724393238161744\n",
      "5 a 3.559262652550028\n",
      "6 ? 3.439804803372749\n",
      "7 . 3.43164785279487\n",
      "8 violin 4.004863250992952\n",
      "9 trombone 4.298667501718894\n",
      "10 strings 1.9866431631759711\n",
      "11 pedals 2.7707801929984925\n",
      "12 organ 4.376937040756614\n",
      "13 neck 2.0050264682391736\n",
      "14 keys 2.6865616528903673\n",
      "15 guitar 3.959539564244441\n",
      "16 wheels 2.8839906218591467\n",
      "17 vehicle 4.074920117319137\n",
      "18 trunk 3.0953244845875565\n",
      "19 truck 4.143528647535565\n",
      "20 slide 2.641437052649366\n",
      "21 piano 4.429146498967721\n",
      "22 part 2.9435720434348607\n",
      "23 instrument 4.620867340865213\n",
      "24 car 4.041784512319878\n",
      "25 bell 2.586992071592923\n",
      "26 baggage 3.003567945715464\n",
      "10 strings 1.9866431631759711\n"
     ]
    }
   ],
   "source": [
    "graph_model = tf.keras.Model(inputs=model.input, outputs=model.get_layer('graph_embedding_output').output)\n",
    "text = 'what does a guitar have ?'\n",
    "generator = callback(text, graph_model, 1)\n",
    "start_tokens, tokens_generated, num_tokens_generated, raw_output, distances = generator.generate_token([_ for _ in generator.start_tokens], [])\n",
    "index = len(generator.start_tokens) - 1\n",
    "\n",
    "# for j in range(maxlen):\n",
    "dists = []\n",
    "for i, word in enumerate(vocab):\n",
    "    dist = euclidean_distance(raw_output[0][5],final_embeddings[i])\n",
    "    dists.append(dist)\n",
    "    print(i, word, dist)\n",
    "sims = np.array(dists)\n",
    "print(np.argmin(dists), vocab[np.argmin(dists)], np.min(dists))"
   ]
  },
  {
   "cell_type": "code",
   "execution_count": 25,
   "id": "f94e2128-0c74-43ba-95aa-9f9aa037f202",
   "metadata": {},
   "outputs": [
    {
     "name": "stdout",
     "output_type": "stream",
     "text": [
      "0  0.87812877\n",
      "1 [UNK] 0.8876415\n",
      "2 what 0.42489213\n",
      "3 a 0.5319029\n",
      "4 ? 0.06366684\n",
      "5 have -0.08206626\n",
      "6 does -0.9477331\n",
      "7 . 0.53725916\n",
      "8 is -0.009818074\n",
      "9 violin 0.91280884\n",
      "10 piano 0.6942938\n",
      "11 instrument 0.9911488\n",
      "12 guitar 0.9265273\n",
      "13 truck 0.32573274\n",
      "14 trombone 0.8505727\n",
      "15 strings 0.9098007\n",
      "16 neck 0.8629197\n",
      "17 car 0.38960567\n",
      "18 wheels 0.4401339\n",
      "19 vehicle 0.39378682\n",
      "20 trunk 0.50748616\n",
      "21 slide 0.82245666\n",
      "22 pedals 0.6554069\n",
      "23 part 0.7562684\n",
      "24 keys 0.6387251\n",
      "25 bell 0.7870046\n",
      "26 baggage 0.5516417\n",
      "11 instrument 0.9911488\n"
     ]
    }
   ],
   "source": [
    "graph_model = tf.keras.Model(inputs=model.input, outputs=model.get_layer('graph_embedding_output').output)\n",
    "text = 'what does a guitar have ?'\n",
    "generator = callback(text, graph_model, 1)\n",
    "start_tokens, tokens_generated, num_tokens_generated, raw_output, similarities = generator.generate_token([_ for _ in generator.start_tokens], [])\n",
    "index = len(generator.start_tokens) - 1\n",
    "\n",
    "sims = []\n",
    "for i, word in enumerate(vocab):\n",
    "    sim = cosine_sim(raw_output[0][5],final_embeddings[i])\n",
    "    sims.append(sim)\n",
    "    print(i, word, sim)\n",
    "sims = np.array(sims)\n",
    "print(np.argmax(sims), vocab[np.argmax(sims)], np.max(sims))"
   ]
  },
  {
   "cell_type": "code",
   "execution_count": 47,
   "id": "6a80e898-d7c7-43b4-80c7-9e96e6d16f31",
   "metadata": {},
   "outputs": [],
   "source": [
    "node_embedding_model = keras.models.Model(inputs=[model.input], outputs=[model.get_layer('node_embedding_layer').output])"
   ]
  },
  {
   "cell_type": "code",
   "execution_count": 50,
   "id": "23fcfdcd-4301-430a-9604-d83bb5d7050e",
   "metadata": {},
   "outputs": [
    {
     "name": "stdout",
     "output_type": "stream",
     "text": [
      "[[[-0.0706483871 -0.0486265197 -0.0377856493 -0.085362 0.0795560628 -0.0484393835 0.0842361227 0.0526257046 -0.0655002594 0.0395787]\n",
      "  [-0.0559405796 0.0173036568 -0.00897371769 0.0679369 0.0397358909 0.0452947132 0.0143430475 -0.0269985683 -0.0436681286 -0.0103207584]\n",
      "  [0.0143702747 -0.0264601 -0.0707378387 -0.0780530721 -0.0912178755 -0.059351705 -0.0184742454 -0.0432387106 -0.0646067113 -0.0371732228]\n",
      "  [0.0997941568 0.19069542 -0.768233061 -0.334159285 0.531420231 -0.22182034 -1.68538451 -1.59420562 -0.990441203 -0.166704103]\n",
      "  [0.0547014959 -0.0742653608 -0.0740572 -0.0247523077 -0.086257264 -0.0158157349 -0.00403432827 0.0329968445 0.0144187929 -0.00881421566]\n",
      "  [0.0108764647 -0.0157622583 0.02196672 -0.0788157731 -0.0271718502 0.0266319755 0.0534668192 -0.0239151474 -0.0951009542 0.0450587757]\n",
      "  [0.181753233 0.210833102 -0.883068621 -0.195755944 0.205510989 -0.397657216 -1.60041583 -1.7071979 -1.07012415 -0.528042912]\n",
      "  [0.000945639622 0.0307731871 -0.0681264624 -0.0137546537 0.0766858086 0.0734640807 -0.0367329828 0.0264270063 -0.0831712931 0.0620548502]\n",
      "  [0.000945639622 0.0307731871 -0.0681264624 -0.0137546537 0.0766858086 0.0734640807 -0.0367329828 0.0264270063 -0.0831712931 0.0620548502]\n",
      "  [0.000945639622 0.0307731871 -0.0681264624 -0.0137546537 0.0766858086 0.0734640807 -0.0367329828 0.0264270063 -0.0831712931 0.0620548502]]]\n"
     ]
    },
    {
     "data": {
      "text/plain": [
       "array([[[ 0.01858074,  0.04878935,  0.02604956, ...,  0.00790658,\n",
       "          0.00391919,  0.01930735],\n",
       "        [ 0.00465165, -0.01738276,  0.01981785, ...,  0.00195959,\n",
       "         -0.00277636,  0.01789889],\n",
       "        [ 0.03360901,  0.05696961, -0.02010631, ..., -0.01911652,\n",
       "         -0.02830836,  0.03322177],\n",
       "        ...,\n",
       "        [ 0.00689532, -0.01680489,  0.01141854, ...,  0.01218304,\n",
       "         -0.01088931,  0.04582078],\n",
       "        [ 0.00689532, -0.01680489,  0.01141854, ...,  0.01218304,\n",
       "         -0.01088931,  0.04582078],\n",
       "        [ 0.00689532, -0.01680489,  0.01141854, ...,  0.01218304,\n",
       "         -0.01088931,  0.04582078]]], dtype=float32)"
      ]
     },
     "execution_count": 50,
     "metadata": {},
     "output_type": "execute_result"
    }
   ],
   "source": [
    "node_embedding_model.predict([[2, 4, 5, 15, 3, 6, 23, 0, 0, 0]])"
   ]
  },
  {
   "cell_type": "markdown",
   "id": "4897c75c-bb0d-4ad4-a985-0747a9cd2581",
   "metadata": {},
   "source": [
    "### Injection"
   ]
  },
  {
   "cell_type": "code",
   "execution_count": 284,
   "id": "1e450afa-302a-4300-81a0-012bdc5bbf03",
   "metadata": {},
   "outputs": [],
   "source": [
    "def generate_embeddings(model, input):\n",
    "    start_tokens = [word_to_index.get(_, 1) for _ in input.split()]\n",
    "    print(start_tokens)\n",
    "    pad_len = maxlen - len(start_tokens)\n",
    "    sample_index = len(start_tokens) - 1\n",
    "    if pad_len < 0:\n",
    "        x = start_tokens[:maxlen]\n",
    "        sample_index = maxlen - 1\n",
    "    elif pad_len > 0:\n",
    "        x = start_tokens + [0] * pad_len\n",
    "    else:\n",
    "        x = start_tokens\n",
    "    x = np.array([x])\n",
    "    print(sample_index)\n",
    "\n",
    "    return model.predict(x)"
   ]
  },
  {
   "cell_type": "code",
   "execution_count": 285,
   "id": "e46b262a-dfbb-40e1-8020-d2f95d7b2cdd",
   "metadata": {},
   "outputs": [
    {
     "name": "stdout",
     "output_type": "stream",
     "text": [
      "[2, 6, 3, 12, 5, 4]\n",
      "5\n"
     ]
    },
    {
     "data": {
      "text/plain": [
       "['does', 'a', 'guitar', 'have', '?', 'neck', '', '', '', '']"
      ]
     },
     "execution_count": 285,
     "metadata": {},
     "output_type": "execute_result"
    }
   ],
   "source": [
    "final_output = generate_embeddings(model, 'what does a guitar have ?')\n",
    "tokens = []\n",
    "for output in final_output[0]:\n",
    "    tokens.append(vocab[tf.argmax(output)])\n",
    "tokens"
   ]
  },
  {
   "cell_type": "code",
   "execution_count": 287,
   "id": "411c0c5c-01cd-406b-89b9-cb275dededec",
   "metadata": {},
   "outputs": [],
   "source": [
    "embedding_model = keras.Model(inputs=[model.input], outputs=[model.get_layer('embedding_layer').output])\n",
    "transformer_model = keras.models.Sequential([\n",
    "    keras.layers.Input((10,128)),\n",
    "    TransformerBlock(embed_dim, num_heads, feed_forward_dim, name='transformer_layer'),\n",
    "    keras.layers.Dense(vocab_size, name='text_output')\n",
    "])\n",
    "original_weights = get_transformer_weights(model, 'transformer_layer', 'text_output')\n",
    "set_transformer_weights(transformer_model, 'transformer_layer', 'text_output', original_weights)"
   ]
  },
  {
   "cell_type": "code",
   "execution_count": 288,
   "id": "7d02b0ee-c91c-4f9f-8d8c-25c97c894b3e",
   "metadata": {
    "scrolled": true
   },
   "outputs": [
    {
     "name": "stdout",
     "output_type": "stream",
     "text": [
      "x Tensor(\"strided_slice:0\", shape=(None, 10), dtype=int64)\n",
      "y Tensor(\"strided_slice_1:0\", shape=(None, 10), dtype=int64)\n",
      "[2, 6, 3, 12, 5, 4]\n",
      "5\n"
     ]
    },
    {
     "data": {
      "text/plain": [
       "['is', 'a', 'guitar', 'have', '?', 'neck', '', '', '', '']"
      ]
     },
     "execution_count": 288,
     "metadata": {},
     "output_type": "execute_result"
    }
   ],
   "source": [
    "texts = ['what does a guitar have ?']\n",
    "dataset = tf_data.Dataset.from_tensor_slices(texts)\n",
    "dataset = dataset.map(prepare_lm_inputs_labels)\n",
    "vectors = generate_embeddings(embedding_model, 'what does a guitar have ?')\n",
    "outputs = transformer_model.predict(vectors)\n",
    "tokens = []\n",
    "for output in outputs[0]:\n",
    "    tokens.append(vocab[tf.argmax(output)])\n",
    "tokens"
   ]
  },
  {
   "cell_type": "code",
   "execution_count": 319,
   "id": "bd6066c8-811e-47bd-80e6-a1adb0cd0743",
   "metadata": {},
   "outputs": [],
   "source": [
    "class CustomNodeEmbedding(layers.Layer):\n",
    "    def __init__(self, node_embed_dim, **kwargs):\n",
    "        super().__init__(**kwargs)\n",
    "        self.node_embed_dim = node_embed_dim\n",
    "        self.dense = layers.Dense(node_embed_dim)\n",
    "\n",
    "    def call(self, x):\n",
    "        node_emb = self.dense(x)  # Apply dense layer to each token embedding\n",
    "        return node_emb"
   ]
  },
  {
   "cell_type": "code",
   "execution_count": 388,
   "id": "4895cfc9-be92-48b2-ba1c-2269585ab8d3",
   "metadata": {},
   "outputs": [],
   "source": [
    "custom_node_embedding_model = keras.models.Sequential([\n",
    "    keras.layers.Input((graph_embedding_size)),\n",
    "    CustomNodeEmbedding(embed_dim)\n",
    "]\n",
    ")\n",
    "\n",
    "custom_node_embedding_model.layers[0].set_weights(model.get_layer('node_embedding_layer').get_weights())\n",
    "\n",
    "\n",
    "node_embedding_model = keras.Model(inputs=[model.input], outputs=[model.get_layer('node_embedding_layer').output])\n",
    "# set_node_embedding_weights(node_embedding_model, get_node_embedding_weights(model))\n",
    "node_transformer_model = keras.models.Sequential([\n",
    "    keras.layers.Input((10,128)),\n",
    "    TransformerBlock(embed_dim, num_heads, feed_forward_dim, name='node_transformer_layer'),\n",
    "    keras.layers.Dense(vocab_size, name='graph_output')\n",
    "])\n",
    "original_weights = get_transformer_weights(model, 'node_transformer_layer', 'graph_output')\n",
    "set_transformer_weights(node_transformer_model, 'node_transformer_layer', 'graph_output', original_weights)"
   ]
  },
  {
   "cell_type": "code",
   "execution_count": 440,
   "id": "11e6dc57-14dd-416c-a6de-ac2a250dac43",
   "metadata": {},
   "outputs": [
    {
     "data": {
      "text/plain": [
       "0.9145890235900879"
      ]
     },
     "execution_count": 440,
     "metadata": {},
     "output_type": "execute_result"
    }
   ],
   "source": [
    "embeddings = [final_embeddings[vocab.index(word)] for word in 'what does a guitar have ?'.split(' ')]\n",
    "for i in range(maxlen - len(embeddings)):\n",
    "    embeddings.append(final_embeddings[0])\n",
    "\n",
    "embeddings = np.array(embeddings)\n",
    "# embeddings[3][0] += 0.1\n",
    "embeddings[3] = final_embeddings[vocab.index('piano']\n",
    "embeddings[3][0]"
   ]
  },
  {
   "cell_type": "code",
   "execution_count": 441,
   "id": "9490897a-2aa3-4745-9698-7668bd775a58",
   "metadata": {},
   "outputs": [
    {
     "name": "stdout",
     "output_type": "stream",
     "text": [
      "x Tensor(\"strided_slice:0\", shape=(None, 10), dtype=int64)\n",
      "y Tensor(\"strided_slice_1:0\", shape=(None, 10), dtype=int64)\n"
     ]
    },
    {
     "data": {
      "text/plain": [
       "['is', 'a', 'truck', '.', '', '', '', '', '', '']"
      ]
     },
     "execution_count": 441,
     "metadata": {},
     "output_type": "execute_result"
    }
   ],
   "source": [
    "texts = ['what does a piano have ? neck.']\n",
    "dataset = tf_data.Dataset.from_tensor_slices(texts)\n",
    "dataset = dataset.map(prepare_lm_inputs_labels)\n",
    "# vectors = generate_embeddings(node_embedding_model, 'what does a guitar have ?')\n",
    "vectors = custom_node_embedding_model.predict(embeddings)\n",
    "vectors = np.expand_dims(vectors, axis=0)\n",
    "outputs = node_transformer_model.predict(vectors)\n",
    "tokens = []\n",
    "for output in outputs[0]:\n",
    "    tokens.append(vocab[tf.argmax(output)])\n",
    "tokens"
   ]
  },
  {
   "cell_type": "code",
   "execution_count": 442,
   "id": "59f4c460-8fc4-41df-a3dc-8334a61d1626",
   "metadata": {},
   "outputs": [
    {
     "name": "stdout",
     "output_type": "stream",
     "text": [
      " 8.288712\n",
      "[UNK] 0.97452706\n",
      "what -1.2253331\n",
      "a -0.7780448\n",
      "? 2.1183078\n",
      "have -0.8638337\n",
      "does -1.9659276\n",
      ". -0.2755831\n",
      "is -1.4778473\n",
      "violin -1.8833617\n",
      "piano -2.9525533\n",
      "instrument 6.613864\n",
      "guitar -1.6347598\n",
      "truck 0.025299525\n",
      "strings 5.4872427\n",
      "neck 4.991041\n",
      "car -1.252157\n",
      "wheels -2.1652482\n",
      "vehicle -0.6221498\n",
      "trunk -1.6674696\n",
      "pedals -1.3050263\n",
      "part -1.7248017\n",
      "keys -0.9800917\n",
      "baggage -1.3884528\n"
     ]
    }
   ],
   "source": [
    "for token, val in zip(vocab, outputs[0][5]):\n",
    "    print(token,val)"
   ]
  },
  {
   "cell_type": "code",
   "execution_count": 412,
   "id": "e844789a-13df-4243-875c-9a6e6901da2a",
   "metadata": {},
   "outputs": [
    {
     "data": {
      "text/plain": [
       "-1.9307133"
      ]
     },
     "execution_count": 412,
     "metadata": {},
     "output_type": "execute_result"
    }
   ],
   "source": [
    "outputs[0][4][vocab.index('what')]"
   ]
  },
  {
   "cell_type": "code",
   "execution_count": 194,
   "id": "b8639bf1-215d-44c9-97ce-92eff7c04554",
   "metadata": {},
   "outputs": [
    {
     "data": {
      "text/plain": [
       "(array([-0.07046904,  0.06283123, -0.02485108,  0.09587689,  0.142355  ,\n",
       "        -0.06232064, -0.00856199]),\n",
       " array([-0.01341391,  0.1197396 ,  0.12872545,  0.09337865, -0.01016603,\n",
       "         0.11014863, -0.12191909]),\n",
       " array([-0.08136626,  0.05501175,  0.03980896,  0.09844395,  0.08715851,\n",
       "         0.13626422,  0.13247739]),\n",
       " array([ 0.84344125, -0.02662537, -1.49284065,  0.77122533, -1.93575537,\n",
       "        -1.42882872,  2.14216161]))"
      ]
     },
     "execution_count": 194,
     "metadata": {},
     "output_type": "execute_result"
    }
   ],
   "source": [
    "final_embeddings[vocab.index('what')],final_embeddings[vocab.index('does')], final_embeddings[vocab.index('a')], final_embeddings[vocab.index('piano')]"
   ]
  },
  {
   "cell_type": "code",
   "execution_count": null,
   "id": "249b4b1c-c345-43c2-8ca6-e90b9b951ed5",
   "metadata": {},
   "outputs": [],
   "source": []
  },
  {
   "cell_type": "code",
   "execution_count": null,
   "id": "2fc20091-ad10-4e12-9e93-bf6fb7b58f85",
   "metadata": {},
   "outputs": [],
   "source": []
  }
 ],
 "metadata": {
  "kernelspec": {
   "display_name": "tf-37",
   "language": "python",
   "name": "tf-37"
  },
  "language_info": {
   "codemirror_mode": {
    "name": "ipython",
    "version": 3
   },
   "file_extension": ".py",
   "mimetype": "text/x-python",
   "name": "python",
   "nbconvert_exporter": "python",
   "pygments_lexer": "ipython3",
   "version": "3.7.2"
  }
 },
 "nbformat": 4,
 "nbformat_minor": 5
}
